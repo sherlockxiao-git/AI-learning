{
 "cells": [
  {
   "cell_type": "code",
   "execution_count": 2,
   "metadata": {},
   "outputs": [],
   "source": [
    "import numpy as np\n",
    "import pandas as pd\n",
    "import matplotlib.pyplot as plt\n",
    "from sklearn.model_selection import train_test_split"
   ]
  },
  {
   "cell_type": "code",
   "execution_count": 3,
   "metadata": {},
   "outputs": [
    {
     "data": {
      "text/html": [
       "<div>\n",
       "<style scoped>\n",
       "    .dataframe tbody tr th:only-of-type {\n",
       "        vertical-align: middle;\n",
       "    }\n",
       "\n",
       "    .dataframe tbody tr th {\n",
       "        vertical-align: top;\n",
       "    }\n",
       "\n",
       "    .dataframe thead th {\n",
       "        text-align: right;\n",
       "    }\n",
       "</style>\n",
       "<table border=\"1\" class=\"dataframe\">\n",
       "  <thead>\n",
       "    <tr style=\"text-align: right;\">\n",
       "      <th></th>\n",
       "      <th>0.051267</th>\n",
       "      <th>0.69956</th>\n",
       "      <th>1</th>\n",
       "    </tr>\n",
       "  </thead>\n",
       "  <tbody>\n",
       "    <tr>\n",
       "      <th>0</th>\n",
       "      <td>-0.092742</td>\n",
       "      <td>0.684940</td>\n",
       "      <td>1</td>\n",
       "    </tr>\n",
       "    <tr>\n",
       "      <th>1</th>\n",
       "      <td>-0.213710</td>\n",
       "      <td>0.692250</td>\n",
       "      <td>1</td>\n",
       "    </tr>\n",
       "    <tr>\n",
       "      <th>2</th>\n",
       "      <td>-0.375000</td>\n",
       "      <td>0.502190</td>\n",
       "      <td>1</td>\n",
       "    </tr>\n",
       "    <tr>\n",
       "      <th>3</th>\n",
       "      <td>-0.513250</td>\n",
       "      <td>0.465640</td>\n",
       "      <td>1</td>\n",
       "    </tr>\n",
       "    <tr>\n",
       "      <th>4</th>\n",
       "      <td>-0.524770</td>\n",
       "      <td>0.209800</td>\n",
       "      <td>1</td>\n",
       "    </tr>\n",
       "    <tr>\n",
       "      <th>...</th>\n",
       "      <td>...</td>\n",
       "      <td>...</td>\n",
       "      <td>...</td>\n",
       "    </tr>\n",
       "    <tr>\n",
       "      <th>112</th>\n",
       "      <td>-0.720620</td>\n",
       "      <td>0.538740</td>\n",
       "      <td>0</td>\n",
       "    </tr>\n",
       "    <tr>\n",
       "      <th>113</th>\n",
       "      <td>-0.593890</td>\n",
       "      <td>0.494880</td>\n",
       "      <td>0</td>\n",
       "    </tr>\n",
       "    <tr>\n",
       "      <th>114</th>\n",
       "      <td>-0.484450</td>\n",
       "      <td>0.999270</td>\n",
       "      <td>0</td>\n",
       "    </tr>\n",
       "    <tr>\n",
       "      <th>115</th>\n",
       "      <td>-0.006336</td>\n",
       "      <td>0.999270</td>\n",
       "      <td>0</td>\n",
       "    </tr>\n",
       "    <tr>\n",
       "      <th>116</th>\n",
       "      <td>0.632650</td>\n",
       "      <td>-0.030612</td>\n",
       "      <td>0</td>\n",
       "    </tr>\n",
       "  </tbody>\n",
       "</table>\n",
       "<p>117 rows × 3 columns</p>\n",
       "</div>"
      ],
      "text/plain": [
       "     0.051267   0.69956  1\n",
       "0   -0.092742  0.684940  1\n",
       "1   -0.213710  0.692250  1\n",
       "2   -0.375000  0.502190  1\n",
       "3   -0.513250  0.465640  1\n",
       "4   -0.524770  0.209800  1\n",
       "..        ...       ... ..\n",
       "112 -0.720620  0.538740  0\n",
       "113 -0.593890  0.494880  0\n",
       "114 -0.484450  0.999270  0\n",
       "115 -0.006336  0.999270  0\n",
       "116  0.632650 -0.030612  0\n",
       "\n",
       "[117 rows x 3 columns]"
      ]
     },
     "execution_count": 3,
     "metadata": {},
     "output_type": "execute_result"
    }
   ],
   "source": [
    "data = pd.read_csv(\"ex2data2.txt\")\n",
    "data"
   ]
  },
  {
   "cell_type": "code",
   "execution_count": 4,
   "metadata": {},
   "outputs": [
    {
     "data": {
      "text/html": [
       "<div>\n",
       "<style scoped>\n",
       "    .dataframe tbody tr th:only-of-type {\n",
       "        vertical-align: middle;\n",
       "    }\n",
       "\n",
       "    .dataframe tbody tr th {\n",
       "        vertical-align: top;\n",
       "    }\n",
       "\n",
       "    .dataframe thead th {\n",
       "        text-align: right;\n",
       "    }\n",
       "</style>\n",
       "<table border=\"1\" class=\"dataframe\">\n",
       "  <thead>\n",
       "    <tr style=\"text-align: right;\">\n",
       "      <th></th>\n",
       "      <th>test1</th>\n",
       "      <th>test2</th>\n",
       "      <th>accepted</th>\n",
       "    </tr>\n",
       "  </thead>\n",
       "  <tbody>\n",
       "    <tr>\n",
       "      <th>0</th>\n",
       "      <td>0.051267</td>\n",
       "      <td>0.69956</td>\n",
       "      <td>1</td>\n",
       "    </tr>\n",
       "    <tr>\n",
       "      <th>1</th>\n",
       "      <td>-0.092742</td>\n",
       "      <td>0.68494</td>\n",
       "      <td>1</td>\n",
       "    </tr>\n",
       "    <tr>\n",
       "      <th>2</th>\n",
       "      <td>-0.213710</td>\n",
       "      <td>0.69225</td>\n",
       "      <td>1</td>\n",
       "    </tr>\n",
       "    <tr>\n",
       "      <th>3</th>\n",
       "      <td>-0.375000</td>\n",
       "      <td>0.50219</td>\n",
       "      <td>1</td>\n",
       "    </tr>\n",
       "    <tr>\n",
       "      <th>4</th>\n",
       "      <td>-0.513250</td>\n",
       "      <td>0.46564</td>\n",
       "      <td>1</td>\n",
       "    </tr>\n",
       "  </tbody>\n",
       "</table>\n",
       "</div>"
      ],
      "text/plain": [
       "      test1    test2  accepted\n",
       "0  0.051267  0.69956         1\n",
       "1 -0.092742  0.68494         1\n",
       "2 -0.213710  0.69225         1\n",
       "3 -0.375000  0.50219         1\n",
       "4 -0.513250  0.46564         1"
      ]
     },
     "execution_count": 4,
     "metadata": {},
     "output_type": "execute_result"
    }
   ],
   "source": [
    "data = pd.read_csv(\"ex2data2.txt\",names=[\"test1\",\"test2\",\"accepted\"])\n",
    "data.head()"
   ]
  },
  {
   "cell_type": "code",
   "execution_count": 5,
   "metadata": {},
   "outputs": [
    {
     "data": {
      "image/png": "[encoded data removed]",
      "text/plain": [
       "<Figure size 864x576 with 1 Axes>"
      ]
     },
     "metadata": {
      "needs_background": "light"
     },
     "output_type": "display_data"
    }
   ],
   "source": [
    "positive = data[data['accepted']==1]\n",
    "negative = data[data['accepted']==0]\n",
    "\n",
    "fig, ax = plt.subplots(figsize=(12,8))\n",
    "ax.scatter(positive['test1'], positive['test2'], s=50, c='b', marker='o', label='Admitted')\n",
    "ax.scatter(negative['test1'], negative['test2'], s=50, c='r', marker='x', label='Not Admitted')\n",
    "ax.legend()\n",
    "ax.set_xlabel('Exam 1 Score')\n",
    "ax.set_ylabel('Exam 2 Score')\n",
    "plt.show()"
   ]
  },
  {
   "cell_type": "code",
   "execution_count": 6,
   "metadata": {},
   "outputs": [],
   "source": [
    "# def normalization(x):\n",
    "#     return ((x-x.min())/(x.max()-x.min()))"
   ]
  },
  {
   "cell_type": "code",
   "execution_count": 7,
   "metadata": {},
   "outputs": [],
   "source": [
    "# data2=normalization(data[[\"exam 1\",\"exam 2\"]])\n",
    "# data2.describe()"
   ]
  },
  {
   "cell_type": "code",
   "execution_count": 8,
   "metadata": {},
   "outputs": [],
   "source": [
    "X_train, X_test, Y_train, Y_test = train_test_split(data[[\"test1\",\"test2\"]],data[[\"accepted\"]],random_state=1,train_size=0.7)"
   ]
  },
  {
   "cell_type": "code",
   "execution_count": 9,
   "metadata": {},
   "outputs": [],
   "source": [
    "def feature_mapping(x1,x2,power):\n",
    "    fea_dict={}\n",
    "    for i in range(power+1):\n",
    "        for j in range(power-i+1):\n",
    "            fea_dict[f\"F{i}{j}\"]=np.power(x1,i)*np.power(x2,j)\n",
    "    return pd.DataFrame(fea_dict)"
   ]
  },
  {
   "cell_type": "code",
   "execution_count": 10,
   "metadata": {},
   "outputs": [
    {
     "data": {
      "text/html": [
       "<div>\n",
       "<style scoped>\n",
       "    .dataframe tbody tr th:only-of-type {\n",
       "        vertical-align: middle;\n",
       "    }\n",
       "\n",
       "    .dataframe tbody tr th {\n",
       "        vertical-align: top;\n",
       "    }\n",
       "\n",
       "    .dataframe thead th {\n",
       "        text-align: right;\n",
       "    }\n",
       "</style>\n",
       "<table border=\"1\" class=\"dataframe\">\n",
       "  <thead>\n",
       "    <tr style=\"text-align: right;\">\n",
       "      <th></th>\n",
       "      <th>F00</th>\n",
       "      <th>F01</th>\n",
       "      <th>F02</th>\n",
       "      <th>F03</th>\n",
       "      <th>F04</th>\n",
       "      <th>F05</th>\n",
       "      <th>F06</th>\n",
       "      <th>F10</th>\n",
       "      <th>F11</th>\n",
       "      <th>F12</th>\n",
       "      <th>...</th>\n",
       "      <th>F30</th>\n",
       "      <th>F31</th>\n",
       "      <th>F32</th>\n",
       "      <th>F33</th>\n",
       "      <th>F40</th>\n",
       "      <th>F41</th>\n",
       "      <th>F42</th>\n",
       "      <th>F50</th>\n",
       "      <th>F51</th>\n",
       "      <th>F60</th>\n",
       "    </tr>\n",
       "  </thead>\n",
       "  <tbody>\n",
       "    <tr>\n",
       "      <th>32</th>\n",
       "      <td>1.0</td>\n",
       "      <td>0.648390</td>\n",
       "      <td>0.420410</td>\n",
       "      <td>0.272589</td>\n",
       "      <td>1.767442e-01</td>\n",
       "      <td>1.145992e-01</td>\n",
       "      <td>7.430497e-02</td>\n",
       "      <td>-0.173390</td>\n",
       "      <td>-0.112424</td>\n",
       "      <td>-0.072895</td>\n",
       "      <td>...</td>\n",
       "      <td>-0.005213</td>\n",
       "      <td>-0.003380</td>\n",
       "      <td>-0.002192</td>\n",
       "      <td>-0.001421</td>\n",
       "      <td>0.000904</td>\n",
       "      <td>0.000586</td>\n",
       "      <td>3.799871e-04</td>\n",
       "      <td>-1.567185e-04</td>\n",
       "      <td>-1.016147e-04</td>\n",
       "      <td>2.717342e-05</td>\n",
       "    </tr>\n",
       "    <tr>\n",
       "      <th>110</th>\n",
       "      <td>1.0</td>\n",
       "      <td>-0.418860</td>\n",
       "      <td>0.175444</td>\n",
       "      <td>-0.073486</td>\n",
       "      <td>3.078049e-02</td>\n",
       "      <td>-1.289272e-02</td>\n",
       "      <td>5.400243e-03</td>\n",
       "      <td>-0.599650</td>\n",
       "      <td>0.251169</td>\n",
       "      <td>-0.105205</td>\n",
       "      <td>...</td>\n",
       "      <td>-0.215622</td>\n",
       "      <td>0.090316</td>\n",
       "      <td>-0.037830</td>\n",
       "      <td>0.015845</td>\n",
       "      <td>0.129298</td>\n",
       "      <td>-0.054158</td>\n",
       "      <td>2.268450e-02</td>\n",
       "      <td>-7.753346e-02</td>\n",
       "      <td>3.247567e-02</td>\n",
       "      <td>4.649294e-02</td>\n",
       "    </tr>\n",
       "    <tr>\n",
       "      <th>38</th>\n",
       "      <td>1.0</td>\n",
       "      <td>-0.163010</td>\n",
       "      <td>0.026572</td>\n",
       "      <td>-0.004332</td>\n",
       "      <td>7.060850e-04</td>\n",
       "      <td>-1.150989e-04</td>\n",
       "      <td>1.876227e-05</td>\n",
       "      <td>0.062788</td>\n",
       "      <td>-0.010235</td>\n",
       "      <td>0.001668</td>\n",
       "      <td>...</td>\n",
       "      <td>0.000248</td>\n",
       "      <td>-0.000040</td>\n",
       "      <td>0.000007</td>\n",
       "      <td>-0.000001</td>\n",
       "      <td>0.000016</td>\n",
       "      <td>-0.000003</td>\n",
       "      <td>4.129858e-07</td>\n",
       "      <td>9.758504e-07</td>\n",
       "      <td>-1.590734e-07</td>\n",
       "      <td>6.127170e-08</td>\n",
       "    </tr>\n",
       "    <tr>\n",
       "      <th>19</th>\n",
       "      <td>1.0</td>\n",
       "      <td>0.633770</td>\n",
       "      <td>0.401664</td>\n",
       "      <td>0.254563</td>\n",
       "      <td>1.613343e-01</td>\n",
       "      <td>1.022488e-01</td>\n",
       "      <td>6.480225e-02</td>\n",
       "      <td>-0.478690</td>\n",
       "      <td>-0.303379</td>\n",
       "      <td>-0.192273</td>\n",
       "      <td>...</td>\n",
       "      <td>-0.109689</td>\n",
       "      <td>-0.069518</td>\n",
       "      <td>-0.044058</td>\n",
       "      <td>-0.027923</td>\n",
       "      <td>0.052507</td>\n",
       "      <td>0.033277</td>\n",
       "      <td>2.109020e-02</td>\n",
       "      <td>-2.513459e-02</td>\n",
       "      <td>-1.592955e-02</td>\n",
       "      <td>1.203168e-02</td>\n",
       "    </tr>\n",
       "    <tr>\n",
       "      <th>117</th>\n",
       "      <td>1.0</td>\n",
       "      <td>-0.030612</td>\n",
       "      <td>0.000937</td>\n",
       "      <td>-0.000029</td>\n",
       "      <td>8.781462e-07</td>\n",
       "      <td>-2.688181e-08</td>\n",
       "      <td>8.229060e-10</td>\n",
       "      <td>0.632650</td>\n",
       "      <td>-0.019367</td>\n",
       "      <td>0.000593</td>\n",
       "      <td>...</td>\n",
       "      <td>0.253216</td>\n",
       "      <td>-0.007751</td>\n",
       "      <td>0.000237</td>\n",
       "      <td>-0.000007</td>\n",
       "      <td>0.160197</td>\n",
       "      <td>-0.004904</td>\n",
       "      <td>1.501196e-04</td>\n",
       "      <td>1.013486e-01</td>\n",
       "      <td>-3.102482e-03</td>\n",
       "      <td>6.411816e-02</td>\n",
       "    </tr>\n",
       "    <tr>\n",
       "      <th>...</th>\n",
       "      <td>...</td>\n",
       "      <td>...</td>\n",
       "      <td>...</td>\n",
       "      <td>...</td>\n",
       "      <td>...</td>\n",
       "      <td>...</td>\n",
       "      <td>...</td>\n",
       "      <td>...</td>\n",
       "      <td>...</td>\n",
       "      <td>...</td>\n",
       "      <td>...</td>\n",
       "      <td>...</td>\n",
       "      <td>...</td>\n",
       "      <td>...</td>\n",
       "      <td>...</td>\n",
       "      <td>...</td>\n",
       "      <td>...</td>\n",
       "      <td>...</td>\n",
       "      <td>...</td>\n",
       "      <td>...</td>\n",
       "      <td>...</td>\n",
       "    </tr>\n",
       "    <tr>\n",
       "      <th>9</th>\n",
       "      <td>1.0</td>\n",
       "      <td>-0.513890</td>\n",
       "      <td>0.264083</td>\n",
       "      <td>-0.135710</td>\n",
       "      <td>6.973980e-02</td>\n",
       "      <td>-3.583858e-02</td>\n",
       "      <td>1.841709e-02</td>\n",
       "      <td>0.131910</td>\n",
       "      <td>-0.067787</td>\n",
       "      <td>0.034835</td>\n",
       "      <td>...</td>\n",
       "      <td>0.002295</td>\n",
       "      <td>-0.001180</td>\n",
       "      <td>0.000606</td>\n",
       "      <td>-0.000311</td>\n",
       "      <td>0.000303</td>\n",
       "      <td>-0.000156</td>\n",
       "      <td>7.995603e-05</td>\n",
       "      <td>3.993821e-05</td>\n",
       "      <td>-2.052385e-05</td>\n",
       "      <td>5.268249e-06</td>\n",
       "    </tr>\n",
       "    <tr>\n",
       "      <th>72</th>\n",
       "      <td>1.0</td>\n",
       "      <td>-0.521200</td>\n",
       "      <td>0.271649</td>\n",
       "      <td>-0.141584</td>\n",
       "      <td>7.379342e-02</td>\n",
       "      <td>-3.846113e-02</td>\n",
       "      <td>2.004594e-02</td>\n",
       "      <td>0.828920</td>\n",
       "      <td>-0.432033</td>\n",
       "      <td>0.225176</td>\n",
       "      <td>...</td>\n",
       "      <td>0.569558</td>\n",
       "      <td>-0.296854</td>\n",
       "      <td>0.154720</td>\n",
       "      <td>-0.080640</td>\n",
       "      <td>0.472118</td>\n",
       "      <td>-0.246068</td>\n",
       "      <td>1.282506e-01</td>\n",
       "      <td>3.913480e-01</td>\n",
       "      <td>-2.039706e-01</td>\n",
       "      <td>3.243962e-01</td>\n",
       "    </tr>\n",
       "    <tr>\n",
       "      <th>12</th>\n",
       "      <td>1.0</td>\n",
       "      <td>-0.243420</td>\n",
       "      <td>0.059253</td>\n",
       "      <td>-0.014423</td>\n",
       "      <td>3.510953e-03</td>\n",
       "      <td>-8.546362e-04</td>\n",
       "      <td>2.080355e-04</td>\n",
       "      <td>0.638820</td>\n",
       "      <td>-0.155502</td>\n",
       "      <td>0.037852</td>\n",
       "      <td>...</td>\n",
       "      <td>0.260697</td>\n",
       "      <td>-0.063459</td>\n",
       "      <td>0.015447</td>\n",
       "      <td>-0.003760</td>\n",
       "      <td>0.166538</td>\n",
       "      <td>-0.040539</td>\n",
       "      <td>9.867941e-03</td>\n",
       "      <td>1.063880e-01</td>\n",
       "      <td>-2.589696e-02</td>\n",
       "      <td>6.796276e-02</td>\n",
       "    </tr>\n",
       "    <tr>\n",
       "      <th>107</th>\n",
       "      <td>1.0</td>\n",
       "      <td>-0.060673</td>\n",
       "      <td>0.003681</td>\n",
       "      <td>-0.000223</td>\n",
       "      <td>1.355133e-05</td>\n",
       "      <td>-8.221998e-07</td>\n",
       "      <td>4.988533e-08</td>\n",
       "      <td>-0.288590</td>\n",
       "      <td>0.017510</td>\n",
       "      <td>-0.001062</td>\n",
       "      <td>...</td>\n",
       "      <td>-0.024035</td>\n",
       "      <td>0.001458</td>\n",
       "      <td>-0.000088</td>\n",
       "      <td>0.000005</td>\n",
       "      <td>0.006936</td>\n",
       "      <td>-0.000421</td>\n",
       "      <td>2.553384e-05</td>\n",
       "      <td>-2.001734e-03</td>\n",
       "      <td>1.214512e-04</td>\n",
       "      <td>5.776804e-04</td>\n",
       "    </tr>\n",
       "    <tr>\n",
       "      <th>37</th>\n",
       "      <td>1.0</td>\n",
       "      <td>-0.184940</td>\n",
       "      <td>0.034203</td>\n",
       "      <td>-0.006325</td>\n",
       "      <td>1.169832e-03</td>\n",
       "      <td>-2.163487e-04</td>\n",
       "      <td>4.001153e-05</td>\n",
       "      <td>-0.063940</td>\n",
       "      <td>0.011825</td>\n",
       "      <td>-0.002187</td>\n",
       "      <td>...</td>\n",
       "      <td>-0.000261</td>\n",
       "      <td>0.000048</td>\n",
       "      <td>-0.000009</td>\n",
       "      <td>0.000002</td>\n",
       "      <td>0.000017</td>\n",
       "      <td>-0.000003</td>\n",
       "      <td>5.716790e-07</td>\n",
       "      <td>-1.068718e-06</td>\n",
       "      <td>1.976487e-07</td>\n",
       "      <td>6.833383e-08</td>\n",
       "    </tr>\n",
       "  </tbody>\n",
       "</table>\n",
       "<p>82 rows × 28 columns</p>\n",
       "</div>"
      ],
      "text/plain": [
       "     F00       F01       F02       F03           F04           F05  \\\n",
       "32   1.0  0.648390  0.420410  0.272589  1.767442e-01  1.145992e-01   \n",
       "110  1.0 -0.418860  0.175444 -0.073486  3.078049e-02 -1.289272e-02   \n",
       "38   1.0 -0.163010  0.026572 -0.004332  7.060850e-04 -1.150989e-04   \n",
       "19   1.0  0.633770  0.401664  0.254563  1.613343e-01  1.022488e-01   \n",
       "117  1.0 -0.030612  0.000937 -0.000029  8.781462e-07 -2.688181e-08   \n",
       "..   ...       ...       ...       ...           ...           ...   \n",
       "9    1.0 -0.513890  0.264083 -0.135710  6.973980e-02 -3.583858e-02   \n",
       "72   1.0 -0.521200  0.271649 -0.141584  7.379342e-02 -3.846113e-02   \n",
       "12   1.0 -0.243420  0.059253 -0.014423  3.510953e-03 -8.546362e-04   \n",
       "107  1.0 -0.060673  0.003681 -0.000223  1.355133e-05 -8.221998e-07   \n",
       "37   1.0 -0.184940  0.034203 -0.006325  1.169832e-03 -2.163487e-04   \n",
       "\n",
       "              F06       F10       F11       F12  ...       F30       F31  \\\n",
       "32   7.430497e-02 -0.173390 -0.112424 -0.072895  ... -0.005213 -0.003380   \n",
       "110  5.400243e-03 -0.599650  0.251169 -0.105205  ... -0.215622  0.090316   \n",
       "38   1.876227e-05  0.062788 -0.010235  0.001668  ...  0.000248 -0.000040   \n",
       "19   6.480225e-02 -0.478690 -0.303379 -0.192273  ... -0.109689 -0.069518   \n",
       "117  8.229060e-10  0.632650 -0.019367  0.000593  ...  0.253216 -0.007751   \n",
       "..            ...       ...       ...       ...  ...       ...       ...   \n",
       "9    1.841709e-02  0.131910 -0.067787  0.034835  ...  0.002295 -0.001180   \n",
       "72   2.004594e-02  0.828920 -0.432033  0.225176  ...  0.569558 -0.296854   \n",
       "12   2.080355e-04  0.638820 -0.155502  0.037852  ...  0.260697 -0.063459   \n",
       "107  4.988533e-08 -0.288590  0.017510 -0.001062  ... -0.024035  0.001458   \n",
       "37   4.001153e-05 -0.063940  0.011825 -0.002187  ... -0.000261  0.000048   \n",
       "\n",
       "          F32       F33       F40       F41           F42           F50  \\\n",
       "32  -0.002192 -0.001421  0.000904  0.000586  3.799871e-04 -1.567185e-04   \n",
       "110 -0.037830  0.015845  0.129298 -0.054158  2.268450e-02 -7.753346e-02   \n",
       "38   0.000007 -0.000001  0.000016 -0.000003  4.129858e-07  9.758504e-07   \n",
       "19  -0.044058 -0.027923  0.052507  0.033277  2.109020e-02 -2.513459e-02   \n",
       "117  0.000237 -0.000007  0.160197 -0.004904  1.501196e-04  1.013486e-01   \n",
       "..        ...       ...       ...       ...           ...           ...   \n",
       "9    0.000606 -0.000311  0.000303 -0.000156  7.995603e-05  3.993821e-05   \n",
       "72   0.154720 -0.080640  0.472118 -0.246068  1.282506e-01  3.913480e-01   \n",
       "12   0.015447 -0.003760  0.166538 -0.040539  9.867941e-03  1.063880e-01   \n",
       "107 -0.000088  0.000005  0.006936 -0.000421  2.553384e-05 -2.001734e-03   \n",
       "37  -0.000009  0.000002  0.000017 -0.000003  5.716790e-07 -1.068718e-06   \n",
       "\n",
       "              F51           F60  \n",
       "32  -1.016147e-04  2.717342e-05  \n",
       "110  3.247567e-02  4.649294e-02  \n",
       "38  -1.590734e-07  6.127170e-08  \n",
       "19  -1.592955e-02  1.203168e-02  \n",
       "117 -3.102482e-03  6.411816e-02  \n",
       "..            ...           ...  \n",
       "9   -2.052385e-05  5.268249e-06  \n",
       "72  -2.039706e-01  3.243962e-01  \n",
       "12  -2.589696e-02  6.796276e-02  \n",
       "107  1.214512e-04  5.776804e-04  \n",
       "37   1.976487e-07  6.833383e-08  \n",
       "\n",
       "[82 rows x 28 columns]"
      ]
     },
     "execution_count": 10,
     "metadata": {},
     "output_type": "execute_result"
    }
   ],
   "source": [
    "data_mapping=feature_mapping(X_train[\"test1\"],X_train[\"test2\"],6)\n",
    "data_mapping"
   ]
  },
  {
   "cell_type": "code",
   "execution_count": 11,
   "metadata": {},
   "outputs": [],
   "source": [
    "X=data_mapping.values.reshape(82,28)"
   ]
  },
  {
   "cell_type": "code",
   "execution_count": 12,
   "metadata": {},
   "outputs": [],
   "source": [
    "Y=Y_train.values.reshape(82,1)"
   ]
  },
  {
   "cell_type": "code",
   "execution_count": 13,
   "metadata": {},
   "outputs": [],
   "source": [
    "theta=np.full((28,1),0.0)"
   ]
  },
  {
   "cell_type": "code",
   "execution_count": 14,
   "metadata": {},
   "outputs": [],
   "source": [
    "m=X.shape[0]"
   ]
  },
  {
   "cell_type": "code",
   "execution_count": 15,
   "metadata": {},
   "outputs": [],
   "source": [
    "alpha=0.01"
   ]
  },
  {
   "cell_type": "code",
   "execution_count": 16,
   "metadata": {},
   "outputs": [],
   "source": [
    "lambd=1"
   ]
  },
  {
   "cell_type": "code",
   "execution_count": 17,
   "metadata": {},
   "outputs": [],
   "source": [
    "def sigmoid(a):\n",
    "    return 1./(1+np.exp(-a))"
   ]
  },
  {
   "cell_type": "code",
   "execution_count": 18,
   "metadata": {},
   "outputs": [],
   "source": [
    "hx=sigmoid(X.dot(theta))"
   ]
  },
  {
   "cell_type": "code",
   "execution_count": 19,
   "metadata": {},
   "outputs": [],
   "source": [
    "def regularized_cost(hx,m,Y,lambd):\n",
    "    return ((Y.T.dot(np.log(hx))+((1-Y).T).dot(np.log(1-hx)))/-m+(np.dot(theta[1:].T,theta[1:])*lambd/2*m))"
   ]
  },
  {
   "cell_type": "code",
   "execution_count": 20,
   "metadata": {},
   "outputs": [
    {
     "data": {
      "text/plain": [
       "array([[0.69314718]])"
      ]
     },
     "execution_count": 20,
     "metadata": {},
     "output_type": "execute_result"
    }
   ],
   "source": [
    "cost_m=regularized_cost(hx,m,Y,1)\n",
    "cost_m"
   ]
  },
  {
   "cell_type": "code",
   "execution_count": 21,
   "metadata": {},
   "outputs": [],
   "source": [
    "def regularizedDescent(X,Y,theta,m,alpha,iters,lambd):\n",
    "    cost_iters=np.zeros((1,iters))\n",
    "    for i in range(iters):\n",
    "        cost_iters[0,i]=regularized_cost(sigmoid(X.dot(theta)),m,Y,lambd)\n",
    "        theta=np.vstack([theta[0] - (X.T.dot( sigmoid ( X.dot ( theta ) ) - Y) * alpha / m)[0] , theta[1:]*( 1 - lambd / m * alpha ) - (X.T.dot( sigmoid ( X.dot ( theta ) ) - Y) * alpha / m)[1:] ] )\n",
    "    return cost_iters,theta"
   ]
  },
  {
   "cell_type": "code",
   "execution_count": 22,
   "metadata": {},
   "outputs": [],
   "source": [
    "cost1,theta1=regularizedDescent(X,Y,theta,m,0.01,100000,lambd)"
   ]
  },
  {
   "cell_type": "code",
   "execution_count": 23,
   "metadata": {},
   "outputs": [],
   "source": [
    "def find_decision_boundary(power, theta, threshhold):\n",
    "    t1 = np.linspace(-1, 1.5, 1000)\n",
    "    t2 = np.linspace(-1, 1.5, 1000)\n",
    "\n",
    "    #找到平面上所有点值对，并做特征映射\n",
    "    cordinates = [(x, y) for x in t1 for y in t2]\n",
    "    x_cord, y_cord = zip(*cordinates)\n",
    "    mapped_cord = feature_mapping(x_cord, y_cord, power) #这是DataFrame\n",
    "    \n",
    "    \n",
    "    inner_product = np.dot(mapped_cord.values, theta)\n",
    "\n",
    "    decision = mapped_cord[np.abs(inner_product) < threshhold]\n",
    "\n",
    "    return decision.F10, decision.F01\n"
   ]
  },
  {
   "cell_type": "code",
   "execution_count": 24,
   "metadata": {},
   "outputs": [
    {
     "data": {
      "image/png": "[encoded data removed]",
      "text/plain": [
       "<Figure size 864x576 with 1 Axes>"
      ]
     },
     "metadata": {
      "needs_background": "light"
     },
     "output_type": "display_data"
    }
   ],
   "source": [
    "positive = data[data['accepted']==1]\n",
    "negative = data[data['accepted']==0]\n",
    "\n",
    "fig, ax = plt.subplots(figsize=(12,8))\n",
    "ax.scatter(positive['test1'], positive['test2'], s=50, c='b', marker='o', label='Accepted')\n",
    "ax.scatter(negative['test1'], negative['test2'], s=50, c='r', marker='x', label='Rejected')\n",
    "\n",
    "test1,test2 = find_decision_boundary(6,theta1,2 * 10**-3)\n",
    "ax.scatter(test1, test2, s=50, c='g', marker='o')\n",
    "ax.legend()\n",
    "ax.set_xlabel('Test1 Score')\n",
    "ax.set_ylabel('Test2 Score')\n",
    "plt.show()\n"
   ]
  },
  {
   "cell_type": "code",
   "execution_count": 25,
   "metadata": {},
   "outputs": [],
   "source": [
    "hx2=sigmoid(X.dot(theta1))"
   ]
  },
  {
   "cell_type": "code",
   "execution_count": 26,
   "metadata": {},
   "outputs": [],
   "source": [
    "def cost(hx,m,Y):\n",
    "    return (Y.T.dot(np.log(hx))+((1-Y).T).dot(np.log(1-hx)))/-m"
   ]
  },
  {
   "cell_type": "code",
   "execution_count": 27,
   "metadata": {},
   "outputs": [
    {
     "data": {
      "text/plain": [
       "array([[0.52110912]])"
      ]
     },
     "execution_count": 27,
     "metadata": {},
     "output_type": "execute_result"
    }
   ],
   "source": [
    "J_train=cost(hx2,m,Y)\n",
    "J_train"
   ]
  },
  {
   "cell_type": "code",
   "execution_count": 28,
   "metadata": {},
   "outputs": [],
   "source": [
    "X3,X4=X_test[\"test1\"],X_test[\"test2\"]\n",
    "data_mapping2=feature_mapping(X3,X4,6)"
   ]
  },
  {
   "cell_type": "code",
   "execution_count": 29,
   "metadata": {},
   "outputs": [
    {
     "data": {
      "text/html": [
       "<div>\n",
       "<style scoped>\n",
       "    .dataframe tbody tr th:only-of-type {\n",
       "        vertical-align: middle;\n",
       "    }\n",
       "\n",
       "    .dataframe tbody tr th {\n",
       "        vertical-align: top;\n",
       "    }\n",
       "\n",
       "    .dataframe thead th {\n",
       "        text-align: right;\n",
       "    }\n",
       "</style>\n",
       "<table border=\"1\" class=\"dataframe\">\n",
       "  <thead>\n",
       "    <tr style=\"text-align: right;\">\n",
       "      <th></th>\n",
       "      <th>F00</th>\n",
       "      <th>F01</th>\n",
       "      <th>F02</th>\n",
       "      <th>F03</th>\n",
       "      <th>F04</th>\n",
       "      <th>F05</th>\n",
       "      <th>F06</th>\n",
       "      <th>F10</th>\n",
       "      <th>F11</th>\n",
       "      <th>F12</th>\n",
       "      <th>...</th>\n",
       "      <th>F30</th>\n",
       "      <th>F31</th>\n",
       "      <th>F32</th>\n",
       "      <th>F33</th>\n",
       "      <th>F40</th>\n",
       "      <th>F41</th>\n",
       "      <th>F42</th>\n",
       "      <th>F50</th>\n",
       "      <th>F51</th>\n",
       "      <th>F60</th>\n",
       "    </tr>\n",
       "  </thead>\n",
       "  <tbody>\n",
       "    <tr>\n",
       "      <th>94</th>\n",
       "      <td>1.0</td>\n",
       "      <td>0.99196</td>\n",
       "      <td>0.983985</td>\n",
       "      <td>0.976073</td>\n",
       "      <td>0.968226</td>\n",
       "      <td>0.960441</td>\n",
       "      <td>0.952719</td>\n",
       "      <td>-0.10426</td>\n",
       "      <td>-0.103422</td>\n",
       "      <td>-0.102590</td>\n",
       "      <td>...</td>\n",
       "      <td>-0.001133</td>\n",
       "      <td>-0.001124</td>\n",
       "      <td>-0.001115</td>\n",
       "      <td>-0.001106</td>\n",
       "      <td>0.000118</td>\n",
       "      <td>0.000117</td>\n",
       "      <td>0.000116</td>\n",
       "      <td>-0.000012</td>\n",
       "      <td>-0.000012</td>\n",
       "      <td>0.000001</td>\n",
       "    </tr>\n",
       "    <tr>\n",
       "      <th>54</th>\n",
       "      <td>1.0</td>\n",
       "      <td>0.17325</td>\n",
       "      <td>0.030016</td>\n",
       "      <td>0.005200</td>\n",
       "      <td>0.000901</td>\n",
       "      <td>0.000156</td>\n",
       "      <td>0.000027</td>\n",
       "      <td>-0.20795</td>\n",
       "      <td>-0.036027</td>\n",
       "      <td>-0.006242</td>\n",
       "      <td>...</td>\n",
       "      <td>-0.008992</td>\n",
       "      <td>-0.001558</td>\n",
       "      <td>-0.000270</td>\n",
       "      <td>-0.000047</td>\n",
       "      <td>0.001870</td>\n",
       "      <td>0.000324</td>\n",
       "      <td>0.000056</td>\n",
       "      <td>-0.000389</td>\n",
       "      <td>-0.000067</td>\n",
       "      <td>0.000081</td>\n",
       "    </tr>\n",
       "    <tr>\n",
       "      <th>59</th>\n",
       "      <td>1.0</td>\n",
       "      <td>0.77997</td>\n",
       "      <td>0.608353</td>\n",
       "      <td>0.474497</td>\n",
       "      <td>0.370094</td>\n",
       "      <td>0.288662</td>\n",
       "      <td>0.225148</td>\n",
       "      <td>0.22408</td>\n",
       "      <td>0.174776</td>\n",
       "      <td>0.136320</td>\n",
       "      <td>...</td>\n",
       "      <td>0.011251</td>\n",
       "      <td>0.008776</td>\n",
       "      <td>0.006845</td>\n",
       "      <td>0.005339</td>\n",
       "      <td>0.002521</td>\n",
       "      <td>0.001966</td>\n",
       "      <td>0.001534</td>\n",
       "      <td>0.000565</td>\n",
       "      <td>0.000441</td>\n",
       "      <td>0.000127</td>\n",
       "    </tr>\n",
       "    <tr>\n",
       "      <th>115</th>\n",
       "      <td>1.0</td>\n",
       "      <td>0.99927</td>\n",
       "      <td>0.998541</td>\n",
       "      <td>0.997812</td>\n",
       "      <td>0.997083</td>\n",
       "      <td>0.996355</td>\n",
       "      <td>0.995628</td>\n",
       "      <td>-0.48445</td>\n",
       "      <td>-0.484096</td>\n",
       "      <td>-0.483743</td>\n",
       "      <td>...</td>\n",
       "      <td>-0.113696</td>\n",
       "      <td>-0.113613</td>\n",
       "      <td>-0.113531</td>\n",
       "      <td>-0.113448</td>\n",
       "      <td>0.055080</td>\n",
       "      <td>0.055040</td>\n",
       "      <td>0.055000</td>\n",
       "      <td>-0.026684</td>\n",
       "      <td>-0.026664</td>\n",
       "      <td>0.012927</td>\n",
       "    </tr>\n",
       "    <tr>\n",
       "      <th>74</th>\n",
       "      <td>1.0</td>\n",
       "      <td>-0.74050</td>\n",
       "      <td>0.548340</td>\n",
       "      <td>-0.406046</td>\n",
       "      <td>0.300677</td>\n",
       "      <td>-0.222651</td>\n",
       "      <td>0.164873</td>\n",
       "      <td>0.59274</td>\n",
       "      <td>-0.438924</td>\n",
       "      <td>0.325023</td>\n",
       "      <td>...</td>\n",
       "      <td>0.208254</td>\n",
       "      <td>-0.154212</td>\n",
       "      <td>0.114194</td>\n",
       "      <td>-0.084561</td>\n",
       "      <td>0.123440</td>\n",
       "      <td>-0.091408</td>\n",
       "      <td>0.067687</td>\n",
       "      <td>0.073168</td>\n",
       "      <td>-0.054181</td>\n",
       "      <td>0.043370</td>\n",
       "    </tr>\n",
       "  </tbody>\n",
       "</table>\n",
       "<p>5 rows × 28 columns</p>\n",
       "</div>"
      ],
      "text/plain": [
       "     F00      F01       F02       F03       F04       F05       F06      F10  \\\n",
       "94   1.0  0.99196  0.983985  0.976073  0.968226  0.960441  0.952719 -0.10426   \n",
       "54   1.0  0.17325  0.030016  0.005200  0.000901  0.000156  0.000027 -0.20795   \n",
       "59   1.0  0.77997  0.608353  0.474497  0.370094  0.288662  0.225148  0.22408   \n",
       "115  1.0  0.99927  0.998541  0.997812  0.997083  0.996355  0.995628 -0.48445   \n",
       "74   1.0 -0.74050  0.548340 -0.406046  0.300677 -0.222651  0.164873  0.59274   \n",
       "\n",
       "          F11       F12  ...       F30       F31       F32       F33  \\\n",
       "94  -0.103422 -0.102590  ... -0.001133 -0.001124 -0.001115 -0.001106   \n",
       "54  -0.036027 -0.006242  ... -0.008992 -0.001558 -0.000270 -0.000047   \n",
       "59   0.174776  0.136320  ...  0.011251  0.008776  0.006845  0.005339   \n",
       "115 -0.484096 -0.483743  ... -0.113696 -0.113613 -0.113531 -0.113448   \n",
       "74  -0.438924  0.325023  ...  0.208254 -0.154212  0.114194 -0.084561   \n",
       "\n",
       "          F40       F41       F42       F50       F51       F60  \n",
       "94   0.000118  0.000117  0.000116 -0.000012 -0.000012  0.000001  \n",
       "54   0.001870  0.000324  0.000056 -0.000389 -0.000067  0.000081  \n",
       "59   0.002521  0.001966  0.001534  0.000565  0.000441  0.000127  \n",
       "115  0.055080  0.055040  0.055000 -0.026684 -0.026664  0.012927  \n",
       "74   0.123440 -0.091408  0.067687  0.073168 -0.054181  0.043370  \n",
       "\n",
       "[5 rows x 28 columns]"
      ]
     },
     "execution_count": 29,
     "metadata": {},
     "output_type": "execute_result"
    }
   ],
   "source": [
    "data_mapping2.head()"
   ]
  },
  {
   "cell_type": "code",
   "execution_count": 30,
   "metadata": {},
   "outputs": [],
   "source": [
    "X2=data_mapping2.values.reshape(36,28)"
   ]
  },
  {
   "cell_type": "code",
   "execution_count": 31,
   "metadata": {},
   "outputs": [],
   "source": [
    "Y2=Y_test.values.reshape(36,1)"
   ]
  },
  {
   "cell_type": "code",
   "execution_count": 32,
   "metadata": {},
   "outputs": [],
   "source": [
    "m2=X2.shape[0]"
   ]
  },
  {
   "cell_type": "code",
   "execution_count": 33,
   "metadata": {},
   "outputs": [],
   "source": [
    "hx3=sigmoid(X2.dot(theta1))"
   ]
  },
  {
   "cell_type": "code",
   "execution_count": 40,
   "metadata": {},
   "outputs": [],
   "source": [
    "J_test=-(np.dot(Y2.T,np.log(hx3))+np.dot((1-Y2).T,np.log(1-hx3)))/m2"
   ]
  },
  {
   "cell_type": "code",
   "execution_count": 41,
   "metadata": {},
   "outputs": [
    {
     "data": {
      "text/plain": [
       "array([[0.45670661]])"
      ]
     },
     "execution_count": 41,
     "metadata": {},
     "output_type": "execute_result"
    }
   ],
   "source": [
    "J_test"
   ]
  },
  {
   "cell_type": "code",
   "execution_count": 36,
   "metadata": {},
   "outputs": [],
   "source": [
    "r1=sum([1 if i==j else 0 for i,j in zip([int(i) for i in Y_train.values],[int(i) for i in hx2>0.5])])"
   ]
  },
  {
   "cell_type": "code",
   "execution_count": 37,
   "metadata": {},
   "outputs": [
    {
     "data": {
      "text/plain": [
       "0.21951219512195122"
      ]
     },
     "execution_count": 37,
     "metadata": {},
     "output_type": "execute_result"
    }
   ],
   "source": [
    "(m-r1)/m"
   ]
  },
  {
   "cell_type": "code",
   "execution_count": 38,
   "metadata": {},
   "outputs": [],
   "source": [
    "r2=sum([1 if i==j else 0 for i,j in zip([int(i) for i in Y_test.values],[int(i) for i in hx3>0.5])])"
   ]
  },
  {
   "cell_type": "code",
   "execution_count": 39,
   "metadata": {},
   "outputs": [
    {
     "data": {
      "text/plain": [
       "0.16666666666666666"
      ]
     },
     "execution_count": 39,
     "metadata": {},
     "output_type": "execute_result"
    }
   ],
   "source": [
    "(m2-r2)/m2"
   ]
  }
 ],
 "metadata": {
  "kernelspec": {
   "display_name": "tf-1.x",
   "language": "python",
   "name": "tf-1.x"
  },
  "language_info": {
   "codemirror_mode": {
    "name": "ipython",
    "version": 3
   },
   "file_extension": ".py",
   "mimetype": "text/x-python",
   "name": "python",
   "nbconvert_exporter": "python",
   "pygments_lexer": "ipython3",
   "version": "3.6.2"
  }
 },
 "nbformat": 4,
 "nbformat_minor": 4
}

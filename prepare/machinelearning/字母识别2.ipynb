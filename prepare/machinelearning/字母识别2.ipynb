{
 "cells": [
  {
   "cell_type": "code",
   "execution_count": 162,
   "metadata": {},
   "outputs": [],
   "source": [
    "import cv2 \n",
    "import numpy as np"
   ]
  },
  {
   "cell_type": "markdown",
   "metadata": {},
   "source": [
    "# 算法概要"
   ]
  },
  {
   "cell_type": "markdown",
   "metadata": {},
   "source": [
    "##### 根据所用算法的需求 使用膨胀运算 通过[[0,1,0],[0,1,0],[0,1,0]]的内核 "
   ]
  },
  {
   "cell_type": "markdown",
   "metadata": {},
   "source": [
    "##### 使得要取出的字母 上下连接成一个整体 同时左右有相对独立"
   ]
  },
  {
   "cell_type": "markdown",
   "metadata": {},
   "source": [
    "##### 分析易知图片边缘存在一定的无效信息"
   ]
  },
  {
   "cell_type": "markdown",
   "metadata": {},
   "source": [
    "##### 取得图像中轮廓 筛出 存在轮廓坐标超出宽20%-80% 高10%-90%范围内的轮廓 "
   ]
  },
  {
   "cell_type": "markdown",
   "metadata": {},
   "source": [
    "##### 为避免 筛除后仍然存在极端值(大面积的外围轮廓 可忽略不计的小轮廓) 再进行一次极值去除"
   ]
  },
  {
   "cell_type": "markdown",
   "metadata": {},
   "source": [
    "### 针对处理过后的轮廓 根据字母数字的高和宽具有一定的一致性 做一次聚类处理"
   ]
  },
  {
   "cell_type": "markdown",
   "metadata": {},
   "source": [
    "### 采用 K均值的算法 按照长和宽形成的二维数据 进行一次聚类操作"
   ]
  },
  {
   "cell_type": "markdown",
   "metadata": {},
   "source": [
    "### 同时再根据空间坐标关系 以及轮廓关系来确保归类的准确度"
   ]
  },
  {
   "cell_type": "markdown",
   "metadata": {},
   "source": [
    "### 从而实现不采用模板 自动实现识别字母的结果"
   ]
  },
  {
   "cell_type": "markdown",
   "metadata": {},
   "source": [
    "## "
   ]
  },
  {
   "cell_type": "markdown",
   "metadata": {},
   "source": [
    "#### 以下为聚类处理之后 针对特殊情况的处理"
   ]
  },
  {
   "cell_type": "markdown",
   "metadata": {},
   "source": [
    "#### 由于要识别的内容中 存在冒号 而冒号的长和宽与字母数字有较大差异 很有可能会被分为另一类"
   ]
  },
  {
   "cell_type": "markdown",
   "metadata": {},
   "source": [
    "####  同时可能左上角 右下角存在高宽与字母相近的轮廓"
   ]
  },
  {
   "cell_type": "markdown",
   "metadata": {},
   "source": [
    "#### 通过 轮廓关系和坐标位置关系来 修改这些值的tag 来避免误判(后面有详细规则定义) "
   ]
  },
  {
   "cell_type": "markdown",
   "metadata": {},
   "source": [
    "具体的实现方式可参照下面的代码"
   ]
  },
  {
   "cell_type": "markdown",
   "metadata": {},
   "source": [
    "### 读入图片数据 "
   ]
  },
  {
   "cell_type": "code",
   "execution_count": 163,
   "metadata": {},
   "outputs": [],
   "source": [
    "image = cv2.imread(\"image/c1/chinatel.jpg\")"
   ]
  },
  {
   "cell_type": "code",
   "execution_count": 164,
   "metadata": {},
   "outputs": [],
   "source": [
    "img_gray = cv2.cvtColor(image,cv2.COLOR_BGR2GRAY)"
   ]
  },
  {
   "cell_type": "code",
   "execution_count": 165,
   "metadata": {},
   "outputs": [],
   "source": [
    "ret,binary = cv2.threshold(img_gray,0,255,cv2.THRESH_BINARY_INV|cv2.THRESH_OTSU)"
   ]
  },
  {
   "cell_type": "markdown",
   "metadata": {},
   "source": [
    "## 基于之后的算法考虑 需要保证整个字母为一个连续轮廓 所以对进行预处理 详细原因见之后分类运算"
   ]
  },
  {
   "cell_type": "markdown",
   "metadata": {},
   "source": [
    "## 使用膨胀运算 以及 [[0,1,0],[0,1,0],[0,1,0]]的内核 使整个字母上下连接 以保证为连续轮廓 同时左右相对独立"
   ]
  },
  {
   "cell_type": "code",
   "execution_count": 166,
   "metadata": {},
   "outputs": [],
   "source": [
    "kernel = np.array([[0,1,0],[0,1,0],[0,1,0]],dtype=np.uint8)"
   ]
  },
  {
   "cell_type": "code",
   "execution_count": 167,
   "metadata": {},
   "outputs": [],
   "source": [
    "dialte_binary = cv2.dilate(binary,kernel,iterations = 2)"
   ]
  },
  {
   "cell_type": "markdown",
   "metadata": {},
   "source": [
    "# 筛选出所需要的轮廓"
   ]
  },
  {
   "cell_type": "markdown",
   "metadata": {},
   "source": [
    "### 截取 所有的轮廓坐标 都位于原图像 宽20%-80% 高10%-90%范围内的轮廓"
   ]
  },
  {
   "cell_type": "markdown",
   "metadata": {},
   "source": [
    "### 具体实现：采用numpy 布尔索引 当该轮廓各坐标点全部位于范围内时 向mod_con中添加该轮廓 mod_hie中更新对应关系"
   ]
  },
  {
   "cell_type": "code",
   "execution_count": 168,
   "metadata": {},
   "outputs": [],
   "source": [
    "contours,hierachy =  cv2.findContours(dialte_binary,cv2.RETR_TREE,cv2.CHAIN_APPROX_SIMPLE)"
   ]
  },
  {
   "cell_type": "code",
   "execution_count": 169,
   "metadata": {},
   "outputs": [],
   "source": [
    "copy = image.copy()\n",
    "r = cv2.drawContours(copy,contours,-1,(0,0,255),2)"
   ]
  },
  {
   "cell_type": "code",
   "execution_count": 170,
   "metadata": {},
   "outputs": [],
   "source": [
    "height,width = image.shape[:2]"
   ]
  },
  {
   "cell_type": "code",
   "execution_count": 171,
   "metadata": {},
   "outputs": [
    {
     "data": {
      "text/plain": [
       "102"
      ]
     },
     "execution_count": 171,
     "metadata": {},
     "output_type": "execute_result"
    }
   ],
   "source": [
    "mod_con = []  # 初始化筛选后的轮廓列表\n",
    "mod_hie = []  # 对应轮廓关系列表\n",
    "for i,con in enumerate(contours):\n",
    "    new_con = con.reshape(-1, 2)  # 转换为二维\n",
    "    # 截取 所有的轮廓坐标 都位于原图像 宽20%-80% 高10%-90%范围内的轮廓\n",
    "    # 采用numpy 布尔索引 当该轮廓各坐标点全部位于范围内时 向mod_con中添加该轮廓 mod_hie中更新对应关系\n",
    "    flag = np.all(new_con[:, 1] > height * 0.1) and np.all(new_con[:1] < height * 0.9) and np.all(\n",
    "        new_con[:, 0] > width * 0.2) and np.all(new_con[:, 0] < width * 0.8)\n",
    "    if flag:\n",
    "        mod_con.append(con)\n",
    "        mod_hie.append([hierachy[0][i]])        \n",
    "len(mod_hie)\n",
    "len(mod_con)"
   ]
  },
  {
   "cell_type": "code",
   "execution_count": 172,
   "metadata": {},
   "outputs": [],
   "source": [
    "copy2 = image.copy()\n",
    "img_gray2 = cv2.cvtColor(copy2,cv2.COLOR_BGR2GRAY)\n",
    "ret2,binary2 = cv2.threshold(img_gray2,0,255,cv2.THRESH_BINARY_INV|cv2.THRESH_OTSU)\n",
    "r2 = cv2.drawContours(copy2,mod_con,-1,(0,0,255),2)"
   ]
  },
  {
   "cell_type": "markdown",
   "metadata": {},
   "source": [
    "### 针对这幅图的话 在筛选过后 其实已经不存在极端值 不过考虑到代码的健壮性 \n",
    "### 假设在第一次筛选之后 仍然存在极端异常值（大面积的外围轮廓 可忽略不计的小轮廓）"
   ]
  },
  {
   "cell_type": "markdown",
   "metadata": {},
   "source": [
    "## 去除极端值"
   ]
  },
  {
   "cell_type": "code",
   "execution_count": 173,
   "metadata": {},
   "outputs": [],
   "source": [
    "areaslist = [cv2.contourArea(mod_con[i]) for i,contour in enumerate(mod_con)]"
   ]
  },
  {
   "cell_type": "markdown",
   "metadata": {},
   "source": [
    "### 去除异常极大值 如果最大值大于所有值之和的一半 则去除"
   ]
  },
  {
   "cell_type": "code",
   "execution_count": 174,
   "metadata": {},
   "outputs": [],
   "source": [
    "for i in range(len(areaslist)):\n",
    "    max_area = max(areaslist)\n",
    "    if max_area > sum(areaslist)/2:\n",
    "        removeid = areaslist.index(max_area)\n",
    "        del areaslist[removeid]\n",
    "        del mod_hie[removeid]\n",
    "        mod_con = np.delete(mod_con,removeid)"
   ]
  },
  {
   "cell_type": "markdown",
   "metadata": {},
   "source": [
    "### 去除极小值 在去除极大值之后 面积最小值小于均值的十分之一的值 去除"
   ]
  },
  {
   "cell_type": "code",
   "execution_count": 175,
   "metadata": {},
   "outputs": [],
   "source": [
    "for i in range(len(areaslist)):\n",
    "    min_area = min(areaslist)\n",
    "    if min_area < sum(areaslist,0.0)/len(areaslist)*0.1:\n",
    "        removeid = areaslist.index(min_area)\n",
    "        del areaslist[removeid]\n",
    "        del mod_hie[removeid]\n",
    "        mod_con = np.delete(mod_con,removeid)"
   ]
  },
  {
   "cell_type": "markdown",
   "metadata": {},
   "source": [
    "# 根据字母数字的高和宽具有一定的一致性 做一次聚类处理"
   ]
  },
  {
   "cell_type": "markdown",
   "metadata": {},
   "source": [
    "# 使用K近邻算法来实现对于不同的轮廓的聚类"
   ]
  },
  {
   "cell_type": "markdown",
   "metadata": {},
   "source": [
    "# 这也是在预处理时选择上下膨胀的原因 使得字母为连续轮廓 同时左右相对独立"
   ]
  },
  {
   "cell_type": "markdown",
   "metadata": {},
   "source": [
    "## 取出轮廓的矩形轮廓"
   ]
  },
  {
   "cell_type": "markdown",
   "metadata": {},
   "source": [
    "#### 去除子轮廓"
   ]
  },
  {
   "cell_type": "code",
   "execution_count": 176,
   "metadata": {},
   "outputs": [],
   "source": [
    "for i,hie in enumerate(mod_hie):\n",
    "    if hie[0][3]!=-1:\n",
    "        del mod_hie[i]\n",
    "        mod_con = np.delete(mod_con,i)"
   ]
  },
  {
   "cell_type": "code",
   "execution_count": 177,
   "metadata": {},
   "outputs": [],
   "source": [
    "rects =[]\n",
    "wh=[]\n",
    "areas =[]\n",
    "for i,contour in enumerate(mod_con):\n",
    "    x,y,w,h = cv2.boundingRect(mod_con[i])\n",
    "    area = cv2.contourArea(mod_con[i])\n",
    "    wh.append([w,h])\n",
    "    areas.append(area)\n",
    "    rects.append([x,y,w,h])"
   ]
  },
  {
   "cell_type": "code",
   "execution_count": 178,
   "metadata": {},
   "outputs": [],
   "source": [
    "rects = np.array(rects)"
   ]
  },
  {
   "cell_type": "code",
   "execution_count": 179,
   "metadata": {},
   "outputs": [],
   "source": [
    "areas = np.array(areas)"
   ]
  },
  {
   "cell_type": "code",
   "execution_count": 180,
   "metadata": {},
   "outputs": [],
   "source": [
    "mod_hie =np.array(mod_hie)"
   ]
  },
  {
   "cell_type": "code",
   "execution_count": 181,
   "metadata": {},
   "outputs": [],
   "source": [
    "from sklearn.cluster import KMeans"
   ]
  },
  {
   "cell_type": "code",
   "execution_count": 182,
   "metadata": {},
   "outputs": [],
   "source": [
    "clf = KMeans(n_clusters=2,init = \"random\")"
   ]
  },
  {
   "cell_type": "code",
   "execution_count": 183,
   "metadata": {},
   "outputs": [
    {
     "data": {
      "text/plain": [
       "KMeans(algorithm='auto', copy_x=True, init='random', max_iter=300, n_clusters=2,\n",
       "       n_init=10, n_jobs=None, precompute_distances='auto', random_state=None,\n",
       "       tol=0.0001, verbose=0)"
      ]
     },
     "execution_count": 183,
     "metadata": {},
     "output_type": "execute_result"
    }
   ],
   "source": [
    "clf.fit(wh)"
   ]
  },
  {
   "cell_type": "code",
   "execution_count": 184,
   "metadata": {},
   "outputs": [],
   "source": [
    "label = clf.labels_"
   ]
  },
  {
   "cell_type": "markdown",
   "metadata": {},
   "source": [
    "### 分类后 取得面积更大的一类"
   ]
  },
  {
   "cell_type": "code",
   "execution_count": 185,
   "metadata": {},
   "outputs": [],
   "source": [
    "if np.sum(areas[label==0]) > np.sum(areas[label==1]):\n",
    "    tag = 0\n",
    "else :\n",
    "    tag = 1"
   ]
  },
  {
   "cell_type": "markdown",
   "metadata": {},
   "source": [
    "## 由于要识别的内容中 存在冒号 而冒号的长和宽与字母数字有较大差异"
   ]
  },
  {
   "cell_type": "markdown",
   "metadata": {},
   "source": [
    "## 很有可能会被分为另一类 同时可能左上角 右下角存在高宽与字母相近的轮廓"
   ]
  },
  {
   "cell_type": "markdown",
   "metadata": {},
   "source": [
    "## 通过 轮廓关系和坐标位置关系来 修改这些值的label 来避免误判"
   ]
  },
  {
   "cell_type": "markdown",
   "metadata": {},
   "source": [
    "### 若前(后)轮廓都为 tag类 且其顶点或底点坐标位置 与前后顶点或底点坐标 基本位于同一水平线上 则更改其标记为 tag "
   ]
  },
  {
   "cell_type": "markdown",
   "metadata": {},
   "source": [
    "### 根据空间坐标关系更改label (同一行最远坐标不超过下列坐标width的三分之二 最小坐标值超过上列坐标的三分之一)"
   ]
  },
  {
   "cell_type": "markdown",
   "metadata": {},
   "source": [
    "其实应该用均值或方差来自动限制行差 但是不想写了 直接给个定值 有机会再维护吧 "
   ]
  },
  {
   "cell_type": "code",
   "execution_count": 186,
   "metadata": {},
   "outputs": [],
   "source": [
    "row = [0]\n",
    "for i in range(1,len(rects[label == tag])-1):\n",
    "    if rects[label == tag][i-1][1] - rects[label == tag][i][1] > 15:\n",
    "        row.append(i)\n",
    "row.append(len(rects[label==tag])-1)"
   ]
  },
  {
   "cell_type": "code",
   "execution_count": 187,
   "metadata": {},
   "outputs": [],
   "source": [
    "label_ture = []\n",
    "tag_re = 0  # 增加一个计数单位\n",
    "tag_ver = 1 - tag  # 取得与tag相反的分类\n",
    "for i in range(len(label)-1):\n",
    "    if label[i] == tag_ver:\n",
    "        if i == 0:\n",
    "            label_ture.append(label[i])\n",
    "            continue\n",
    "    if i == len(label):\n",
    "        label_ture.append(label[i])\n",
    "        continue\n",
    "    if label[i - 1] == tag and label[i + 1] == tag and (\n",
    "            ((rects[i - 1][2] - rects[i][2] < 20) and (rects[i][2] - rects[i + 1][2] < 20)) or (\n",
    "            (abs((rects[i - 1][2] + rects[i - 1][3]) - (rects[i][2] + rects[i - 1][3])) < 10) and (\n",
    "            abs((rects[i][2] + rects[i - 1][3]) - (rects[i + 1][2] + rects[i - 1][3])) < 10))):\n",
    "        label_ture.append(tag)  # 如果存在满足空间条件 以及左右标记都为tag 则设置标记为tag\n",
    "    else:\n",
    "        label_ture.append(tag_ver)\n",
    "if label[i] == tag:\n",
    "    label_ture.append(tag_ver)\n",
    "label_ture = np.array(label_ture)"
   ]
  },
  {
   "cell_type": "code",
   "execution_count": 188,
   "metadata": {},
   "outputs": [],
   "source": [
    "row_ture = []\n",
    "for i in range(len(row)-1) :\n",
    "    if row[i+1]-row[i] == 1:\n",
    "        continue\n",
    "    if rects[label==tag][row[i]][0] < 0.45*width and rects[label==tag][row[i+1]-1][0] > 0.55*width:\n",
    "        row_ture.append([row[i],row[i+1]-1])"
   ]
  },
  {
   "cell_type": "code",
   "execution_count": 189,
   "metadata": {},
   "outputs": [],
   "source": [
    "label_row = np.copy(label)\n",
    "for i in row_ture:\n",
    "    star = np.where(label==tag)[0][i[0]]    \n",
    "    end = np.where(label==tag)[0][i[1]]\n",
    "    for j in np.where(label_row==tag)[0]:\n",
    "        if j  in range(star,end+1):\n",
    "            label_row[j]=2\n",
    "    for n in np.where(label_ture == tag)[0]:\n",
    "        if n  in range(star,end+1):\n",
    "            label_row[n]=2\n",
    "label_row[label_row!=2]=tag_ver\n",
    "label_row[label_row==2]=tag"
   ]
  },
  {
   "cell_type": "code",
   "execution_count": 190,
   "metadata": {},
   "outputs": [],
   "source": [
    "new_rects=[]\n",
    "copy = image.copy()\n",
    "for i,rect in enumerate(rects[label_row==tag]):\n",
    "    # 在事先做过膨胀操作很有可能 出现两个字母连在一起的可能\n",
    "    # 在这里做一步判断排除这种可能\n",
    "    if i!=0 and rects[label_row==tag][i][2] > 60 :\n",
    "        x,y,w,h = rect\n",
    "        new_w = w//2\n",
    "        new_rects.append([x,y,w,h])\n",
    "        cv2.rectangle(copy,(x,y),(x+w,y+h),(0,0,255),2)\n",
    "        x,y,w,h = rect\n",
    "        x+=w//2\n",
    "        w=new_w\n",
    "        cv2.rectangle(copy,(x,y),(x+w,y+h),(0,0,255),2)\n",
    "        new_rects.append([x,y,w,h])\n",
    "        continue\n",
    "    x,y,w,h = rect\n",
    "    new_rects.append([x,y,w,h])\n",
    "    cv2.rectangle(copy,(x,y),(x+w,y+h),(0,0,255),2)"
   ]
  },
  {
   "cell_type": "markdown",
   "metadata": {},
   "source": [
    "for i,rect in enumerate(new_rects):\n",
    "    x,y,w,h = rect\n",
    "    image_try = image[y:y+h,x:x+new_w]\n",
    "    cv2.imshow(f\"{i}\",image_try)\n",
    "    cv2.waitKey(0)\n",
    "    cv2.destroyAllWindows()"
   ]
  },
  {
   "cell_type": "code",
   "execution_count": 191,
   "metadata": {},
   "outputs": [],
   "source": [
    "cv2.imshow(\"review\",copy)\n",
    "cv2.waitKey(0)\n",
    "cv2.destroyAllWindows()"
   ]
  }
 ],
 "metadata": {
  "kernelspec": {
   "display_name": "tf-1.x",
   "language": "python",
   "name": "tf-1.x"
  },
  "language_info": {
   "codemirror_mode": {
    "name": "ipython",
    "version": 3
   },
   "file_extension": ".py",
   "mimetype": "text/x-python",
   "name": "python",
   "nbconvert_exporter": "python",
   "pygments_lexer": "ipython3",
   "version": "3.6.2"
  }
 },
 "nbformat": 4,
 "nbformat_minor": 4
}

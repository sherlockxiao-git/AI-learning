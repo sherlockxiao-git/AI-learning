{
 "cells": [
  {
   "cell_type": "code",
   "execution_count": 84,
   "metadata": {},
   "outputs": [],
   "source": [
    "from sklearn.model_selection import train_test_split\n",
    "import tensorflow as tf\n",
    "import numpy as np\n",
    "import  matplotlib.pyplot as plt\n",
    "from sklearn import datasets"
   ]
  },
  {
   "cell_type": "code",
   "execution_count": 85,
   "metadata": {},
   "outputs": [],
   "source": [
    "x_data,y_data = datasets.make_gaussian_quantiles(n_samples=20,\n",
    "                                                n_features=2,\n",
    "                                                n_classes=2\n",
    "                                                )"
   ]
  },
  {
   "cell_type": "code",
   "execution_count": 86,
   "metadata": {},
   "outputs": [
    {
     "data": {
      "image/png": "[encoded data removed]",
      "text/plain": [
       "<Figure size 432x288 with 1 Axes>"
      ]
     },
     "metadata": {
      "needs_background": "light"
     },
     "output_type": "display_data"
    }
   ],
   "source": [
    "x_class0 = x_data[y_data==0]\n",
    "x_class1 = x_data[y_data==1]\n",
    "\n",
    "plt.scatter(x_class0[:,0],x_class0[:,1],marker='o',c='b')\n",
    "plt.scatter(x_class1[:,0],x_class1[:,1],marker='o',c='r')\n",
    "plt.show()"
   ]
  },
  {
   "cell_type": "code",
   "execution_count": null,
   "metadata": {},
   "outputs": [],
   "source": []
  },
  {
   "cell_type": "code",
   "execution_count": 87,
   "metadata": {},
   "outputs": [],
   "source": [
    "y_data = y_data.reshape(-1,1)"
   ]
  },
  {
   "cell_type": "code",
   "execution_count": 88,
   "metadata": {},
   "outputs": [],
   "source": [
    "X_train,X_test, y_train, y_test = train_test_split(x_data,y_data,test_size = 0.3)"
   ]
  },
  {
   "cell_type": "code",
   "execution_count": 89,
   "metadata": {},
   "outputs": [],
   "source": [
    "n_input = X_train.shape[1]\n",
    "n_output = y_train.shape[1]\n",
    "n_clu1 = 700"
   ]
  },
  {
   "cell_type": "code",
   "execution_count": null,
   "metadata": {},
   "outputs": [],
   "source": []
  },
  {
   "cell_type": "code",
   "execution_count": 90,
   "metadata": {},
   "outputs": [],
   "source": [
    "x = tf.placeholder(tf.float32,shape=(None,n_input),name=\"x\")\n",
    "y = tf.placeholder(tf.float32,shape=(None,n_output),name=\"y\")"
   ]
  },
  {
   "cell_type": "code",
   "execution_count": 91,
   "metadata": {},
   "outputs": [],
   "source": [
    "w_1 = tf.Variable(tf.random.normal([n_input,n_clu1]),dtype = tf.float32,name=\"w_1\")\n",
    "b_1 = tf.Variable(tf.random.normal([n_clu1]),dtype = tf.float32,name=\"b_1\")\n",
    "z_1 = tf.matmul(x,w_1)+b_1\n",
    "a_1 = tf.nn.relu(z_1)"
   ]
  },
  {
   "cell_type": "code",
   "execution_count": null,
   "metadata": {},
   "outputs": [],
   "source": []
  },
  {
   "cell_type": "code",
   "execution_count": null,
   "metadata": {},
   "outputs": [],
   "source": []
  },
  {
   "cell_type": "code",
   "execution_count": 92,
   "metadata": {},
   "outputs": [],
   "source": [
    "w_2 = tf.Variable(tf.random.normal([n_clu1,n_output]),dtype = tf.float32,name=\"w_2\")\n",
    "b_2 = tf.Variable(tf.random.normal([n_output]),dtype = tf.float32,name=\"b_2\")\n",
    "z_2 = tf.matmul(a_1,w_2)+b_2\n",
    "y_hat = tf.sigmoid(z_2)"
   ]
  },
  {
   "cell_type": "code",
   "execution_count": 93,
   "metadata": {},
   "outputs": [],
   "source": [
    "cost = -tf.reduce_mean(y*tf.log(y_hat+tf.pow(10.0,-9))+(1-y)*tf.log(1-y_hat))"
   ]
  },
  {
   "cell_type": "code",
   "execution_count": 94,
   "metadata": {},
   "outputs": [],
   "source": [
    "gradience = tf.train.GradientDescentOptimizer(0.01).minimize(cost)"
   ]
  },
  {
   "cell_type": "code",
   "execution_count": 95,
   "metadata": {},
   "outputs": [],
   "source": [
    "num_epochs = 500\n",
    "cost_epochs = []\n",
    "val_epochs = []\n",
    "prediction = []"
   ]
  },
  {
   "cell_type": "code",
   "execution_count": 96,
   "metadata": {},
   "outputs": [],
   "source": [
    "with tf.Session() as tfs:\n",
    "    tfs.run(tf.global_variables_initializer())\n",
    "    for epoch in range(num_epochs):\n",
    "        tfs.run(gradience,feed_dict={x:X_train,y:y_train})\n",
    "        cost_val = tfs.run(cost,feed_dict={x:X_train,y:y_train})\n",
    "        cost_epochs.append(cost_val)\n",
    "        test_val = tfs.run(cost,feed_dict={x:X_test,y:y_test})\n",
    "        cost_epochs.append(test_val)\n",
    "    prediction = tfs.run(y_hat,feed_dict={x:X_test})"
   ]
  },
  {
   "cell_type": "code",
   "execution_count": 97,
   "metadata": {},
   "outputs": [
    {
     "data": {
      "text/plain": [
       "[]"
      ]
     },
     "execution_count": 97,
     "metadata": {},
     "output_type": "execute_result"
    }
   ],
   "source": [
    "val_epochs"
   ]
  },
  {
   "cell_type": "code",
   "execution_count": 98,
   "metadata": {},
   "outputs": [
    {
     "data": {
      "image/png": "[encoded data removed]",
      "text/plain": [
       "<Figure size 864x576 with 1 Axes>"
      ]
     },
     "metadata": {
      "needs_background": "light"
     },
     "output_type": "display_data"
    }
   ],
   "source": [
    "plt.figure(figsize=(12,8))\n",
    "plt.plot(cost_epochs,\"g\")\n",
    "plt.plot(val_epochs,\"b\")\n",
    "plt.show()"
   ]
  }
 ],
 "metadata": {
  "kernelspec": {
   "display_name": "tf-1.x",
   "language": "python",
   "name": "tf-1.x"
  },
  "language_info": {
   "codemirror_mode": {
    "name": "ipython",
    "version": 3
   },
   "file_extension": ".py",
   "mimetype": "text/x-python",
   "name": "python",
   "nbconvert_exporter": "python",
   "pygments_lexer": "ipython3",
   "version": "3.6.2"
  }
 },
 "nbformat": 4,
 "nbformat_minor": 4
}

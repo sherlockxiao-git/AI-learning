{
 "cells": [
  {
   "cell_type": "code",
   "execution_count": 1,
   "metadata": {},
   "outputs": [],
   "source": [
    "import cv2 \n",
    "import numpy as np"
   ]
  },
  {
   "cell_type": "markdown",
   "metadata": {},
   "source": [
    "## 读入数据 转RGB为灰度"
   ]
  },
  {
   "cell_type": "code",
   "execution_count": 2,
   "metadata": {},
   "outputs": [],
   "source": [
    "image = cv2.imread(\"image/c1/ce_01.jpg\")"
   ]
  },
  {
   "cell_type": "code",
   "execution_count": 3,
   "metadata": {},
   "outputs": [],
   "source": [
    "img_gray = cv2.cvtColor(image,cv2.COLOR_BGR2GRAY)"
   ]
  },
  {
   "cell_type": "code",
   "execution_count": 5,
   "metadata": {},
   "outputs": [],
   "source": [
    "cv2.imshow(\"origin\",image)\n",
    "cv2.imshow(\"gray\",img_gray)\n",
    "cv2.waitKey(0)\n",
    "cv2.destroyAllWindows()"
   ]
  },
  {
   "cell_type": "markdown",
   "metadata": {},
   "source": [
    "## 转灰度图为二进制图"
   ]
  },
  {
   "cell_type": "code",
   "execution_count": 4,
   "metadata": {},
   "outputs": [],
   "source": [
    "ret,binary = cv2.threshold(img_gray,0,255,cv2.THRESH_BINARY_INV|cv2.THRESH_OTSU)"
   ]
  },
  {
   "cell_type": "code",
   "execution_count": 32,
   "metadata": {},
   "outputs": [],
   "source": [
    "cv2.imshow(\"bi\",binary)\n",
    "cv2.imshow(\"gray\",img_gray)\n",
    "cv2.waitKey(0)\n",
    "cv2.destroyAllWindows()"
   ]
  },
  {
   "cell_type": "markdown",
   "metadata": {},
   "source": [
    "## 处理空洞"
   ]
  },
  {
   "cell_type": "code",
   "execution_count": 5,
   "metadata": {},
   "outputs": [],
   "source": [
    "kernel = np.ones((3,3),dtype=np.uint8)"
   ]
  },
  {
   "cell_type": "code",
   "execution_count": 6,
   "metadata": {},
   "outputs": [],
   "source": [
    "open_binary = cv2.morphologyEx(binary,cv2.MORPH_OPEN,kernel,4)"
   ]
  },
  {
   "cell_type": "code",
   "execution_count": 7,
   "metadata": {},
   "outputs": [],
   "source": [
    "cv2.imshow(\"bi\",binary)\n",
    "cv2.imshow(\"op_bo\",open_binary)\n",
    "cv2.waitKey(0)\n",
    "cv2.destroyAllWindows()"
   ]
  },
  {
   "cell_type": "markdown",
   "metadata": {},
   "source": [
    "## 寻找轮廓"
   ]
  },
  {
   "cell_type": "code",
   "execution_count": 8,
   "metadata": {},
   "outputs": [],
   "source": [
    "contours,hierachy =  cv2.findContours(open_binary,cv2.RETR_TREE,cv2.CHAIN_APPROX_SIMPLE)"
   ]
  },
  {
   "cell_type": "code",
   "execution_count": 9,
   "metadata": {},
   "outputs": [],
   "source": [
    "copy = image.copy()\n",
    "r = cv2.drawContours(copy,contours,-1,(0,0,255),2)"
   ]
  },
  {
   "cell_type": "code",
   "execution_count": null,
   "metadata": {},
   "outputs": [],
   "source": [
    "# x,y,w,h = cv2.boundingRect(contours[0])"
   ]
  },
  {
   "cell_type": "code",
   "execution_count": null,
   "metadata": {},
   "outputs": [],
   "source": [
    "# ares = cv2.contourArea()"
   ]
  },
  {
   "cell_type": "markdown",
   "metadata": {},
   "source": [
    "## 取出刀片轮廓"
   ]
  },
  {
   "cell_type": "code",
   "execution_count": 10,
   "metadata": {},
   "outputs": [],
   "source": [
    "def fileterContours(contours,thresh1,thresh2):\n",
    "    rects = []\n",
    "    for i,contour in enumerate(contours):\n",
    "        x,y,w,h = cv2.boundingRect(contours[i])\n",
    "        area = cv2.contourArea(contours[i])\n",
    "        \n",
    "        if h > thresh1:\n",
    "            continue\n",
    "        if area <thresh2:\n",
    "            continue\n",
    "        rects.append([x,y,w,h])\n",
    "        \n",
    "    rects = rects[::-1]  #切片改为正向\n",
    "    \n",
    "    return rects"
   ]
  },
  {
   "cell_type": "markdown",
   "metadata": {},
   "source": [
    "# 待改善"
   ]
  },
  {
   "cell_type": "code",
   "execution_count": 25,
   "metadata": {},
   "outputs": [],
   "source": [
    "areslist = np.array([cv2.contourArea(contours[i]) for i,contour in enumerate(contours)]).reshape(-1,1)"
   ]
  },
  {
   "cell_type": "code",
   "execution_count": 14,
   "metadata": {},
   "outputs": [
    {
     "data": {
      "text/plain": [
       "array([5.105610e+05, 1.005000e+02, 1.375000e+02, 2.147315e+05,\n",
       "       7.115000e+03, 7.138000e+03, 2.000000e+00, 2.000000e+00,\n",
       "       4.000000e+00, 4.000000e+00, 7.128000e+03, 2.000000e+00,\n",
       "       2.000000e+00, 7.041000e+03, 7.067000e+03, 7.201000e+03,\n",
       "       2.000000e+00, 7.143500e+03])"
      ]
     },
     "execution_count": 14,
     "metadata": {},
     "output_type": "execute_result"
    }
   ],
   "source": [
    "areslistz"
   ]
  },
  {
   "cell_type": "code",
   "execution_count": 52,
   "metadata": {},
   "outputs": [],
   "source": [
    "from sklearn.cluster import KMeans\n",
    "from sklearn.preprocessing import StandardScaler"
   ]
  },
  {
   "cell_type": "code",
   "execution_count": 53,
   "metadata": {},
   "outputs": [],
   "source": [
    "standardscaler = StandardScaler()"
   ]
  },
  {
   "cell_type": "code",
   "execution_count": 55,
   "metadata": {},
   "outputs": [],
   "source": [
    "standardscaler.fit(areslist)\n",
    "ares_standard = standardscaler.transform(areslist)"
   ]
  },
  {
   "cell_type": "code",
   "execution_count": 59,
   "metadata": {
    "collapsed": true,
    "jupyter": {
     "outputs_hidden": true
    }
   },
   "outputs": [
    {
     "data": {
      "text/plain": [
       "array([[ 3.79085564],\n",
       "       [-0.34849703],\n",
       "       [-0.348197  ],\n",
       "       [ 1.39195772],\n",
       "       [-0.29161606],\n",
       "       [-0.29142955],\n",
       "       [-0.34929578],\n",
       "       [-0.34929578],\n",
       "       [-0.34927956],\n",
       "       [-0.34927956],\n",
       "       [-0.29151064],\n",
       "       [-0.34929578],\n",
       "       [-0.34929578],\n",
       "       [-0.29221613],\n",
       "       [-0.2920053 ],\n",
       "       [-0.29091868],\n",
       "       [-0.34929578],\n",
       "       [-0.29138495]])"
      ]
     },
     "execution_count": 59,
     "metadata": {},
     "output_type": "execute_result"
    }
   ],
   "source": [
    "ares_standard"
   ]
  },
  {
   "cell_type": "code",
   "execution_count": 75,
   "metadata": {},
   "outputs": [],
   "source": [
    "clf = KMeans(n_clusters=4,init = \"random\")"
   ]
  },
  {
   "cell_type": "code",
   "execution_count": 76,
   "metadata": {},
   "outputs": [
    {
     "data": {
      "text/plain": [
       "KMeans(algorithm='auto', copy_x=True, init='random', max_iter=300, n_clusters=4,\n",
       "       n_init=10, n_jobs=None, precompute_distances='auto', random_state=None,\n",
       "       tol=0.0001, verbose=0)"
      ]
     },
     "execution_count": 76,
     "metadata": {},
     "output_type": "execute_result"
    }
   ],
   "source": [
    "clf.fit(ares_standard)"
   ]
  },
  {
   "cell_type": "code",
   "execution_count": 77,
   "metadata": {},
   "outputs": [
    {
     "data": {
      "text/plain": [
       "array([2, 0, 0, 3, 1, 1, 0, 0, 0, 0, 1, 0, 0, 1, 1, 1, 0, 1])"
      ]
     },
     "execution_count": 77,
     "metadata": {},
     "output_type": "execute_result"
    }
   ],
   "source": [
    "clf.labels_"
   ]
  },
  {
   "cell_type": "code",
   "execution_count": 11,
   "metadata": {
    "collapsed": true,
    "jupyter": {
     "outputs_hidden": true
    }
   },
   "outputs": [
    {
     "data": {
      "text/plain": [
       "[510561.0,\n",
       " 100.5,\n",
       " 137.5,\n",
       " 214731.5,\n",
       " 7115.0,\n",
       " 7138.0,\n",
       " 2.0,\n",
       " 2.0,\n",
       " 4.0,\n",
       " 4.0,\n",
       " 7128.0,\n",
       " 2.0,\n",
       " 2.0,\n",
       " 7041.0,\n",
       " 7067.0,\n",
       " 7201.0,\n",
       " 2.0,\n",
       " 7143.5]"
      ]
     },
     "execution_count": 11,
     "metadata": {},
     "output_type": "execute_result"
    }
   ],
   "source": [
    "areslist"
   ]
  },
  {
   "cell_type": "markdown",
   "metadata": {},
   "source": [
    "# 接上文"
   ]
  },
  {
   "cell_type": "code",
   "execution_count": 11,
   "metadata": {},
   "outputs": [],
   "source": [
    "height = image.shape[1]/2\n",
    "rects = fileterContours(contours,height,150)"
   ]
  },
  {
   "cell_type": "code",
   "execution_count": 12,
   "metadata": {},
   "outputs": [
    {
     "data": {
      "text/plain": [
       "[[238, 236, 169, 54],\n",
       " [238, 310, 168, 54],\n",
       " [238, 383, 169, 55],\n",
       " [239, 457, 168, 56],\n",
       " [238, 528, 169, 55],\n",
       " [239, 603, 169, 54],\n",
       " [240, 676, 168, 54]]"
      ]
     },
     "execution_count": 12,
     "metadata": {},
     "output_type": "execute_result"
    }
   ],
   "source": [
    "rects"
   ]
  },
  {
   "cell_type": "code",
   "execution_count": 13,
   "metadata": {},
   "outputs": [],
   "source": [
    "copy = image.copy()\n",
    "for i,rect in enumerate(rects):\n",
    "    x,y,w,h = rect\n",
    "    cv2.rectangle(copy,(x,y),(x+w,y+h),(0,0,255),2)\n",
    "    cv2.putText(copy,str(i),(x,y-5),cv2.FONT_HERSHEY_SIMPLEX,1,(0,225,0),2)"
   ]
  },
  {
   "cell_type": "code",
   "execution_count": 14,
   "metadata": {},
   "outputs": [],
   "source": [
    "cv2.imshow(\"con\",copy)\n",
    "cv2.waitKey(0)\n",
    "cv2.destroyAllWindows()"
   ]
  },
  {
   "cell_type": "code",
   "execution_count": null,
   "metadata": {},
   "outputs": [],
   "source": []
  },
  {
   "cell_type": "code",
   "execution_count": 15,
   "metadata": {},
   "outputs": [],
   "source": [
    "x,y,w,h = rects[1]"
   ]
  },
  {
   "cell_type": "code",
   "execution_count": 16,
   "metadata": {},
   "outputs": [],
   "source": [
    "template = binary[y:y+h,x:x+w]"
   ]
  },
  {
   "cell_type": "code",
   "execution_count": 17,
   "metadata": {},
   "outputs": [],
   "source": [
    "height,width = template.shape[0],template.shape[1]"
   ]
  },
  {
   "cell_type": "code",
   "execution_count": 18,
   "metadata": {},
   "outputs": [],
   "source": [
    "x,y,w,h = rects[0]\n",
    "roi = binary[y:y+h,x:x+w]\n",
    "roi = cv2.resize(roi,(width,height))\n"
   ]
  },
  {
   "cell_type": "code",
   "execution_count": 19,
   "metadata": {},
   "outputs": [],
   "source": [
    "sub = cv2.subtract(template,roi)"
   ]
  },
  {
   "cell_type": "code",
   "execution_count": 31,
   "metadata": {},
   "outputs": [],
   "source": [
    "cv2.imshow(\"sub\",sub)\n",
    "cv2.waitKey(0)\n",
    "cv2.destroyAllWindows()"
   ]
  },
  {
   "cell_type": "code",
   "execution_count": 20,
   "metadata": {},
   "outputs": [],
   "source": [
    "kernel = np.ones((3,3),dtype = np.uint8)\n",
    "result = cv2.morphologyEx(sub,cv2.MORPH_OPEN,kernel,iterations=1)"
   ]
  },
  {
   "cell_type": "code",
   "execution_count": 34,
   "metadata": {},
   "outputs": [],
   "source": [
    "cv2.imshow(\"result\",result)\n",
    "cv2.waitKey(0)\n",
    "cv2.destroyAllWindows()"
   ]
  },
  {
   "cell_type": "code",
   "execution_count": null,
   "metadata": {},
   "outputs": [],
   "source": []
  },
  {
   "cell_type": "code",
   "execution_count": 28,
   "metadata": {},
   "outputs": [],
   "source": [
    "def detectDefect(image,template,rects):\n",
    "    defect = []\n",
    "    kernel = np.ones((3,3),dtype = np.uint8)\n",
    "    height = template.shape[0]\n",
    "    width = template.shape[1]\n",
    "    \n",
    "    for x,y,w,h in rects:\n",
    "        suspect = False\n",
    "        roi = image[y:y+h,x:x+w]\n",
    "        roi = cv2.resize(roi,(width,height))\n",
    "        sub = cv2.subtract(template,roi)\n",
    "        \n",
    "        result = cv2.morphologyEx(sub,cv2.MORPH_OPEN,kernel,iterations=1)\n",
    "    \n",
    "        contours,hierachy  = cv2.findContours(result,cv2.RETR_TREE,cv2.CHAIN_APPROX_SIMPLE)\n",
    "        for contour in contours:\n",
    "            x1,y1,w1,h1 = cv2.boundingRect(contour)\n",
    "            area = cv2.contourArea(contour)\n",
    "            ratio = float(w1/h1)\n",
    "\n",
    "            if (ratio >4 ) and (y1<5 or (height - y1 - h1)<10):\n",
    "                continue\n",
    "            if(ratio>4) and(y1<5 or (height-y1-h1)<10):\n",
    "                continue\n",
    "            if area >10:\n",
    "                suspect =True\n",
    "                break\n",
    "\n",
    "        if suspect:\n",
    "            count = (result!=0).sum()\n",
    "            if count >50:\n",
    "                defect.append([x,y,w,h])\n",
    "    return defect"
   ]
  },
  {
   "cell_type": "code",
   "execution_count": 29,
   "metadata": {},
   "outputs": [],
   "source": [
    "defect = detectDefect(binary,template,rects)"
   ]
  },
  {
   "cell_type": "code",
   "execution_count": 30,
   "metadata": {},
   "outputs": [
    {
     "data": {
      "text/plain": [
       "[[238, 236, 169, 54], [238, 383, 169, 55], [239, 457, 168, 56]]"
      ]
     },
     "execution_count": 30,
     "metadata": {},
     "output_type": "execute_result"
    }
   ],
   "source": [
    "defect"
   ]
  },
  {
   "cell_type": "code",
   "execution_count": 34,
   "metadata": {},
   "outputs": [],
   "source": [
    "copy = image.copy()\n",
    "for i,rect in enumerate(defect):\n",
    "    x,y,w,h = rect \n",
    "    cv2.rectangle(copy,(x,y),(x+w,y+h),(0,0,255),2)\n",
    "    cv2.putText(copy,\"bad\",(x,y-5),cv2.FONT_HERSHEY_SIMPLEX,1,(0,255,0),2)\n",
    "\n",
    "cv2.imshow(\"defect\",copy)\n",
    "cv2.waitKey(0)\n",
    "cv2.destroyAllWindows()"
   ]
  }
 ],
 "metadata": {
  "kernelspec": {
   "display_name": "tf-1.x",
   "language": "python",
   "name": "tf-1.x"
  },
  "language_info": {
   "codemirror_mode": {
    "name": "ipython",
    "version": 3
   },
   "file_extension": ".py",
   "mimetype": "text/x-python",
   "name": "python",
   "nbconvert_exporter": "python",
   "pygments_lexer": "ipython3",
   "version": "3.6.2"
  }
 },
 "nbformat": 4,
 "nbformat_minor": 4
}

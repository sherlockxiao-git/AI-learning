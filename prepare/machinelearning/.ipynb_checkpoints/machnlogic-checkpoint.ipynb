{
 "cells": [
  {
   "cell_type": "code",
   "execution_count": 1,
   "metadata": {},
   "outputs": [],
   "source": [
    "import numpy as np\n",
    "import pandas as pd\n",
    "import matplotlib.pyplot as plt\n",
    "import math"
   ]
  },
  {
   "cell_type": "code",
   "execution_count": 2,
   "metadata": {},
   "outputs": [
    {
     "data": {
      "text/html": [
       "<div>\n",
       "<style scoped>\n",
       "    .dataframe tbody tr th:only-of-type {\n",
       "        vertical-align: middle;\n",
       "    }\n",
       "\n",
       "    .dataframe tbody tr th {\n",
       "        vertical-align: top;\n",
       "    }\n",
       "\n",
       "    .dataframe thead th {\n",
       "        text-align: right;\n",
       "    }\n",
       "</style>\n",
       "<table border=\"1\" class=\"dataframe\">\n",
       "  <thead>\n",
       "    <tr style=\"text-align: right;\">\n",
       "      <th></th>\n",
       "      <th>0.051267</th>\n",
       "      <th>0.69956</th>\n",
       "      <th>1</th>\n",
       "    </tr>\n",
       "  </thead>\n",
       "  <tbody>\n",
       "    <tr>\n",
       "      <th>0</th>\n",
       "      <td>-0.092742</td>\n",
       "      <td>0.684940</td>\n",
       "      <td>1</td>\n",
       "    </tr>\n",
       "    <tr>\n",
       "      <th>1</th>\n",
       "      <td>-0.213710</td>\n",
       "      <td>0.692250</td>\n",
       "      <td>1</td>\n",
       "    </tr>\n",
       "    <tr>\n",
       "      <th>2</th>\n",
       "      <td>-0.375000</td>\n",
       "      <td>0.502190</td>\n",
       "      <td>1</td>\n",
       "    </tr>\n",
       "    <tr>\n",
       "      <th>3</th>\n",
       "      <td>-0.513250</td>\n",
       "      <td>0.465640</td>\n",
       "      <td>1</td>\n",
       "    </tr>\n",
       "    <tr>\n",
       "      <th>4</th>\n",
       "      <td>-0.524770</td>\n",
       "      <td>0.209800</td>\n",
       "      <td>1</td>\n",
       "    </tr>\n",
       "    <tr>\n",
       "      <th>...</th>\n",
       "      <td>...</td>\n",
       "      <td>...</td>\n",
       "      <td>...</td>\n",
       "    </tr>\n",
       "    <tr>\n",
       "      <th>112</th>\n",
       "      <td>-0.720620</td>\n",
       "      <td>0.538740</td>\n",
       "      <td>0</td>\n",
       "    </tr>\n",
       "    <tr>\n",
       "      <th>113</th>\n",
       "      <td>-0.593890</td>\n",
       "      <td>0.494880</td>\n",
       "      <td>0</td>\n",
       "    </tr>\n",
       "    <tr>\n",
       "      <th>114</th>\n",
       "      <td>-0.484450</td>\n",
       "      <td>0.999270</td>\n",
       "      <td>0</td>\n",
       "    </tr>\n",
       "    <tr>\n",
       "      <th>115</th>\n",
       "      <td>-0.006336</td>\n",
       "      <td>0.999270</td>\n",
       "      <td>0</td>\n",
       "    </tr>\n",
       "    <tr>\n",
       "      <th>116</th>\n",
       "      <td>0.632650</td>\n",
       "      <td>-0.030612</td>\n",
       "      <td>0</td>\n",
       "    </tr>\n",
       "  </tbody>\n",
       "</table>\n",
       "<p>117 rows × 3 columns</p>\n",
       "</div>"
      ],
      "text/plain": [
       "     0.051267   0.69956  1\n",
       "0   -0.092742  0.684940  1\n",
       "1   -0.213710  0.692250  1\n",
       "2   -0.375000  0.502190  1\n",
       "3   -0.513250  0.465640  1\n",
       "4   -0.524770  0.209800  1\n",
       "..        ...       ... ..\n",
       "112 -0.720620  0.538740  0\n",
       "113 -0.593890  0.494880  0\n",
       "114 -0.484450  0.999270  0\n",
       "115 -0.006336  0.999270  0\n",
       "116  0.632650 -0.030612  0\n",
       "\n",
       "[117 rows x 3 columns]"
      ]
     },
     "execution_count": 2,
     "metadata": {},
     "output_type": "execute_result"
    }
   ],
   "source": [
    "data = pd.read_csv(\"ex2data2.txt\")\n",
    "data"
   ]
  },
  {
   "cell_type": "code",
   "execution_count": 3,
   "metadata": {},
   "outputs": [
    {
     "data": {
      "text/html": [
       "<div>\n",
       "<style scoped>\n",
       "    .dataframe tbody tr th:only-of-type {\n",
       "        vertical-align: middle;\n",
       "    }\n",
       "\n",
       "    .dataframe tbody tr th {\n",
       "        vertical-align: top;\n",
       "    }\n",
       "\n",
       "    .dataframe thead th {\n",
       "        text-align: right;\n",
       "    }\n",
       "</style>\n",
       "<table border=\"1\" class=\"dataframe\">\n",
       "  <thead>\n",
       "    <tr style=\"text-align: right;\">\n",
       "      <th></th>\n",
       "      <th>test1</th>\n",
       "      <th>test2</th>\n",
       "      <th>accepted</th>\n",
       "    </tr>\n",
       "  </thead>\n",
       "  <tbody>\n",
       "    <tr>\n",
       "      <th>0</th>\n",
       "      <td>0.051267</td>\n",
       "      <td>0.69956</td>\n",
       "      <td>1</td>\n",
       "    </tr>\n",
       "    <tr>\n",
       "      <th>1</th>\n",
       "      <td>-0.092742</td>\n",
       "      <td>0.68494</td>\n",
       "      <td>1</td>\n",
       "    </tr>\n",
       "    <tr>\n",
       "      <th>2</th>\n",
       "      <td>-0.213710</td>\n",
       "      <td>0.69225</td>\n",
       "      <td>1</td>\n",
       "    </tr>\n",
       "    <tr>\n",
       "      <th>3</th>\n",
       "      <td>-0.375000</td>\n",
       "      <td>0.50219</td>\n",
       "      <td>1</td>\n",
       "    </tr>\n",
       "    <tr>\n",
       "      <th>4</th>\n",
       "      <td>-0.513250</td>\n",
       "      <td>0.46564</td>\n",
       "      <td>1</td>\n",
       "    </tr>\n",
       "  </tbody>\n",
       "</table>\n",
       "</div>"
      ],
      "text/plain": [
       "      test1    test2  accepted\n",
       "0  0.051267  0.69956         1\n",
       "1 -0.092742  0.68494         1\n",
       "2 -0.213710  0.69225         1\n",
       "3 -0.375000  0.50219         1\n",
       "4 -0.513250  0.46564         1"
      ]
     },
     "execution_count": 3,
     "metadata": {},
     "output_type": "execute_result"
    }
   ],
   "source": [
    "data = pd.read_csv(\"ex2data2.txt\",names=[\"test1\",\"test2\",\"accepted\"])\n",
    "data.head()"
   ]
  },
  {
   "cell_type": "code",
   "execution_count": 4,
   "metadata": {},
   "outputs": [
    {
     "data": {
      "image/png": "[encoded data removed]",
      "text/plain": [
       "<Figure size 864x576 with 1 Axes>"
      ]
     },
     "metadata": {
      "needs_background": "light"
     },
     "output_type": "display_data"
    }
   ],
   "source": [
    "positive = data[data['accepted']==1]\n",
    "negative = data[data['accepted']==0]\n",
    "\n",
    "fig, ax = plt.subplots(figsize=(12,8))\n",
    "ax.scatter(positive['test1'], positive['test2'], s=50, c='b', marker='o', label='Admitted')\n",
    "ax.scatter(negative['test1'], negative['test2'], s=50, c='r', marker='x', label='Not Admitted')\n",
    "ax.legend()\n",
    "ax.set_xlabel('Exam 1 Score')\n",
    "ax.set_ylabel('Exam 2 Score')\n",
    "plt.show()"
   ]
  },
  {
   "cell_type": "code",
   "execution_count": 5,
   "metadata": {},
   "outputs": [],
   "source": [
    "# def normalization(x):\n",
    "#     return ((x-x.min())/(x.max()-x.min()))"
   ]
  },
  {
   "cell_type": "code",
   "execution_count": 6,
   "metadata": {},
   "outputs": [],
   "source": [
    "# data2=normalization(data[[\"exam 1\",\"exam 2\"]])\n",
    "# data2.describe()"
   ]
  },
  {
   "cell_type": "code",
   "execution_count": 7,
   "metadata": {},
   "outputs": [],
   "source": [
    "def feature_mapping(x1,x2,power):\n",
    "    fea_dict={}\n",
    "    for i in range(power+1):\n",
    "        for j in range(power-i+1):\n",
    "            fea_dict[f\"F{i}{j}\"]=np.power(x1,i)*np.power(x2,j)\n",
    "    return pd.DataFrame(fea_dict)"
   ]
  },
  {
   "cell_type": "code",
   "execution_count": 8,
   "metadata": {},
   "outputs": [
    {
     "data": {
      "text/html": [
       "<div>\n",
       "<style scoped>\n",
       "    .dataframe tbody tr th:only-of-type {\n",
       "        vertical-align: middle;\n",
       "    }\n",
       "\n",
       "    .dataframe tbody tr th {\n",
       "        vertical-align: top;\n",
       "    }\n",
       "\n",
       "    .dataframe thead th {\n",
       "        text-align: right;\n",
       "    }\n",
       "</style>\n",
       "<table border=\"1\" class=\"dataframe\">\n",
       "  <thead>\n",
       "    <tr style=\"text-align: right;\">\n",
       "      <th></th>\n",
       "      <th>F00</th>\n",
       "      <th>F01</th>\n",
       "      <th>F02</th>\n",
       "      <th>F03</th>\n",
       "      <th>F04</th>\n",
       "      <th>F05</th>\n",
       "      <th>F06</th>\n",
       "      <th>F10</th>\n",
       "      <th>F11</th>\n",
       "      <th>F12</th>\n",
       "      <th>...</th>\n",
       "      <th>F30</th>\n",
       "      <th>F31</th>\n",
       "      <th>F32</th>\n",
       "      <th>F33</th>\n",
       "      <th>F40</th>\n",
       "      <th>F41</th>\n",
       "      <th>F42</th>\n",
       "      <th>F50</th>\n",
       "      <th>F51</th>\n",
       "      <th>F60</th>\n",
       "    </tr>\n",
       "  </thead>\n",
       "  <tbody>\n",
       "    <tr>\n",
       "      <th>0</th>\n",
       "      <td>1.0</td>\n",
       "      <td>0.699560</td>\n",
       "      <td>0.489384</td>\n",
       "      <td>0.342354</td>\n",
       "      <td>2.394969e-01</td>\n",
       "      <td>1.675424e-01</td>\n",
       "      <td>1.172060e-01</td>\n",
       "      <td>0.051267</td>\n",
       "      <td>0.035864</td>\n",
       "      <td>0.025089</td>\n",
       "      <td>...</td>\n",
       "      <td>1.347453e-04</td>\n",
       "      <td>9.426244e-05</td>\n",
       "      <td>6.594223e-05</td>\n",
       "      <td>4.613055e-05</td>\n",
       "      <td>6.907989e-06</td>\n",
       "      <td>4.832553e-06</td>\n",
       "      <td>3.380660e-06</td>\n",
       "      <td>3.541519e-07</td>\n",
       "      <td>2.477505e-07</td>\n",
       "      <td>1.815630e-08</td>\n",
       "    </tr>\n",
       "    <tr>\n",
       "      <th>1</th>\n",
       "      <td>1.0</td>\n",
       "      <td>0.684940</td>\n",
       "      <td>0.469143</td>\n",
       "      <td>0.321335</td>\n",
       "      <td>2.200950e-01</td>\n",
       "      <td>1.507518e-01</td>\n",
       "      <td>1.032560e-01</td>\n",
       "      <td>-0.092742</td>\n",
       "      <td>-0.063523</td>\n",
       "      <td>-0.043509</td>\n",
       "      <td>...</td>\n",
       "      <td>-7.976812e-04</td>\n",
       "      <td>-5.463638e-04</td>\n",
       "      <td>-3.742264e-04</td>\n",
       "      <td>-2.563226e-04</td>\n",
       "      <td>7.397855e-05</td>\n",
       "      <td>5.067087e-05</td>\n",
       "      <td>3.470651e-05</td>\n",
       "      <td>-6.860919e-06</td>\n",
       "      <td>-4.699318e-06</td>\n",
       "      <td>6.362953e-07</td>\n",
       "    </tr>\n",
       "    <tr>\n",
       "      <th>2</th>\n",
       "      <td>1.0</td>\n",
       "      <td>0.692250</td>\n",
       "      <td>0.479210</td>\n",
       "      <td>0.331733</td>\n",
       "      <td>2.296423e-01</td>\n",
       "      <td>1.589699e-01</td>\n",
       "      <td>1.100469e-01</td>\n",
       "      <td>-0.213710</td>\n",
       "      <td>-0.147941</td>\n",
       "      <td>-0.102412</td>\n",
       "      <td>...</td>\n",
       "      <td>-9.760555e-03</td>\n",
       "      <td>-6.756745e-03</td>\n",
       "      <td>-4.677356e-03</td>\n",
       "      <td>-3.237900e-03</td>\n",
       "      <td>2.085928e-03</td>\n",
       "      <td>1.443984e-03</td>\n",
       "      <td>9.995978e-04</td>\n",
       "      <td>-4.457837e-04</td>\n",
       "      <td>-3.085938e-04</td>\n",
       "      <td>9.526844e-05</td>\n",
       "    </tr>\n",
       "    <tr>\n",
       "      <th>3</th>\n",
       "      <td>1.0</td>\n",
       "      <td>0.502190</td>\n",
       "      <td>0.252195</td>\n",
       "      <td>0.126650</td>\n",
       "      <td>6.360222e-02</td>\n",
       "      <td>3.194040e-02</td>\n",
       "      <td>1.604015e-02</td>\n",
       "      <td>-0.375000</td>\n",
       "      <td>-0.188321</td>\n",
       "      <td>-0.094573</td>\n",
       "      <td>...</td>\n",
       "      <td>-5.273438e-02</td>\n",
       "      <td>-2.648268e-02</td>\n",
       "      <td>-1.329933e-02</td>\n",
       "      <td>-6.678793e-03</td>\n",
       "      <td>1.977539e-02</td>\n",
       "      <td>9.931003e-03</td>\n",
       "      <td>4.987251e-03</td>\n",
       "      <td>-7.415771e-03</td>\n",
       "      <td>-3.724126e-03</td>\n",
       "      <td>2.780914e-03</td>\n",
       "    </tr>\n",
       "    <tr>\n",
       "      <th>4</th>\n",
       "      <td>1.0</td>\n",
       "      <td>0.465640</td>\n",
       "      <td>0.216821</td>\n",
       "      <td>0.100960</td>\n",
       "      <td>4.701118e-02</td>\n",
       "      <td>2.189028e-02</td>\n",
       "      <td>1.019299e-02</td>\n",
       "      <td>-0.513250</td>\n",
       "      <td>-0.238990</td>\n",
       "      <td>-0.111283</td>\n",
       "      <td>...</td>\n",
       "      <td>-1.352032e-01</td>\n",
       "      <td>-6.295600e-02</td>\n",
       "      <td>-2.931483e-02</td>\n",
       "      <td>-1.365016e-02</td>\n",
       "      <td>6.939303e-02</td>\n",
       "      <td>3.231217e-02</td>\n",
       "      <td>1.504584e-02</td>\n",
       "      <td>-3.561597e-02</td>\n",
       "      <td>-1.658422e-02</td>\n",
       "      <td>1.827990e-02</td>\n",
       "    </tr>\n",
       "    <tr>\n",
       "      <th>...</th>\n",
       "      <td>...</td>\n",
       "      <td>...</td>\n",
       "      <td>...</td>\n",
       "      <td>...</td>\n",
       "      <td>...</td>\n",
       "      <td>...</td>\n",
       "      <td>...</td>\n",
       "      <td>...</td>\n",
       "      <td>...</td>\n",
       "      <td>...</td>\n",
       "      <td>...</td>\n",
       "      <td>...</td>\n",
       "      <td>...</td>\n",
       "      <td>...</td>\n",
       "      <td>...</td>\n",
       "      <td>...</td>\n",
       "      <td>...</td>\n",
       "      <td>...</td>\n",
       "      <td>...</td>\n",
       "      <td>...</td>\n",
       "      <td>...</td>\n",
       "    </tr>\n",
       "    <tr>\n",
       "      <th>113</th>\n",
       "      <td>1.0</td>\n",
       "      <td>0.538740</td>\n",
       "      <td>0.290241</td>\n",
       "      <td>0.156364</td>\n",
       "      <td>8.423971e-02</td>\n",
       "      <td>4.538330e-02</td>\n",
       "      <td>2.444980e-02</td>\n",
       "      <td>-0.720620</td>\n",
       "      <td>-0.388227</td>\n",
       "      <td>-0.209153</td>\n",
       "      <td>...</td>\n",
       "      <td>-3.742131e-01</td>\n",
       "      <td>-2.016035e-01</td>\n",
       "      <td>-1.086119e-01</td>\n",
       "      <td>-5.851357e-02</td>\n",
       "      <td>2.696654e-01</td>\n",
       "      <td>1.452795e-01</td>\n",
       "      <td>7.826790e-02</td>\n",
       "      <td>-1.943263e-01</td>\n",
       "      <td>-1.046913e-01</td>\n",
       "      <td>1.400354e-01</td>\n",
       "    </tr>\n",
       "    <tr>\n",
       "      <th>114</th>\n",
       "      <td>1.0</td>\n",
       "      <td>0.494880</td>\n",
       "      <td>0.244906</td>\n",
       "      <td>0.121199</td>\n",
       "      <td>5.997905e-02</td>\n",
       "      <td>2.968243e-02</td>\n",
       "      <td>1.468924e-02</td>\n",
       "      <td>-0.593890</td>\n",
       "      <td>-0.293904</td>\n",
       "      <td>-0.145447</td>\n",
       "      <td>...</td>\n",
       "      <td>-2.094682e-01</td>\n",
       "      <td>-1.036616e-01</td>\n",
       "      <td>-5.130006e-02</td>\n",
       "      <td>-2.538737e-02</td>\n",
       "      <td>1.244011e-01</td>\n",
       "      <td>6.156359e-02</td>\n",
       "      <td>3.046659e-02</td>\n",
       "      <td>-7.388054e-02</td>\n",
       "      <td>-3.656200e-02</td>\n",
       "      <td>4.387691e-02</td>\n",
       "    </tr>\n",
       "    <tr>\n",
       "      <th>115</th>\n",
       "      <td>1.0</td>\n",
       "      <td>0.999270</td>\n",
       "      <td>0.998541</td>\n",
       "      <td>0.997812</td>\n",
       "      <td>9.970832e-01</td>\n",
       "      <td>9.963553e-01</td>\n",
       "      <td>9.956280e-01</td>\n",
       "      <td>-0.484450</td>\n",
       "      <td>-0.484096</td>\n",
       "      <td>-0.483743</td>\n",
       "      <td>...</td>\n",
       "      <td>-1.136964e-01</td>\n",
       "      <td>-1.136134e-01</td>\n",
       "      <td>-1.135305e-01</td>\n",
       "      <td>-1.134476e-01</td>\n",
       "      <td>5.508024e-02</td>\n",
       "      <td>5.504003e-02</td>\n",
       "      <td>5.499985e-02</td>\n",
       "      <td>-2.668362e-02</td>\n",
       "      <td>-2.666414e-02</td>\n",
       "      <td>1.292688e-02</td>\n",
       "    </tr>\n",
       "    <tr>\n",
       "      <th>116</th>\n",
       "      <td>1.0</td>\n",
       "      <td>0.999270</td>\n",
       "      <td>0.998541</td>\n",
       "      <td>0.997812</td>\n",
       "      <td>9.970832e-01</td>\n",
       "      <td>9.963553e-01</td>\n",
       "      <td>9.956280e-01</td>\n",
       "      <td>-0.006336</td>\n",
       "      <td>-0.006332</td>\n",
       "      <td>-0.006327</td>\n",
       "      <td>...</td>\n",
       "      <td>-2.544062e-07</td>\n",
       "      <td>-2.542205e-07</td>\n",
       "      <td>-2.540349e-07</td>\n",
       "      <td>-2.538495e-07</td>\n",
       "      <td>1.612020e-09</td>\n",
       "      <td>1.610843e-09</td>\n",
       "      <td>1.609667e-09</td>\n",
       "      <td>-1.021440e-11</td>\n",
       "      <td>-1.020695e-11</td>\n",
       "      <td>6.472253e-14</td>\n",
       "    </tr>\n",
       "    <tr>\n",
       "      <th>117</th>\n",
       "      <td>1.0</td>\n",
       "      <td>-0.030612</td>\n",
       "      <td>0.000937</td>\n",
       "      <td>-0.000029</td>\n",
       "      <td>8.781462e-07</td>\n",
       "      <td>-2.688181e-08</td>\n",
       "      <td>8.229060e-10</td>\n",
       "      <td>0.632650</td>\n",
       "      <td>-0.019367</td>\n",
       "      <td>0.000593</td>\n",
       "      <td>...</td>\n",
       "      <td>2.532156e-01</td>\n",
       "      <td>-7.751437e-03</td>\n",
       "      <td>2.372870e-04</td>\n",
       "      <td>-7.263830e-06</td>\n",
       "      <td>1.601969e-01</td>\n",
       "      <td>-4.903947e-03</td>\n",
       "      <td>1.501196e-04</td>\n",
       "      <td>1.013486e-01</td>\n",
       "      <td>-3.102482e-03</td>\n",
       "      <td>6.411816e-02</td>\n",
       "    </tr>\n",
       "  </tbody>\n",
       "</table>\n",
       "<p>118 rows × 28 columns</p>\n",
       "</div>"
      ],
      "text/plain": [
       "     F00       F01       F02       F03           F04           F05  \\\n",
       "0    1.0  0.699560  0.489384  0.342354  2.394969e-01  1.675424e-01   \n",
       "1    1.0  0.684940  0.469143  0.321335  2.200950e-01  1.507518e-01   \n",
       "2    1.0  0.692250  0.479210  0.331733  2.296423e-01  1.589699e-01   \n",
       "3    1.0  0.502190  0.252195  0.126650  6.360222e-02  3.194040e-02   \n",
       "4    1.0  0.465640  0.216821  0.100960  4.701118e-02  2.189028e-02   \n",
       "..   ...       ...       ...       ...           ...           ...   \n",
       "113  1.0  0.538740  0.290241  0.156364  8.423971e-02  4.538330e-02   \n",
       "114  1.0  0.494880  0.244906  0.121199  5.997905e-02  2.968243e-02   \n",
       "115  1.0  0.999270  0.998541  0.997812  9.970832e-01  9.963553e-01   \n",
       "116  1.0  0.999270  0.998541  0.997812  9.970832e-01  9.963553e-01   \n",
       "117  1.0 -0.030612  0.000937 -0.000029  8.781462e-07 -2.688181e-08   \n",
       "\n",
       "              F06       F10       F11       F12  ...           F30  \\\n",
       "0    1.172060e-01  0.051267  0.035864  0.025089  ...  1.347453e-04   \n",
       "1    1.032560e-01 -0.092742 -0.063523 -0.043509  ... -7.976812e-04   \n",
       "2    1.100469e-01 -0.213710 -0.147941 -0.102412  ... -9.760555e-03   \n",
       "3    1.604015e-02 -0.375000 -0.188321 -0.094573  ... -5.273438e-02   \n",
       "4    1.019299e-02 -0.513250 -0.238990 -0.111283  ... -1.352032e-01   \n",
       "..            ...       ...       ...       ...  ...           ...   \n",
       "113  2.444980e-02 -0.720620 -0.388227 -0.209153  ... -3.742131e-01   \n",
       "114  1.468924e-02 -0.593890 -0.293904 -0.145447  ... -2.094682e-01   \n",
       "115  9.956280e-01 -0.484450 -0.484096 -0.483743  ... -1.136964e-01   \n",
       "116  9.956280e-01 -0.006336 -0.006332 -0.006327  ... -2.544062e-07   \n",
       "117  8.229060e-10  0.632650 -0.019367  0.000593  ...  2.532156e-01   \n",
       "\n",
       "              F31           F32           F33           F40           F41  \\\n",
       "0    9.426244e-05  6.594223e-05  4.613055e-05  6.907989e-06  4.832553e-06   \n",
       "1   -5.463638e-04 -3.742264e-04 -2.563226e-04  7.397855e-05  5.067087e-05   \n",
       "2   -6.756745e-03 -4.677356e-03 -3.237900e-03  2.085928e-03  1.443984e-03   \n",
       "3   -2.648268e-02 -1.329933e-02 -6.678793e-03  1.977539e-02  9.931003e-03   \n",
       "4   -6.295600e-02 -2.931483e-02 -1.365016e-02  6.939303e-02  3.231217e-02   \n",
       "..            ...           ...           ...           ...           ...   \n",
       "113 -2.016035e-01 -1.086119e-01 -5.851357e-02  2.696654e-01  1.452795e-01   \n",
       "114 -1.036616e-01 -5.130006e-02 -2.538737e-02  1.244011e-01  6.156359e-02   \n",
       "115 -1.136134e-01 -1.135305e-01 -1.134476e-01  5.508024e-02  5.504003e-02   \n",
       "116 -2.542205e-07 -2.540349e-07 -2.538495e-07  1.612020e-09  1.610843e-09   \n",
       "117 -7.751437e-03  2.372870e-04 -7.263830e-06  1.601969e-01 -4.903947e-03   \n",
       "\n",
       "              F42           F50           F51           F60  \n",
       "0    3.380660e-06  3.541519e-07  2.477505e-07  1.815630e-08  \n",
       "1    3.470651e-05 -6.860919e-06 -4.699318e-06  6.362953e-07  \n",
       "2    9.995978e-04 -4.457837e-04 -3.085938e-04  9.526844e-05  \n",
       "3    4.987251e-03 -7.415771e-03 -3.724126e-03  2.780914e-03  \n",
       "4    1.504584e-02 -3.561597e-02 -1.658422e-02  1.827990e-02  \n",
       "..            ...           ...           ...           ...  \n",
       "113  7.826790e-02 -1.943263e-01 -1.046913e-01  1.400354e-01  \n",
       "114  3.046659e-02 -7.388054e-02 -3.656200e-02  4.387691e-02  \n",
       "115  5.499985e-02 -2.668362e-02 -2.666414e-02  1.292688e-02  \n",
       "116  1.609667e-09 -1.021440e-11 -1.020695e-11  6.472253e-14  \n",
       "117  1.501196e-04  1.013486e-01 -3.102482e-03  6.411816e-02  \n",
       "\n",
       "[118 rows x 28 columns]"
      ]
     },
     "execution_count": 8,
     "metadata": {},
     "output_type": "execute_result"
    }
   ],
   "source": [
    "dict1=feature_mapping(data[\"test1\"].values,data[\"test2\"],6)\n",
    "bdict1"
   ]
  },
  {
   "cell_type": "code",
   "execution_count": 23,
   "metadata": {},
   "outputs": [],
   "source": [
    "X=dict1.values.reshape(118,28)"
   ]
  },
  {
   "cell_type": "code",
   "execution_count": 24,
   "metadata": {},
   "outputs": [],
   "source": [
    "Y=data[[\"accepted\"]].values.reshape(118,1)"
   ]
  },
  {
   "cell_type": "code",
   "execution_count": 74,
   "metadata": {},
   "outputs": [],
   "source": [
    "theta=np.full((28,1),0.0)"
   ]
  },
  {
   "cell_type": "code",
   "execution_count": 26,
   "metadata": {},
   "outputs": [],
   "source": [
    "m=X.shape[0]"
   ]
  },
  {
   "cell_type": "code",
   "execution_count": 27,
   "metadata": {},
   "outputs": [],
   "source": [
    "alpha=0.01"
   ]
  },
  {
   "cell_type": "code",
   "execution_count": 58,
   "metadata": {},
   "outputs": [],
   "source": [
    "lambd=1"
   ]
  },
  {
   "cell_type": "code",
   "execution_count": 28,
   "metadata": {},
   "outputs": [],
   "source": [
    "def sigmoid(a):\n",
    "    return 1./(1+np.exp(-a))"
   ]
  },
  {
   "cell_type": "code",
   "execution_count": 82,
   "metadata": {},
   "outputs": [],
   "source": [
    "hx=sigmoid(X.dot(theta))"
   ]
  },
  {
   "cell_type": "code",
   "execution_count": 56,
   "metadata": {},
   "outputs": [],
   "source": [
    "def regularized_cost(hx,m,Y,lambd):\n",
    "    return ((Y.T.dot(np.log(hx))+((1-Y).T).dot(np.log(1-hx)))/-m+(np.dot(theta[1:].T,theta[1:])*lambd/2*m))"
   ]
  },
  {
   "cell_type": "code",
   "execution_count": 57,
   "metadata": {},
   "outputs": [
    {
     "data": {
      "text/plain": [
       "array([[0.69314718]])"
      ]
     },
     "execution_count": 57,
     "metadata": {},
     "output_type": "execute_result"
    }
   ],
   "source": [
    "cost_m=regularized_cost(hx,m,Y,1)\n",
    "cost_m"
   ]
  },
  {
   "cell_type": "code",
   "execution_count": 105,
   "metadata": {},
   "outputs": [
    {
     "data": {
      "text/plain": [
       "array([[8.47457627e-05],\n",
       "       [7.77711864e-07],\n",
       "       [3.76648474e-04],\n",
       "       [2.34764889e-04],\n",
       "       [3.93028171e-04],\n",
       "       [3.10079849e-04],\n",
       "       [3.87936363e-04],\n",
       "       [1.87880932e-04],\n",
       "       [1.15013308e-04],\n",
       "       [8.19244468e-05],\n",
       "       [3.09593720e-05],\n",
       "       [4.47629067e-05],\n",
       "       [1.37646175e-05],\n",
       "       [5.03446395e-04],\n",
       "       [7.32393391e-05],\n",
       "       [1.28600503e-04],\n",
       "       [5.83822078e-05],\n",
       "       [7.26504316e-05],\n",
       "       [1.83559872e-04],\n",
       "       [2.23923907e-05],\n",
       "       [3.38643902e-05],\n",
       "       [4.08503006e-06],\n",
       "       [3.93486234e-04],\n",
       "       [4.32983232e-05],\n",
       "       [6.31570797e-05],\n",
       "       [1.99707467e-04],\n",
       "       [1.09740238e-05],\n",
       "       [3.10312442e-04]])"
      ]
     },
     "execution_count": 105,
     "metadata": {},
     "output_type": "execute_result"
    }
   ],
   "source": [
    "X.T.dot( sigmoid ( X.dot ( theta ) ) - Y) * alpha / m"
   ]
  },
  {
   "cell_type": "code",
   "execution_count": 108,
   "metadata": {},
   "outputs": [],
   "source": [
    "def regularizedDescent(X,Y,theta,m,alpha,iters,lambd):\n",
    "    cost_iters=np.zeros((1,iters))\n",
    "    for i in range(iters):\n",
    "        cost_iters[0,i]=regularized_cost(sigmoid(X.dot(theta)),m,Y,lambd)\n",
    "        theta=np.vstack([theta[0] - (X.T.dot( sigmoid ( X.dot ( theta ) ) - Y) * alpha / m)[0] , theta[1:]*( 1 - lambd / m * alpha ) - (X.T.dot( sigmoid ( X.dot ( theta ) ) - Y) * alpha / m)[1:] ] )\n",
    "    return cost_iters,theta"
   ]
  },
  {
   "cell_type": "code",
   "execution_count": 109,
   "metadata": {},
   "outputs": [],
   "source": [
    "cost1,theta1=regularizedDescent(X,Y,theta,m,0.01,100000,lambd)"
   ]
  },
  {
   "cell_type": "code",
   "execution_count": 116,
   "metadata": {},
   "outputs": [],
   "source": [
    "cost2,theta2=regularizedDescent(X,Y,theta,m,0.01,100000,0)"
   ]
  },
  {
   "cell_type": "code",
   "execution_count": 115,
   "metadata": {},
   "outputs": [],
   "source": [
    "cost3,theta3=regularizedDescent(X,Y,theta,m,0.01,100000,100)"
   ]
  },
  {
   "cell_type": "code",
   "execution_count": 111,
   "metadata": {},
   "outputs": [],
   "source": [
    "def find_decision_boundary(power, theta, threshhold):\n",
    "    t1 = np.linspace(-1, 1.5, 1000)\n",
    "    t2 = np.linspace(-1, 1.5, 1000)\n",
    "\n",
    "    #找到平面上所有点值对，并做特征映射\n",
    "    cordinates = [(x, y) for x in t1 for y in t2]\n",
    "    x_cord, y_cord = zip(*cordinates)\n",
    "    mapped_cord = feature_mapping(x_cord, y_cord, power) #这是DataFrame\n",
    "    \n",
    "    \n",
    "    inner_product = np.dot(mapped_cord.values, theta)\n",
    "\n",
    "    decision = mapped_cord[np.abs(inner_product) < threshhold]\n",
    "\n",
    "    return decision.F10, decision.F01\n"
   ]
  },
  {
   "cell_type": "code",
   "execution_count": 114,
   "metadata": {},
   "outputs": [
    {
     "data": {
      "image/png": "[encoded data removed]",
      "text/plain": [
       "<Figure size 864x576 with 1 Axes>"
      ]
     },
     "metadata": {
      "needs_background": "light"
     },
     "output_type": "display_data"
    }
   ],
   "source": [
    "positive = data[data['accepted']==1]\n",
    "negative = data[data['accepted']==0]\n",
    "\n",
    "fig, ax = plt.subplots(figsize=(12,8))\n",
    "ax.scatter(positive['test1'], positive['test2'], s=50, c='b', marker='o', label='Accepted')\n",
    "ax.scatter(negative['test1'], negative['test2'], s=50, c='r', marker='x', label='Rejected')\n",
    "\n",
    "test1,test2 = find_decision_boundary(6,theta1,2 * 10**-3)\n",
    "ax.scatter(test1, test2, s=50, c='g', marker='o')\n",
    "ax.legend()\n",
    "ax.set_xlabel('Test1 Score')\n",
    "ax.set_ylabel('Test2 Score')\n",
    "plt.show()\n"
   ]
  },
  {
   "cell_type": "code",
   "execution_count": 117,
   "metadata": {},
   "outputs": [
    {
     "data": {
      "image/png": "[encoded data removed]",
      "text/plain": [
       "<Figure size 864x576 with 1 Axes>"
      ]
     },
     "metadata": {
      "needs_background": "light"
     },
     "output_type": "display_data"
    }
   ],
   "source": [
    "positive = data[data['accepted']==1]\n",
    "negative = data[data['accepted']==0]\n",
    "\n",
    "fig, ax = plt.subplots(figsize=(12,8))\n",
    "ax.scatter(positive['test1'], positive['test2'], s=50, c='b', marker='o', label='Accepted')\n",
    "ax.scatter(negative['test1'], negative['test2'], s=50, c='r', marker='x', label='Rejected')\n",
    "\n",
    "test1,test2 = find_decision_boundary(6,theta2,2 * 10**-3)\n",
    "ax.scatter(test1, test2, s=50, c='g', marker='o')\n",
    "ax.legend()\n",
    "ax.set_xlabel('Test1 Score')\n",
    "ax.set_ylabel('Test2 Score')\n",
    "plt.show()"
   ]
  },
  {
   "cell_type": "code",
   "execution_count": 118,
   "metadata": {},
   "outputs": [
    {
     "data": {
      "image/png": "[encoded data removed]",
      "text/plain": [
       "<Figure size 864x576 with 1 Axes>"
      ]
     },
     "metadata": {
      "needs_background": "light"
     },
     "output_type": "display_data"
    }
   ],
   "source": [
    "positive = data[data['accepted']==1]\n",
    "negative = data[data['accepted']==0]\n",
    "\n",
    "fig, ax = plt.subplots(figsize=(12,8))\n",
    "ax.scatter(positive['test1'], positive['test2'], s=50, c='b', marker='o', label='Accepted')\n",
    "ax.scatter(negative['test1'], negative['test2'], s=50, c='r', marker='x', label='Rejected')\n",
    "\n",
    "test1,test2 = find_decision_boundary(6,theta3,2 * 10**-3)\n",
    "ax.scatter(test1, test2, s=50, c='g', marker='o')\n",
    "ax.legend()\n",
    "ax.set_xlabel('Test1 Score')\n",
    "ax.set_ylabel('Test2 Score')\n",
    "plt.show()"
   ]
  },
  {
   "cell_type": "code",
   "execution_count": 19,
   "metadata": {},
   "outputs": [],
   "source": [
    "def GradientDescent2(X,Y,theta,m,alpha,iters):\n",
    "    cost_iters=np.zeros((1,iters))\n",
    "    cur_iters=0\n",
    "    epsilon=1e-10\n",
    "    while iters>cur_iters:\n",
    "        last_theta=theta\n",
    "        cost_iters[0,cur_iters]=cost(sigmoid(X.dot(theta)),m,Y)\n",
    "        theta=theta-X.T.dot(sigmoid(X.dot(theta))-Y)*alpha/m\n",
    "        if abs(cost(sigmoid(X.dot(theta)),m,Y)-cost(sigmoid(X.dot(last_theta)),m,Y))<epsilon:\n",
    "            break\n",
    "        cur_iters+=1\n",
    "    return cost_iters,theta"
   ]
  },
  {
   "cell_type": "code",
   "execution_count": 20,
   "metadata": {},
   "outputs": [],
   "source": [
    "cost2,theta2=GradientDescent2(X,Y,theta,m,0.01,100000)"
   ]
  },
  {
   "cell_type": "code",
   "execution_count": 21,
   "metadata": {},
   "outputs": [
    {
     "data": {
      "text/plain": [
       "array([[0.22091587, 0.22091562, 0.22091537, ..., 0.20880295, 0.2088029 ,\n",
       "        0.20880284]])"
      ]
     },
     "execution_count": 21,
     "metadata": {},
     "output_type": "execute_result"
    }
   ],
   "source": [
    "cost2"
   ]
  },
  {
   "cell_type": "code",
   "execution_count": 23,
   "metadata": {},
   "outputs": [
    {
     "data": {
      "text/plain": [
       "array([[-10.03912879],\n",
       "       [ 11.37151821],\n",
       "       [ 10.76784116]])"
      ]
     },
     "execution_count": 23,
     "metadata": {},
     "output_type": "execute_result"
    }
   ],
   "source": [
    "theta2"
   ]
  }
 ],
 "metadata": {
  "kernelspec": {
   "display_name": "testvirtual-eE4p-oil",
   "language": "python",
   "name": "testvirtual-ee4p-oil"
  },
  "language_info": {
   "codemirror_mode": {
    "name": "ipython",
    "version": 3
   },
   "file_extension": ".py",
   "mimetype": "text/x-python",
   "name": "python",
   "nbconvert_exporter": "python",
   "pygments_lexer": "ipython3",
   "version": "3.7.0"
  }
 },
 "nbformat": 4,
 "nbformat_minor": 4
}

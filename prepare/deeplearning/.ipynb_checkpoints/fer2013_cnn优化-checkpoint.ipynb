{
 "cells": [
  {
   "cell_type": "code",
   "execution_count": 3,
   "metadata": {},
   "outputs": [],
   "source": [
    "import pandas as pd\n",
    "import numpy as np\n",
    "import matplotlib.pyplot as plt\n",
    "import tensorflow as tf\n",
    "import cv2"
   ]
  },
  {
   "cell_type": "markdown",
   "metadata": {},
   "source": [
    "## 读入数据"
   ]
  },
  {
   "cell_type": "code",
   "execution_count": 4,
   "metadata": {},
   "outputs": [],
   "source": [
    "data = pd.read_csv('fer2013.csv')"
   ]
  },
  {
   "cell_type": "code",
   "execution_count": 5,
   "metadata": {},
   "outputs": [
    {
     "data": {
      "text/html": [
       "<div>\n",
       "<style scoped>\n",
       "    .dataframe tbody tr th:only-of-type {\n",
       "        vertical-align: middle;\n",
       "    }\n",
       "\n",
       "    .dataframe tbody tr th {\n",
       "        vertical-align: top;\n",
       "    }\n",
       "\n",
       "    .dataframe thead th {\n",
       "        text-align: right;\n",
       "    }\n",
       "</style>\n",
       "<table border=\"1\" class=\"dataframe\">\n",
       "  <thead>\n",
       "    <tr style=\"text-align: right;\">\n",
       "      <th></th>\n",
       "      <th>emotion</th>\n",
       "      <th>pixels</th>\n",
       "      <th>Usage</th>\n",
       "    </tr>\n",
       "  </thead>\n",
       "  <tbody>\n",
       "    <tr>\n",
       "      <th>0</th>\n",
       "      <td>0</td>\n",
       "      <td>70 80 82 72 58 58 60 63 54 58 60 48 89 115 121...</td>\n",
       "      <td>Training</td>\n",
       "    </tr>\n",
       "    <tr>\n",
       "      <th>1</th>\n",
       "      <td>0</td>\n",
       "      <td>151 150 147 155 148 133 111 140 170 174 182 15...</td>\n",
       "      <td>Training</td>\n",
       "    </tr>\n",
       "    <tr>\n",
       "      <th>2</th>\n",
       "      <td>2</td>\n",
       "      <td>231 212 156 164 174 138 161 173 182 200 106 38...</td>\n",
       "      <td>Training</td>\n",
       "    </tr>\n",
       "    <tr>\n",
       "      <th>3</th>\n",
       "      <td>4</td>\n",
       "      <td>24 32 36 30 32 23 19 20 30 41 21 22 32 34 21 1...</td>\n",
       "      <td>Training</td>\n",
       "    </tr>\n",
       "    <tr>\n",
       "      <th>4</th>\n",
       "      <td>6</td>\n",
       "      <td>4 0 0 0 0 0 0 0 0 0 0 0 3 15 23 28 48 50 58 84...</td>\n",
       "      <td>Training</td>\n",
       "    </tr>\n",
       "  </tbody>\n",
       "</table>\n",
       "</div>"
      ],
      "text/plain": [
       "   emotion                                             pixels     Usage\n",
       "0        0  70 80 82 72 58 58 60 63 54 58 60 48 89 115 121...  Training\n",
       "1        0  151 150 147 155 148 133 111 140 170 174 182 15...  Training\n",
       "2        2  231 212 156 164 174 138 161 173 182 200 106 38...  Training\n",
       "3        4  24 32 36 30 32 23 19 20 30 41 21 22 32 34 21 1...  Training\n",
       "4        6  4 0 0 0 0 0 0 0 0 0 0 0 3 15 23 28 48 50 58 84...  Training"
      ]
     },
     "execution_count": 5,
     "metadata": {},
     "output_type": "execute_result"
    }
   ],
   "source": [
    "data.head()"
   ]
  },
  {
   "cell_type": "markdown",
   "metadata": {},
   "source": [
    "## 数据增强·"
   ]
  },
  {
   "cell_type": "code",
   "execution_count": 6,
   "metadata": {},
   "outputs": [],
   "source": [
    "img_data = list(map(float,data.iloc[0,1].split()))\n",
    "img_array = np.array(img_data).reshape(48,48)\n",
    "img_array = img_array/255"
   ]
  },
  {
   "cell_type": "code",
   "execution_count": 9,
   "metadata": {},
   "outputs": [],
   "source": [
    "M1 = cv2.getRotationMatrix2D((24,24),5,1.25)\n",
    "M2 = cv2.getRotationMatrix2D((24,24),-5,1.25)\n",
    "M3 = cv2.getRotationMatrix2D((24,24),5,0.85)\n",
    "M4 = cv2.getRotationMatrix2D((24,24),-5,0.85)"
   ]
  },
  {
   "cell_type": "code",
   "execution_count": 10,
   "metadata": {},
   "outputs": [],
   "source": [
    "img_width = 48\n",
    "img_height = 48\n",
    "img_channel = 1\n",
    "num_process = 6\n",
    "def process_data(data,label):\n",
    "    num_data = len(data)\n",
    "    img_process = np.zeros((num_data*num_process,img_height,img_width),dtype=np.float32)\n",
    "    label_process = np.zeros((num_data*num_process),dtype=np.int32)\n",
    "    for i in range(num_data):\n",
    "        index = i*num_process\n",
    "        img_data = list(map(float,data.iloc[i,1].split()))\n",
    "        img_array = np.array(img_data).reshape(img_height,img_width)\n",
    "        img_process[index] = img_array\n",
    "        \n",
    "        img_process[index+1] = cv2.flip(img_height,img_width)\n",
    "        img_process[index] = img_array\n",
    "        \n",
    "        img_process[index+2] = cv2.warpAffine(img_array,M1,(48,48))\n",
    "        img_process[index+3] = cv2.warpAffine(img_array,M2,(48,48))\n",
    "        img_process[index+4] = cv2.warpAffine(img_array,M3,(48,48))\n",
    "        img_process[index+5] = cv2.warpAffine(img_array,M4,(48,48))\n",
    "        \n",
    "        label_process[index:index+num_process] = label[i]\n",
    "    \n",
    "    return img_process,label_process"
   ]
  },
  {
   "cell_type": "code",
   "execution_count": null,
   "metadata": {},
   "outputs": [],
   "source": []
  },
  {
   "cell_type": "code",
   "execution_count": 11,
   "metadata": {},
   "outputs": [],
   "source": [
    "def translate_data(data_):\n",
    "    result=[]\n",
    "    for i in range(len(data_)):\n",
    "        img_data = list(map(float,data_.iloc[i,1].split()))\n",
    "        result.append(img_data)\n",
    "    return np.array(result)"
   ]
  },
  {
   "cell_type": "code",
   "execution_count": 12,
   "metadata": {},
   "outputs": [],
   "source": [
    "train_data = data[data['Usage']==\"Training\"]\n",
    "val_data = data[data['Usage']==\"PublicTest\"]\n",
    "test_data = data[data['Usage']==\"PrivateTest\"]"
   ]
  },
  {
   "cell_type": "code",
   "execution_count": 6,
   "metadata": {},
   "outputs": [],
   "source": [
    "X_train = translate_data(train_data)\n",
    "X_val = translate_data(val_data)\n",
    "X_test = translate_data(test_data)"
   ]
  },
  {
   "cell_type": "code",
   "execution_count": 7,
   "metadata": {},
   "outputs": [],
   "source": [
    "X_train = X_train/255.0\n",
    "X_val = X_val/255.0\n",
    "X_test = X_test/255.0"
   ]
  },
  {
   "cell_type": "code",
   "execution_count": 8,
   "metadata": {},
   "outputs": [],
   "source": [
    "y_train = train_data['emotion'].values\n",
    "y_val = val_data['emotion'].values\n",
    "y_test = test_data['emotion'].values"
   ]
  },
  {
   "cell_type": "code",
   "execution_count": 9,
   "metadata": {},
   "outputs": [],
   "source": [
    "y_train = np.eye(7,dtype=np.float32)[y_train]\n",
    "y_val = np.eye(7,dtype=np.float32)[y_val]\n",
    "y_test = np.eye(7,dtype=np.float32)[y_test]"
   ]
  },
  {
   "cell_type": "code",
   "execution_count": 10,
   "metadata": {},
   "outputs": [
    {
     "data": {
      "text/plain": [
       "(3492, 7)"
      ]
     },
     "execution_count": 10,
     "metadata": {},
     "output_type": "execute_result"
    }
   ],
   "source": [
    "y_test.shape"
   ]
  },
  {
   "cell_type": "markdown",
   "metadata": {},
   "source": [
    "## 取mini-batch"
   ]
  },
  {
   "cell_type": "code",
   "execution_count": 11,
   "metadata": {},
   "outputs": [],
   "source": [
    "index_batch = 0\n",
    "m_train = X_train.shape[0]#28283\n",
    "index_data = np.arange(m_train)"
   ]
  },
  {
   "cell_type": "code",
   "execution_count": 12,
   "metadata": {},
   "outputs": [],
   "source": [
    "def next_batch(batch_size):\n",
    "    global m_train,index_batch\n",
    "    global X_train,y_train\n",
    "    \n",
    "    if index_batch == 0:\n",
    "        np.random.shuffle(index_data)\n",
    "        X_train = X_train[index_data]\n",
    "        y_train = y_train[index_data]\n",
    "    \n",
    "    index_batch_end = index_batch+batch_size\n",
    "    if index_batch_end > m_train:\n",
    "        index_batch_end = m_train\n",
    "    \n",
    "    batch_x = X_train[index_batch:index_batch_end]\n",
    "    batch_y = y_train[index_batch:index_batch_end]\n",
    "    \n",
    "    index_batch = index_batch_end%m_train\n",
    "    \n",
    "    return batch_x,batch_y"
   ]
  },
  {
   "cell_type": "code",
   "execution_count": null,
   "metadata": {},
   "outputs": [],
   "source": []
  },
  {
   "cell_type": "code",
   "execution_count": null,
   "metadata": {},
   "outputs": [],
   "source": []
  },
  {
   "cell_type": "markdown",
   "metadata": {},
   "source": [
    "## 构建网络"
   ]
  },
  {
   "cell_type": "code",
   "execution_count": 13,
   "metadata": {},
   "outputs": [],
   "source": [
    "#输入图像的长*宽*通道数\n",
    "n_width = 48\n",
    "n_height = 48\n",
    "n_channel = 1\n",
    "#输入图像数据大小\n",
    "n_input = n_width*n_height*n_channel\n",
    "#输出类别数\n",
    "n_class = 7"
   ]
  },
  {
   "cell_type": "code",
   "execution_count": 14,
   "metadata": {},
   "outputs": [],
   "source": [
    "#其他超参\n",
    "num_epoch = 10\n",
    "batch_size = 100\n",
    "num_batches = int(train_data.shape[0]/batch_size)\n",
    "learning_rate = 0.005"
   ]
  },
  {
   "cell_type": "code",
   "execution_count": 15,
   "metadata": {},
   "outputs": [],
   "source": [
    "x = tf.placeholder(tf.float32,shape=(None,n_input),name='x')\n",
    "x_ = tf.reshape(x,shape=[-1,n_height,n_width,n_channel])\n",
    "y = tf.placeholder(tf.float32,shape=(None,n_class),name='y')"
   ]
  },
  {
   "cell_type": "code",
   "execution_count": 16,
   "metadata": {},
   "outputs": [
    {
     "name": "stdout",
     "output_type": "stream",
     "text": [
      "WARNING:tensorflow:From D:\\anacon\\envs\\tf-1.x\\lib\\site-packages\\tensorflow\\python\\framework\\op_def_library.py:263: colocate_with (from tensorflow.python.framework.ops) is deprecated and will be removed in a future version.\n",
      "Instructions for updating:\n",
      "Colocations handled automatically by placer.\n"
     ]
    }
   ],
   "source": [
    "#Layer1\n",
    "#input:batch*48*48*3\n",
    "#filter:3*3*1*16\n",
    "#conv_1: 48*48*16\n",
    "#pool:24*24*16\n",
    "w_1 = tf.Variable(tf.random_normal([3,3,n_channel,16]),dtype=tf.float32,name='w_1')\n",
    "b_1 = tf.Variable(tf.random_normal([16]),dtype=tf.float32,name='b_1')\n",
    "conv_1 = tf.nn.conv2d(x_,w_1,strides=[1,1,1,1],padding='SAME')+b_1\n",
    "a_1 = tf.nn.relu(conv_1)"
   ]
  },
  {
   "cell_type": "code",
   "execution_count": 17,
   "metadata": {},
   "outputs": [],
   "source": [
    "pool_1 = tf.nn.max_pool(a_1,ksize=[1,2,2,1],strides=[1,2,2,1],padding='SAME')"
   ]
  },
  {
   "cell_type": "code",
   "execution_count": 18,
   "metadata": {},
   "outputs": [],
   "source": [
    "#Layer2\n",
    "#input:24*24*16\n",
    "#filter:3*3*16*32\n",
    "#conv_1: 24*24*32\n",
    "#pool:12*12*32\n",
    "w_2 = tf.Variable(tf.random_normal([3,3,16,32]),dtype=tf.float32,name='w_2')\n",
    "b_2 = tf.Variable(tf.random_normal([32]),dtype=tf.float32,name='b_2')\n",
    "conv_2 = tf.nn.conv2d(pool_1,w_2,strides=[1,1,1,1],padding='SAME')+b_2\n",
    "a_2 = tf.nn.relu(conv_2)"
   ]
  },
  {
   "cell_type": "code",
   "execution_count": 19,
   "metadata": {},
   "outputs": [],
   "source": [
    "pool_2 = tf.nn.max_pool(a_2,ksize=[1,2,2,1],strides=[1,2,2,1],padding='SAME')"
   ]
  },
  {
   "cell_type": "code",
   "execution_count": 20,
   "metadata": {},
   "outputs": [],
   "source": [
    "#Layer3\n",
    "#input:12*12*32\n",
    "#filter:3*3*32*32\n",
    "#conv_1: 12*12*32\n",
    "w_3 = tf.Variable(tf.random_normal([3,3,32,32]),dtype=tf.float32,name='w_3')\n",
    "b_3 = tf.Variable(tf.random_normal([32]),dtype=tf.float32,name='b_3')\n",
    "conv_3 = tf.nn.conv2d(pool_2,w_3,strides=[1,1,1,1],padding='SAME')+b_3\n",
    "a_3 = tf.nn.relu(conv_3)"
   ]
  },
  {
   "cell_type": "code",
   "execution_count": 21,
   "metadata": {},
   "outputs": [],
   "source": [
    "#layer4\n",
    "#input:7*7*32\n",
    "#outpur:120\n",
    "w_4 = tf.Variable(tf.random_normal([12*12*32,120]),dtype=tf.float32,name='w_4')\n",
    "b_4 = tf.Variable(tf.random_normal([120]),dtype=tf.float32,name='b_4')\n",
    "z_4 = tf.matmul(tf.reshape(a_3,[-1,12*12*32]),w_4)+b_4\n",
    "a_4 = tf.nn.relu(z_4)"
   ]
  },
  {
   "cell_type": "code",
   "execution_count": 22,
   "metadata": {},
   "outputs": [],
   "source": [
    "#layer5\n",
    "#input:120\n",
    "#outpur:84\n",
    "w_5 = tf.Variable(tf.random_normal([120,84]),dtype=tf.float32,name='w_5')\n",
    "b_5 = tf.Variable(tf.random_normal([84]),dtype=tf.float32,name='b_5')\n",
    "z_5 = tf.matmul(a_4,w_5)+b_5\n",
    "a_5 = tf.nn.relu(z_5)"
   ]
  },
  {
   "cell_type": "code",
   "execution_count": 23,
   "metadata": {},
   "outputs": [],
   "source": [
    "#layer6\n",
    "#input:84\n",
    "#outpur:10\n",
    "w_6 = tf.Variable(tf.random_normal([84,n_class]),dtype=tf.float32,name='w_6')\n",
    "b_6 = tf.Variable(tf.random_normal([n_class]),dtype=tf.float32,name='b_6')\n",
    "z_6 = tf.matmul(a_5,w_6)+b_6\n",
    "y_hat = tf.nn.softmax(z_6)"
   ]
  },
  {
   "cell_type": "markdown",
   "metadata": {},
   "source": [
    "## 代价函数"
   ]
  },
  {
   "cell_type": "code",
   "execution_count": 24,
   "metadata": {
    "scrolled": true
   },
   "outputs": [],
   "source": [
    "entropy = tf.nn.softmax_cross_entropy_with_logits_v2(logits=z_6,labels=y)\n",
    "cost = tf.reduce_mean(entropy)"
   ]
  },
  {
   "cell_type": "code",
   "execution_count": 25,
   "metadata": {},
   "outputs": [],
   "source": [
    "optimizer = tf.train.AdamOptimizer(learning_rate).minimize(cost)"
   ]
  },
  {
   "cell_type": "markdown",
   "metadata": {},
   "source": [
    "## 准确率"
   ]
  },
  {
   "cell_type": "code",
   "execution_count": 26,
   "metadata": {},
   "outputs": [],
   "source": [
    "correct_prediction = tf.equal(tf.argmax(y,1),tf.argmax(y_hat,1))\n",
    "acc = tf.reduce_mean(tf.cast(correct_prediction, tf.float32))"
   ]
  },
  {
   "cell_type": "markdown",
   "metadata": {},
   "source": [
    "## 训练"
   ]
  },
  {
   "cell_type": "code",
   "execution_count": 27,
   "metadata": {},
   "outputs": [
    {
     "name": "stdout",
     "output_type": "stream",
     "text": [
      ">>>>>>Epoch: 0000, Val acc: 0.207675\n",
      ">>>>>>Epoch: 0001, Val acc: 0.225734\n",
      ">>>>>>Epoch: 0002, Val acc: 0.216986\n",
      ">>>>>>Epoch: 0003, Val acc: 0.187359\n",
      ">>>>>>Epoch: 0004, Val acc: 0.176354\n",
      ">>>>>>Epoch: 0005, Val acc: 0.156885\n",
      ">>>>>>Epoch: 0006, Val acc: 0.213318\n",
      ">>>>>>Epoch: 0007, Val acc: 0.177201\n",
      ">>>>>>Epoch: 0008, Val acc: 0.211343\n",
      ">>>>>>Epoch: 0009, Val acc: 0.187359\n",
      "Model Trained.\n",
      "Accuracy: 0.17583047\n"
     ]
    }
   ],
   "source": [
    "cost_epoches = []\n",
    "val_acc = []\n",
    "with tf.Session() as tfs:\n",
    "    tfs.run(tf.global_variables_initializer())\n",
    "    for epoch in range(num_epoch):\n",
    "        for batch in range(num_batches):\n",
    "            if batch%100==0:\n",
    "                print(\">>\",end='')\n",
    "            batch_x,batch_y = next_batch(batch_size)\n",
    "            tfs.run(optimizer,feed_dict={x:batch_x,y:batch_y})\n",
    "            cost_val = tfs.run(cost,feed_dict={x:batch_x,y:batch_y})\n",
    "            cost_epoches.append(cost_val)   \n",
    "        \n",
    "        result = tfs.run(acc,feed_dict={x:X_val,y:y_val})\n",
    "        val_acc.append(result)\n",
    "        print(\"Epoch: {0:04d}, Val acc: {1:0.6f}\".format(epoch,result))\n",
    "    print(\"Model Trained.\")\n",
    "        \n",
    "    test_acc = tfs.run(acc,feed_dict={x:X_test,y:y_test})\n",
    "    print(\"Accuracy:\",test_acc)"
   ]
  },
  {
   "cell_type": "code",
   "execution_count": null,
   "metadata": {},
   "outputs": [],
   "source": [
    "plt.plot(cost_epoches)\n",
    "plt.show()"
   ]
  },
  {
   "cell_type": "code",
   "execution_count": null,
   "metadata": {},
   "outputs": [],
   "source": []
  },
  {
   "cell_type": "code",
   "execution_count": null,
   "metadata": {},
   "outputs": [],
   "source": [
    "a = np.ones((3,3,3))"
   ]
  },
  {
   "cell_type": "code",
   "execution_count": null,
   "metadata": {},
   "outputs": [],
   "source": [
    "a.shape"
   ]
  },
  {
   "cell_type": "code",
   "execution_count": null,
   "metadata": {},
   "outputs": [],
   "source": [
    "b = np.array([10,20,30])"
   ]
  },
  {
   "cell_type": "code",
   "execution_count": null,
   "metadata": {},
   "outputs": [],
   "source": [
    "b.shape"
   ]
  },
  {
   "cell_type": "code",
   "execution_count": null,
   "metadata": {},
   "outputs": [],
   "source": [
    "c = a+b"
   ]
  },
  {
   "cell_type": "code",
   "execution_count": null,
   "metadata": {},
   "outputs": [],
   "source": [
    "c.shape"
   ]
  },
  {
   "cell_type": "code",
   "execution_count": null,
   "metadata": {},
   "outputs": [],
   "source": [
    "c[:,:,0]"
   ]
  },
  {
   "cell_type": "code",
   "execution_count": null,
   "metadata": {},
   "outputs": [],
   "source": []
  },
  {
   "cell_type": "code",
   "execution_count": null,
   "metadata": {},
   "outputs": [],
   "source": [
    "a = np.ones((1,25,25,1))"
   ]
  },
  {
   "cell_type": "code",
   "execution_count": null,
   "metadata": {},
   "outputs": [],
   "source": [
    "b = tf.convert_to_tensor(a)"
   ]
  },
  {
   "cell_type": "code",
   "execution_count": null,
   "metadata": {},
   "outputs": [],
   "source": [
    "c = tf.nn.max_pool(b,(1,2,2,1),(1,2,2,1),padding='SAME')"
   ]
  },
  {
   "cell_type": "code",
   "execution_count": null,
   "metadata": {},
   "outputs": [],
   "source": [
    "with tf.Session() as tfs:\n",
    "    d = tfs.run(c)"
   ]
  },
  {
   "cell_type": "code",
   "execution_count": null,
   "metadata": {},
   "outputs": [],
   "source": [
    "d.shape"
   ]
  },
  {
   "cell_type": "code",
   "execution_count": null,
   "metadata": {},
   "outputs": [],
   "source": []
  }
 ],
 "metadata": {
  "kernelspec": {
   "display_name": "tf-1.x",
   "language": "python",
   "name": "tf-1.x"
  },
  "language_info": {
   "codemirror_mode": {
    "name": "ipython",
    "version": 3
   },
   "file_extension": ".py",
   "mimetype": "text/x-python",
   "name": "python",
   "nbconvert_exporter": "python",
   "pygments_lexer": "ipython3",
   "version": "3.6.2"
  }
 },
 "nbformat": 4,
 "nbformat_minor": 4
}

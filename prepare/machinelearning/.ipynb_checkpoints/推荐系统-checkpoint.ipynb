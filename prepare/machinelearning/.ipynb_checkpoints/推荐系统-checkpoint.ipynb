{
 "cells": [
  {
   "cell_type": "code",
   "execution_count": 5,
   "metadata": {},
   "outputs": [],
   "source": [
    "import pandas as pd\n",
    "import numpy as np\n",
    "import matplotlib.pyplot as plt\n",
    "import sqlite3"
   ]
  },
  {
   "cell_type": "code",
   "execution_count": 6,
   "metadata": {},
   "outputs": [],
   "source": [
    "import datetime\n",
    "import math\n",
    "import matplotlib.pyplot as plt\n",
    "import matplotlib.mlab as mlab"
   ]
  },
  {
   "cell_type": "code",
   "execution_count": 3,
   "metadata": {},
   "outputs": [],
   "source": [
    "%matplotlib inline\n",
    "\n",
    "plt.rcParams['font.sans-serif']=['SimHei']     #用来正常显示中文标签\n",
    "plt.rcParams['axes.unicode_minus']=False       #用来正常显示负号"
   ]
  },
  {
   "cell_type": "markdown",
   "metadata": {},
   "source": [
    "# 读取数据"
   ]
  },
  {
   "cell_type": "code",
   "execution_count": 6,
   "metadata": {},
   "outputs": [],
   "source": [
    "triplet_dataset = pd.read_csv(\"train_triplets.txt\",\n",
    "                              sep=\"\\t\",\n",
    "                              header=None,\n",
    "                              names=[\"user\",\"song\",\"play_count\"]\n",
    "                             )"
   ]
  },
  {
   "cell_type": "code",
   "execution_count": 7,
   "metadata": {},
   "outputs": [
    {
     "data": {
      "text/plain": [
       "(48373586, 3)"
      ]
     },
     "execution_count": 7,
     "metadata": {},
     "output_type": "execute_result"
    }
   ],
   "source": [
    "triplet_dataset.shape"
   ]
  },
  {
   "cell_type": "code",
   "execution_count": 9,
   "metadata": {
    "collapsed": true,
    "jupyter": {
     "outputs_hidden": true
    }
   },
   "outputs": [
    {
     "data": {
      "text/plain": [
       "<bound method DataFrame.info of                                               user                song  \\\n",
       "0         b80344d063b5ccb3212f76538f3d9e43d87dca9e  SOAKIMP12A8C130995   \n",
       "1         b80344d063b5ccb3212f76538f3d9e43d87dca9e  SOAPDEY12A81C210A9   \n",
       "2         b80344d063b5ccb3212f76538f3d9e43d87dca9e  SOBBMDR12A8C13253B   \n",
       "3         b80344d063b5ccb3212f76538f3d9e43d87dca9e  SOBFNSP12AF72A0E22   \n",
       "4         b80344d063b5ccb3212f76538f3d9e43d87dca9e  SOBFOVM12A58A7D494   \n",
       "5         b80344d063b5ccb3212f76538f3d9e43d87dca9e  SOBNZDC12A6D4FC103   \n",
       "6         b80344d063b5ccb3212f76538f3d9e43d87dca9e  SOBSUJE12A6D4F8CF5   \n",
       "7         b80344d063b5ccb3212f76538f3d9e43d87dca9e  SOBVFZR12A6D4F8AE3   \n",
       "8         b80344d063b5ccb3212f76538f3d9e43d87dca9e  SOBXALG12A8C13C108   \n",
       "9         b80344d063b5ccb3212f76538f3d9e43d87dca9e  SOBXHDL12A81C204C0   \n",
       "10        b80344d063b5ccb3212f76538f3d9e43d87dca9e  SOBYHAJ12A6701BF1D   \n",
       "11        b80344d063b5ccb3212f76538f3d9e43d87dca9e  SOCNMUH12A6D4F6E6D   \n",
       "12        b80344d063b5ccb3212f76538f3d9e43d87dca9e  SODACBL12A8C13C273   \n",
       "13        b80344d063b5ccb3212f76538f3d9e43d87dca9e  SODDNQT12A6D4F5F7E   \n",
       "14        b80344d063b5ccb3212f76538f3d9e43d87dca9e  SODXRTY12AB0180F3B   \n",
       "15        b80344d063b5ccb3212f76538f3d9e43d87dca9e  SODZWFT12A8C13C0E4   \n",
       "16        b80344d063b5ccb3212f76538f3d9e43d87dca9e  SOEGVZY12A58A7857E   \n",
       "17        b80344d063b5ccb3212f76538f3d9e43d87dca9e  SOEKWEA12A6D4F5DC3   \n",
       "18        b80344d063b5ccb3212f76538f3d9e43d87dca9e  SOEOBYG12A6D4F8AE2   \n",
       "19        b80344d063b5ccb3212f76538f3d9e43d87dca9e  SOEWFWM12A8C1308BA   \n",
       "20        b80344d063b5ccb3212f76538f3d9e43d87dca9e  SOFFJPX12A6D4F7456   \n",
       "21        b80344d063b5ccb3212f76538f3d9e43d87dca9e  SOFGUAY12AB017B0A8   \n",
       "22        b80344d063b5ccb3212f76538f3d9e43d87dca9e  SOFRQTD12A81C233C0   \n",
       "23        b80344d063b5ccb3212f76538f3d9e43d87dca9e  SOFTKSZ12A6D4F5DC5   \n",
       "24        b80344d063b5ccb3212f76538f3d9e43d87dca9e  SOFZFQU12A8C13CAB8   \n",
       "25        b80344d063b5ccb3212f76538f3d9e43d87dca9e  SOGJAOS12A6D4F7459   \n",
       "26        b80344d063b5ccb3212f76538f3d9e43d87dca9e  SOHQIAG12A8C136F64   \n",
       "27        b80344d063b5ccb3212f76538f3d9e43d87dca9e  SOHQWYZ12A6D4FA701   \n",
       "28        b80344d063b5ccb3212f76538f3d9e43d87dca9e  SOHQZCA12A6D4FB317   \n",
       "29        b80344d063b5ccb3212f76538f3d9e43d87dca9e  SOIAOBY12A8C13BF75   \n",
       "...                                            ...                 ...   \n",
       "48373556  b7815dbb206eb2831ce0fe040d0aa537e2e800f7  SOIBAQJ12AB0182643   \n",
       "48373557  b7815dbb206eb2831ce0fe040d0aa537e2e800f7  SOJGZXL12A6D4F2980   \n",
       "48373558  b7815dbb206eb2831ce0fe040d0aa537e2e800f7  SOJZZQW12A6702028B   \n",
       "48373559  b7815dbb206eb2831ce0fe040d0aa537e2e800f7  SOLOHIX12A58A7A2C2   \n",
       "48373560  b7815dbb206eb2831ce0fe040d0aa537e2e800f7  SOMAKIT12A58A7E292   \n",
       "48373561  b7815dbb206eb2831ce0fe040d0aa537e2e800f7  SONWLIS12A8C140865   \n",
       "48373562  b7815dbb206eb2831ce0fe040d0aa537e2e800f7  SOOAAGD12AB017BCDA   \n",
       "48373563  b7815dbb206eb2831ce0fe040d0aa537e2e800f7  SOOENDM12A6D2281CB   \n",
       "48373564  b7815dbb206eb2831ce0fe040d0aa537e2e800f7  SOOFYTN12A6D4F9B35   \n",
       "48373565  b7815dbb206eb2831ce0fe040d0aa537e2e800f7  SOOLPFK12A58A7BDE3   \n",
       "48373566  b7815dbb206eb2831ce0fe040d0aa537e2e800f7  SOPCTBB12AF72A1B64   \n",
       "48373567  b7815dbb206eb2831ce0fe040d0aa537e2e800f7  SOPJLFV12A6701C797   \n",
       "48373568  b7815dbb206eb2831ce0fe040d0aa537e2e800f7  SOPUELG12A6701D215   \n",
       "48373569  b7815dbb206eb2831ce0fe040d0aa537e2e800f7  SOQBOWE12A8C13CC2E   \n",
       "48373570  b7815dbb206eb2831ce0fe040d0aa537e2e800f7  SORFHOZ12A6701E129   \n",
       "48373571  b7815dbb206eb2831ce0fe040d0aa537e2e800f7  SORPVUD12A67020454   \n",
       "48373572  b7815dbb206eb2831ce0fe040d0aa537e2e800f7  SOSCPOI12A8C139F02   \n",
       "48373573  b7815dbb206eb2831ce0fe040d0aa537e2e800f7  SOSKDTM12A6701C795   \n",
       "48373574  b7815dbb206eb2831ce0fe040d0aa537e2e800f7  SOSQJWM12A6D4F79E0   \n",
       "48373575  b7815dbb206eb2831ce0fe040d0aa537e2e800f7  SOTFIPT12A6701F2FA   \n",
       "48373576  b7815dbb206eb2831ce0fe040d0aa537e2e800f7  SOTFOAE12A6D4F4511   \n",
       "48373577  b7815dbb206eb2831ce0fe040d0aa537e2e800f7  SOTIXTZ12AF72A39AC   \n",
       "48373578  b7815dbb206eb2831ce0fe040d0aa537e2e800f7  SOTNMFD12A58A7789E   \n",
       "48373579  b7815dbb206eb2831ce0fe040d0aa537e2e800f7  SOTULEI12A58A7CB72   \n",
       "48373580  b7815dbb206eb2831ce0fe040d0aa537e2e800f7  SOTYMDI12A6D4F867D   \n",
       "48373581  b7815dbb206eb2831ce0fe040d0aa537e2e800f7  SOUHHHH12AF729E4AF   \n",
       "48373582  b7815dbb206eb2831ce0fe040d0aa537e2e800f7  SOUJVIT12A8C1451C1   \n",
       "48373583  b7815dbb206eb2831ce0fe040d0aa537e2e800f7  SOUSMXX12AB0185C24   \n",
       "48373584  b7815dbb206eb2831ce0fe040d0aa537e2e800f7  SOWYSKH12AF72A303A   \n",
       "48373585  b7815dbb206eb2831ce0fe040d0aa537e2e800f7  SOYYFLV12A58A7A88F   \n",
       "\n",
       "          play_count  \n",
       "0                  1  \n",
       "1                  1  \n",
       "2                  2  \n",
       "3                  1  \n",
       "4                  1  \n",
       "5                  1  \n",
       "6                  2  \n",
       "7                  1  \n",
       "8                  1  \n",
       "9                  1  \n",
       "10                 1  \n",
       "11                 1  \n",
       "12                 1  \n",
       "13                 5  \n",
       "14                 1  \n",
       "15                 1  \n",
       "16                 1  \n",
       "17                 1  \n",
       "18                 1  \n",
       "19                 1  \n",
       "20                 1  \n",
       "21                 1  \n",
       "22                 1  \n",
       "23                 1  \n",
       "24                 1  \n",
       "25                 1  \n",
       "26                 1  \n",
       "27                 1  \n",
       "28                 1  \n",
       "29                 1  \n",
       "...              ...  \n",
       "48373556           1  \n",
       "48373557           1  \n",
       "48373558           1  \n",
       "48373559           2  \n",
       "48373560           1  \n",
       "48373561           2  \n",
       "48373562           1  \n",
       "48373563           1  \n",
       "48373564           4  \n",
       "48373565           1  \n",
       "48373566           1  \n",
       "48373567           1  \n",
       "48373568           1  \n",
       "48373569           1  \n",
       "48373570           1  \n",
       "48373571           1  \n",
       "48373572           1  \n",
       "48373573           1  \n",
       "48373574           6  \n",
       "48373575           1  \n",
       "48373576           2  \n",
       "48373577           1  \n",
       "48373578           1  \n",
       "48373579           1  \n",
       "48373580           1  \n",
       "48373581           2  \n",
       "48373582           1  \n",
       "48373583           1  \n",
       "48373584           3  \n",
       "48373585           1  \n",
       "\n",
       "[48373586 rows x 3 columns]>"
      ]
     },
     "execution_count": 9,
     "metadata": {},
     "output_type": "execute_result"
    }
   ],
   "source": [
    "triplet_dataset.info"
   ]
  },
  {
   "cell_type": "markdown",
   "metadata": {},
   "source": [
    "# 逐行读取 累计求和"
   ]
  },
  {
   "cell_type": "code",
   "execution_count": 10,
   "metadata": {},
   "outputs": [],
   "source": [
    "output_dict = {}\n",
    "with open(\"train_triplets.txt\") as f:\n",
    "    for line_number,line in enumerate(f):\n",
    "        user = line.split(\"\\t\")[0]\n",
    "        play_count = int(line.split(\"\\t\")[2])\n",
    "        if user in output_dict:\n",
    "            play_count += output_dict[user]\n",
    "        output_dict.update({user:play_count})\n",
    "output_list = [{\"user\":k, \"play_count\":v} for k,v in output_dict.items()]\n",
    "user_playcount = pd.DataFrame(output_list)\n",
    "user_playcount = user_playcount.sort_values(by=\"play_count\",ascending=False)"
   ]
  },
  {
   "cell_type": "code",
   "execution_count": 9,
   "metadata": {},
   "outputs": [
    {
     "ename": "NameError",
     "evalue": "name 'user_playcount' is not defined",
     "output_type": "error",
     "traceback": [
      "\u001b[1;31m---------------------------------------------------------------------------\u001b[0m",
      "\u001b[1;31mNameError\u001b[0m                                 Traceback (most recent call last)",
      "\u001b[1;32m<ipython-input-9-f010c6e08092>\u001b[0m in \u001b[0;36m<module>\u001b[1;34m()\u001b[0m\n\u001b[1;32m----> 1\u001b[1;33m \u001b[0muser_playcount\u001b[0m\u001b[1;33m.\u001b[0m\u001b[0mto_csv\u001b[0m\u001b[1;33m(\u001b[0m\u001b[1;34m\"user_playcount.csv\"\u001b[0m\u001b[1;33m,\u001b[0m\u001b[0mindex\u001b[0m\u001b[1;33m=\u001b[0m\u001b[1;32mFalse\u001b[0m\u001b[1;33m)\u001b[0m\u001b[1;33m\u001b[0m\u001b[0m\n\u001b[0m",
      "\u001b[1;31mNameError\u001b[0m: name 'user_playcount' is not defined"
     ]
    }
   ],
   "source": [
    "user_playcount.to_csv(\"user_playcount.csv\",index=False)"
   ]
  },
  {
   "cell_type": "code",
   "execution_count": 12,
   "metadata": {},
   "outputs": [
    {
     "data": {
      "text/html": [
       "<div>\n",
       "<style>\n",
       "    .dataframe thead tr:only-child th {\n",
       "        text-align: right;\n",
       "    }\n",
       "\n",
       "    .dataframe thead th {\n",
       "        text-align: left;\n",
       "    }\n",
       "\n",
       "    .dataframe tbody tr th {\n",
       "        vertical-align: top;\n",
       "    }\n",
       "</style>\n",
       "<table border=\"1\" class=\"dataframe\">\n",
       "  <thead>\n",
       "    <tr style=\"text-align: right;\">\n",
       "      <th></th>\n",
       "      <th>play_count</th>\n",
       "      <th>user</th>\n",
       "    </tr>\n",
       "  </thead>\n",
       "  <tbody>\n",
       "    <tr>\n",
       "      <th>669980</th>\n",
       "      <td>13132</td>\n",
       "      <td>093cb74eb3c517c5179ae24caf0ebec51b24d2a2</td>\n",
       "    </tr>\n",
       "    <tr>\n",
       "      <th>402687</th>\n",
       "      <td>9884</td>\n",
       "      <td>119b7c88d58d0c6eb051365c103da5caf817bea6</td>\n",
       "    </tr>\n",
       "    <tr>\n",
       "      <th>964856</th>\n",
       "      <td>8210</td>\n",
       "      <td>3fa44653315697f42410a30cb766a4eb102080bb</td>\n",
       "    </tr>\n",
       "    <tr>\n",
       "      <th>462404</th>\n",
       "      <td>7015</td>\n",
       "      <td>a2679496cd0af9779a92a13ff7c6af5c81ea8c7b</td>\n",
       "    </tr>\n",
       "    <tr>\n",
       "      <th>991089</th>\n",
       "      <td>6494</td>\n",
       "      <td>d7d2d888ae04d16e994d6964214a1de81392ee04</td>\n",
       "    </tr>\n",
       "  </tbody>\n",
       "</table>\n",
       "</div>"
      ],
      "text/plain": [
       "        play_count                                      user\n",
       "669980       13132  093cb74eb3c517c5179ae24caf0ebec51b24d2a2\n",
       "402687        9884  119b7c88d58d0c6eb051365c103da5caf817bea6\n",
       "964856        8210  3fa44653315697f42410a30cb766a4eb102080bb\n",
       "462404        7015  a2679496cd0af9779a92a13ff7c6af5c81ea8c7b\n",
       "991089        6494  d7d2d888ae04d16e994d6964214a1de81392ee04"
      ]
     },
     "execution_count": 12,
     "metadata": {},
     "output_type": "execute_result"
    }
   ],
   "source": [
    "user_playcount.head()"
   ]
  },
  {
   "cell_type": "code",
   "execution_count": 14,
   "metadata": {},
   "outputs": [
    {
     "data": {
      "text/plain": [
       "play_count    1019318\n",
       "user          1019318\n",
       "dtype: int64"
      ]
     },
     "execution_count": 14,
     "metadata": {},
     "output_type": "execute_result"
    }
   ],
   "source": [
    "user_playcount.count()"
   ]
  },
  {
   "cell_type": "markdown",
   "metadata": {},
   "source": [
    "# 逐行读取 累计求和"
   ]
  },
  {
   "cell_type": "code",
   "execution_count": 15,
   "metadata": {},
   "outputs": [],
   "source": [
    "song_playcount= {}\n",
    "with open(\"train_triplets.txt\") as f:\n",
    "    for line_number,line in enumerate(f):\n",
    "        song = line.split(\"\\t\")[1]\n",
    "        play_count = int(line.split(\"\\t\")[2])\n",
    "        if song in output_dict:\n",
    "            play_count += output_dict[song]\n",
    "        output_dict.update({song:play_count})\n",
    "output_list = [{\"song\":k, \"play_count\":v} for k,v in output_dict.items()]\n",
    "song_playcount = pd.DataFrame(output_list)\n",
    "song_playcount = song_playcount.sort_values(by=\"play_count\",ascending=False)"
   ]
  },
  {
   "cell_type": "code",
   "execution_count": 16,
   "metadata": {},
   "outputs": [],
   "source": [
    "song_playcount.to_csv(\"song_playcount\",index=False)"
   ]
  },
  {
   "cell_type": "code",
   "execution_count": 17,
   "metadata": {},
   "outputs": [
    {
     "data": {
      "text/html": [
       "<div>\n",
       "<style>\n",
       "    .dataframe thead tr:only-child th {\n",
       "        text-align: right;\n",
       "    }\n",
       "\n",
       "    .dataframe thead th {\n",
       "        text-align: left;\n",
       "    }\n",
       "\n",
       "    .dataframe tbody tr th {\n",
       "        vertical-align: top;\n",
       "    }\n",
       "</style>\n",
       "<table border=\"1\" class=\"dataframe\">\n",
       "  <thead>\n",
       "    <tr style=\"text-align: right;\">\n",
       "      <th></th>\n",
       "      <th>play_count</th>\n",
       "      <th>song</th>\n",
       "    </tr>\n",
       "  </thead>\n",
       "  <tbody>\n",
       "    <tr>\n",
       "      <th>202</th>\n",
       "      <td>726885</td>\n",
       "      <td>SOBONKR12A58A7A7E0</td>\n",
       "    </tr>\n",
       "    <tr>\n",
       "      <th>199</th>\n",
       "      <td>648239</td>\n",
       "      <td>SOAUWYT12A81C206F1</td>\n",
       "    </tr>\n",
       "    <tr>\n",
       "      <th>218</th>\n",
       "      <td>527893</td>\n",
       "      <td>SOSXLTC12AF72A7F54</td>\n",
       "    </tr>\n",
       "    <tr>\n",
       "      <th>22</th>\n",
       "      <td>425463</td>\n",
       "      <td>SOFRQTD12A81C233C0</td>\n",
       "    </tr>\n",
       "    <tr>\n",
       "      <th>206</th>\n",
       "      <td>389880</td>\n",
       "      <td>SOEGIYH12A6D4FC0E3</td>\n",
       "    </tr>\n",
       "  </tbody>\n",
       "</table>\n",
       "</div>"
      ],
      "text/plain": [
       "     play_count                song\n",
       "202      726885  SOBONKR12A58A7A7E0\n",
       "199      648239  SOAUWYT12A81C206F1\n",
       "218      527893  SOSXLTC12AF72A7F54\n",
       "22       425463  SOFRQTD12A81C233C0\n",
       "206      389880  SOEGIYH12A6D4FC0E3"
      ]
     },
     "execution_count": 17,
     "metadata": {},
     "output_type": "execute_result"
    }
   ],
   "source": [
    "song_playcount.head()"
   ]
  },
  {
   "cell_type": "markdown",
   "metadata": {},
   "source": [
    "# 统计用户播放量"
   ]
  },
  {
   "cell_type": "code",
   "execution_count": 19,
   "metadata": {},
   "outputs": [],
   "source": [
    "total_play_count = sum(song_playcount[\"play_count\"])"
   ]
  },
  {
   "cell_type": "code",
   "execution_count": 8,
   "metadata": {},
   "outputs": [
    {
     "ename": "NameError",
     "evalue": "name 'user_playcount' is not defined",
     "output_type": "error",
     "traceback": [
      "\u001b[1;31m---------------------------------------------------------------------------\u001b[0m",
      "\u001b[1;31mNameError\u001b[0m                                 Traceback (most recent call last)",
      "\u001b[1;32m<ipython-input-8-8998c59027d3>\u001b[0m in \u001b[0;36m<module>\u001b[1;34m()\u001b[0m\n\u001b[1;32m----> 1\u001b[1;33m \u001b[0muser_playcount_subset\u001b[0m \u001b[1;33m=\u001b[0m \u001b[0muser_playcount\u001b[0m\u001b[1;33m.\u001b[0m\u001b[0mhead\u001b[0m\u001b[1;33m(\u001b[0m\u001b[1;36m100000\u001b[0m\u001b[1;33m)\u001b[0m\u001b[1;33m\u001b[0m\u001b[0m\n\u001b[0m\u001b[0;32m      2\u001b[0m \u001b[0mpart_play_count\u001b[0m \u001b[1;33m=\u001b[0m \u001b[0muser_playcount_subset\u001b[0m\u001b[1;33m[\u001b[0m\u001b[1;34m\"play_count\"\u001b[0m\u001b[1;33m]\u001b[0m\u001b[1;33m.\u001b[0m\u001b[0msum\u001b[0m\u001b[1;33m(\u001b[0m\u001b[1;33m)\u001b[0m\u001b[1;33m\u001b[0m\u001b[0m\n\u001b[0;32m      3\u001b[0m \u001b[0mpart_play_count\u001b[0m\u001b[1;33m/\u001b[0m\u001b[0mtotal_play_count\u001b[0m\u001b[1;33m\u001b[0m\u001b[0m\n",
      "\u001b[1;31mNameError\u001b[0m: name 'user_playcount' is not defined"
     ]
    }
   ],
   "source": [
    "user_playcount_subset = user_playcount.head(100000)\n",
    "part_play_count = user_playcount_subset[\"play_count\"].sum()\n",
    "part_play_count/total_play_count"
   ]
  },
  {
   "cell_type": "markdown",
   "metadata": {},
   "source": [
    "# 统计歌曲播放量"
   ]
  },
  {
   "cell_type": "code",
   "execution_count": 23,
   "metadata": {},
   "outputs": [
    {
     "data": {
      "text/plain": [
       "0.78393153666452686"
      ]
     },
     "execution_count": 23,
     "metadata": {},
     "output_type": "execute_result"
    }
   ],
   "source": [
    "song_playcount_subset = song_playcount.head(30000)\n",
    "part_play_count = song_playcount_subset['play_count'].sum()\n",
    "part_play_count/total_play_count"
   ]
  },
  {
   "cell_type": "code",
   "execution_count": 24,
   "metadata": {
    "collapsed": true,
    "jupyter": {
     "outputs_hidden": true
    }
   },
   "outputs": [
    {
     "data": {
      "text/html": [
       "<div>\n",
       "<style>\n",
       "    .dataframe thead tr:only-child th {\n",
       "        text-align: right;\n",
       "    }\n",
       "\n",
       "    .dataframe thead th {\n",
       "        text-align: left;\n",
       "    }\n",
       "\n",
       "    .dataframe tbody tr th {\n",
       "        vertical-align: top;\n",
       "    }\n",
       "</style>\n",
       "<table border=\"1\" class=\"dataframe\">\n",
       "  <thead>\n",
       "    <tr style=\"text-align: right;\">\n",
       "      <th></th>\n",
       "      <th>play_count</th>\n",
       "      <th>song</th>\n",
       "    </tr>\n",
       "  </thead>\n",
       "  <tbody>\n",
       "    <tr>\n",
       "      <th>19722</th>\n",
       "      <td>760</td>\n",
       "      <td>SOLXZMD12AB0186993</td>\n",
       "    </tr>\n",
       "    <tr>\n",
       "      <th>68195</th>\n",
       "      <td>760</td>\n",
       "      <td>SOZNPUH12A8C1420C9</td>\n",
       "    </tr>\n",
       "    <tr>\n",
       "      <th>74872</th>\n",
       "      <td>760</td>\n",
       "      <td>SOVNGWS12A58A7C0D9</td>\n",
       "    </tr>\n",
       "    <tr>\n",
       "      <th>155018</th>\n",
       "      <td>760</td>\n",
       "      <td>SOIBMVH12A58A7E936</td>\n",
       "    </tr>\n",
       "    <tr>\n",
       "      <th>59034</th>\n",
       "      <td>760</td>\n",
       "      <td>SOJYRNS12A6D4FB04A</td>\n",
       "    </tr>\n",
       "  </tbody>\n",
       "</table>\n",
       "</div>"
      ],
      "text/plain": [
       "        play_count                song\n",
       "19722          760  SOLXZMD12AB0186993\n",
       "68195          760  SOZNPUH12A8C1420C9\n",
       "74872          760  SOVNGWS12A58A7C0D9\n",
       "155018         760  SOIBMVH12A58A7E936\n",
       "59034          760  SOJYRNS12A6D4FB04A"
      ]
     },
     "execution_count": 24,
     "metadata": {},
     "output_type": "execute_result"
    }
   ],
   "source": [
    "song_playcount_subset.tail()"
   ]
  },
  {
   "cell_type": "code",
   "execution_count": 27,
   "metadata": {},
   "outputs": [],
   "source": [
    "user_subset = list(user_playcount_subset['user'])\n",
    "song_subset = list(song_playcount_subset['song'])"
   ]
  },
  {
   "cell_type": "code",
   "execution_count": null,
   "metadata": {},
   "outputs": [],
   "source": [
    "#triplet_dataset = pd.read_csv(filepath_or_buffer='train_triplets.txt',sep='\\t', \n",
    " #                             header=None, names=['user','song','play_count'])"
   ]
  },
  {
   "cell_type": "markdown",
   "metadata": {},
   "source": [
    "# 过滤数据"
   ]
  },
  {
   "cell_type": "code",
   "execution_count": 26,
   "metadata": {},
   "outputs": [
    {
     "ename": "NameError",
     "evalue": "name 'triplet_dataset' is not defined",
     "output_type": "error",
     "traceback": [
      "\u001b[1;31m---------------------------------------------------------------------------\u001b[0m",
      "\u001b[1;31mNameError\u001b[0m                                 Traceback (most recent call last)",
      "\u001b[1;32m<ipython-input-26-5be670c02490>\u001b[0m in \u001b[0;36m<module>\u001b[1;34m()\u001b[0m\n\u001b[1;32m----> 1\u001b[1;33m \u001b[0mtriplet_dataset_sub_user\u001b[0m \u001b[1;33m=\u001b[0m \u001b[0mtriplet_dataset\u001b[0m\u001b[1;33m[\u001b[0m\u001b[0mtriplet_dataset\u001b[0m\u001b[1;33m[\u001b[0m\u001b[1;34m'user'\u001b[0m\u001b[1;33m]\u001b[0m\u001b[1;33m.\u001b[0m\u001b[0misin\u001b[0m\u001b[1;33m(\u001b[0m\u001b[0muser_subset\u001b[0m\u001b[1;33m)\u001b[0m\u001b[1;33m]\u001b[0m\u001b[1;33m\u001b[0m\u001b[0m\n\u001b[0m\u001b[0;32m      2\u001b[0m \u001b[1;32mdel\u001b[0m\u001b[1;33m(\u001b[0m\u001b[0mtriplet_dataset\u001b[0m\u001b[1;33m)\u001b[0m\u001b[1;33m\u001b[0m\u001b[0m\n",
      "\u001b[1;31mNameError\u001b[0m: name 'triplet_dataset' is not defined"
     ]
    }
   ],
   "source": [
    "triplet_dataset_sub_user = triplet_dataset[triplet_dataset['user'].isin(user_subset)]\n",
    "del(triplet_dataset)"
   ]
  },
  {
   "cell_type": "code",
   "execution_count": 25,
   "metadata": {},
   "outputs": [
    {
     "ename": "NameError",
     "evalue": "name 'triplet_dataset_sub_user' is not defined",
     "output_type": "error",
     "traceback": [
      "\u001b[1;31m---------------------------------------------------------------------------\u001b[0m",
      "\u001b[1;31mNameError\u001b[0m                                 Traceback (most recent call last)",
      "\u001b[1;32m<ipython-input-25-15fa40809e58>\u001b[0m in \u001b[0;36m<module>\u001b[1;34m()\u001b[0m\n\u001b[1;32m----> 1\u001b[1;33m \u001b[0mtriplet_dataset_sub\u001b[0m \u001b[1;33m=\u001b[0m \u001b[0mtriplet_dataset_sub_user\u001b[0m\u001b[1;33m[\u001b[0m\u001b[0mtriplet_dataset_sub_user\u001b[0m\u001b[1;33m[\u001b[0m\u001b[1;34m'song'\u001b[0m\u001b[1;33m]\u001b[0m\u001b[1;33m.\u001b[0m\u001b[0misin\u001b[0m\u001b[1;33m(\u001b[0m\u001b[0msong_subset\u001b[0m\u001b[1;33m)\u001b[0m\u001b[1;33m]\u001b[0m\u001b[1;33m\u001b[0m\u001b[0m\n\u001b[0m\u001b[0;32m      2\u001b[0m \u001b[1;32mdel\u001b[0m\u001b[1;33m(\u001b[0m\u001b[0mtriplet_dataset_sub_user\u001b[0m\u001b[1;33m)\u001b[0m\u001b[1;33m\u001b[0m\u001b[0m\n",
      "\u001b[1;31mNameError\u001b[0m: name 'triplet_dataset_sub_user' is not defined"
     ]
    }
   ],
   "source": [
    "triplet_dataset_sub = triplet_dataset_sub_user[triplet_dataset_sub_user['song'].isin(song_subset)]\n",
    "del(triplet_dataset_sub_user)"
   ]
  },
  {
   "cell_type": "code",
   "execution_count": 30,
   "metadata": {},
   "outputs": [],
   "source": [
    "triplet_dataset_sub.to_csv(\"triplet_dataset_sub.csv\",index=False)"
   ]
  },
  {
   "cell_type": "code",
   "execution_count": 11,
   "metadata": {},
   "outputs": [],
   "source": [
    "triplet_dataset_sub_song = pd.read_csv(filepath_or_buffer='triplet_dataset_sub.csv')"
   ]
  },
  {
   "cell_type": "code",
   "execution_count": 12,
   "metadata": {},
   "outputs": [
    {
     "data": {
      "text/plain": [
       "(10774558, 3)"
      ]
     },
     "execution_count": 12,
     "metadata": {},
     "output_type": "execute_result"
    }
   ],
   "source": [
    "triplet_dataset_sub_song.shape"
   ]
  },
  {
   "cell_type": "code",
   "execution_count": 13,
   "metadata": {},
   "outputs": [
    {
     "data": {
      "text/html": [
       "<div>\n",
       "<style>\n",
       "    .dataframe thead tr:only-child th {\n",
       "        text-align: right;\n",
       "    }\n",
       "\n",
       "    .dataframe thead th {\n",
       "        text-align: left;\n",
       "    }\n",
       "\n",
       "    .dataframe tbody tr th {\n",
       "        vertical-align: top;\n",
       "    }\n",
       "</style>\n",
       "<table border=\"1\" class=\"dataframe\">\n",
       "  <thead>\n",
       "    <tr style=\"text-align: right;\">\n",
       "      <th></th>\n",
       "      <th>user</th>\n",
       "      <th>song</th>\n",
       "      <th>play_count</th>\n",
       "    </tr>\n",
       "  </thead>\n",
       "  <tbody>\n",
       "    <tr>\n",
       "      <th>0</th>\n",
       "      <td>d6589314c0a9bcbca4fee0c93b14bc402363afea</td>\n",
       "      <td>SOADQPP12A67020C82</td>\n",
       "      <td>12</td>\n",
       "    </tr>\n",
       "    <tr>\n",
       "      <th>1</th>\n",
       "      <td>d6589314c0a9bcbca4fee0c93b14bc402363afea</td>\n",
       "      <td>SOAFTRR12AF72A8D4D</td>\n",
       "      <td>1</td>\n",
       "    </tr>\n",
       "    <tr>\n",
       "      <th>2</th>\n",
       "      <td>d6589314c0a9bcbca4fee0c93b14bc402363afea</td>\n",
       "      <td>SOANQFY12AB0183239</td>\n",
       "      <td>1</td>\n",
       "    </tr>\n",
       "    <tr>\n",
       "      <th>3</th>\n",
       "      <td>d6589314c0a9bcbca4fee0c93b14bc402363afea</td>\n",
       "      <td>SOAYATB12A6701FD50</td>\n",
       "      <td>1</td>\n",
       "    </tr>\n",
       "    <tr>\n",
       "      <th>4</th>\n",
       "      <td>d6589314c0a9bcbca4fee0c93b14bc402363afea</td>\n",
       "      <td>SOBOAFP12A8C131F36</td>\n",
       "      <td>7</td>\n",
       "    </tr>\n",
       "  </tbody>\n",
       "</table>\n",
       "</div>"
      ],
      "text/plain": [
       "                                       user                song  play_count\n",
       "0  d6589314c0a9bcbca4fee0c93b14bc402363afea  SOADQPP12A67020C82          12\n",
       "1  d6589314c0a9bcbca4fee0c93b14bc402363afea  SOAFTRR12AF72A8D4D           1\n",
       "2  d6589314c0a9bcbca4fee0c93b14bc402363afea  SOANQFY12AB0183239           1\n",
       "3  d6589314c0a9bcbca4fee0c93b14bc402363afea  SOAYATB12A6701FD50           1\n",
       "4  d6589314c0a9bcbca4fee0c93b14bc402363afea  SOBOAFP12A8C131F36           7"
      ]
     },
     "execution_count": 13,
     "metadata": {},
     "output_type": "execute_result"
    }
   ],
   "source": [
    "triplet_dataset_sub_song.head()"
   ]
  },
  {
   "cell_type": "code",
   "execution_count": 19,
   "metadata": {},
   "outputs": [
    {
     "name": "stdout",
     "output_type": "stream",
     "text": [
      "<class 'pandas.core.frame.DataFrame'>\n",
      "RangeIndex: 10774558 entries, 0 to 10774557\n",
      "Data columns (total 3 columns):\n",
      "user          object\n",
      "song          object\n",
      "play_count    int64\n",
      "dtypes: int64(1), object(2)\n",
      "memory usage: 246.6+ MB\n"
     ]
    }
   ],
   "source": [
    "triplet_dataset_sub_song.info()"
   ]
  },
  {
   "cell_type": "code",
   "execution_count": 14,
   "metadata": {},
   "outputs": [
    {
     "data": {
      "text/plain": [
       "[('songs',)]"
      ]
     },
     "execution_count": 14,
     "metadata": {},
     "output_type": "execute_result"
    }
   ],
   "source": [
    "conn = sqlite3.connect(\"track_metadata(1).db\")\n",
    "cur = conn.cursor()\n",
    "cur.execute(\"select name from sqlite_master where type='table'\")\n",
    "cur.fetchall()"
   ]
  },
  {
   "cell_type": "code",
   "execution_count": 15,
   "metadata": {},
   "outputs": [
    {
     "data": {
      "text/html": [
       "<div>\n",
       "<style scoped>\n",
       "    .dataframe tbody tr th:only-of-type {\n",
       "        vertical-align: middle;\n",
       "    }\n",
       "\n",
       "    .dataframe tbody tr th {\n",
       "        vertical-align: top;\n",
       "    }\n",
       "\n",
       "    .dataframe thead th {\n",
       "        text-align: right;\n",
       "    }\n",
       "</style>\n",
       "<table border=\"1\" class=\"dataframe\">\n",
       "  <thead>\n",
       "    <tr style=\"text-align: right;\">\n",
       "      <th></th>\n",
       "      <th>track_id</th>\n",
       "      <th>title</th>\n",
       "      <th>song_id</th>\n",
       "      <th>release</th>\n",
       "      <th>artist_id</th>\n",
       "      <th>artist_mbid</th>\n",
       "      <th>artist_name</th>\n",
       "      <th>duration</th>\n",
       "      <th>artist_familiarity</th>\n",
       "      <th>artist_hotttnesss</th>\n",
       "      <th>year</th>\n",
       "      <th>track_7digitalid</th>\n",
       "      <th>shs_perf</th>\n",
       "      <th>shs_work</th>\n",
       "    </tr>\n",
       "  </thead>\n",
       "  <tbody>\n",
       "    <tr>\n",
       "      <th>0</th>\n",
       "      <td>TRMMMYQ128F932D901</td>\n",
       "      <td>Silent Night</td>\n",
       "      <td>SOQMMHC12AB0180CB8</td>\n",
       "      <td>Monster Ballads X-Mas</td>\n",
       "      <td>ARYZTJS1187B98C555</td>\n",
       "      <td>357ff05d-848a-44cf-b608-cb34b5701ae5</td>\n",
       "      <td>Faster Pussy cat</td>\n",
       "      <td>252.05506</td>\n",
       "      <td>0.649822</td>\n",
       "      <td>0.394032</td>\n",
       "      <td>2003</td>\n",
       "      <td>7032331</td>\n",
       "      <td>-1</td>\n",
       "      <td>0</td>\n",
       "    </tr>\n",
       "    <tr>\n",
       "      <th>1</th>\n",
       "      <td>TRMMMKD128F425225D</td>\n",
       "      <td>Tanssi vaan</td>\n",
       "      <td>SOVFVAK12A8C1350D9</td>\n",
       "      <td>Karkuteillä</td>\n",
       "      <td>ARMVN3U1187FB3A1EB</td>\n",
       "      <td>8d7ef530-a6fd-4f8f-b2e2-74aec765e0f9</td>\n",
       "      <td>Karkkiautomaatti</td>\n",
       "      <td>156.55138</td>\n",
       "      <td>0.439604</td>\n",
       "      <td>0.356992</td>\n",
       "      <td>1995</td>\n",
       "      <td>1514808</td>\n",
       "      <td>-1</td>\n",
       "      <td>0</td>\n",
       "    </tr>\n",
       "    <tr>\n",
       "      <th>2</th>\n",
       "      <td>TRMMMRX128F93187D9</td>\n",
       "      <td>No One Could Ever</td>\n",
       "      <td>SOGTUKN12AB017F4F1</td>\n",
       "      <td>Butter</td>\n",
       "      <td>ARGEKB01187FB50750</td>\n",
       "      <td>3d403d44-36ce-465c-ad43-ae877e65adc4</td>\n",
       "      <td>Hudson Mohawke</td>\n",
       "      <td>138.97098</td>\n",
       "      <td>0.643681</td>\n",
       "      <td>0.437504</td>\n",
       "      <td>2006</td>\n",
       "      <td>6945353</td>\n",
       "      <td>-1</td>\n",
       "      <td>0</td>\n",
       "    </tr>\n",
       "    <tr>\n",
       "      <th>3</th>\n",
       "      <td>TRMMMCH128F425532C</td>\n",
       "      <td>Si Vos Querés</td>\n",
       "      <td>SOBNYVR12A8C13558C</td>\n",
       "      <td>De Culo</td>\n",
       "      <td>ARNWYLR1187B9B2F9C</td>\n",
       "      <td>12be7648-7094-495f-90e6-df4189d68615</td>\n",
       "      <td>Yerba Brava</td>\n",
       "      <td>145.05751</td>\n",
       "      <td>0.448501</td>\n",
       "      <td>0.372349</td>\n",
       "      <td>2003</td>\n",
       "      <td>2168257</td>\n",
       "      <td>-1</td>\n",
       "      <td>0</td>\n",
       "    </tr>\n",
       "    <tr>\n",
       "      <th>4</th>\n",
       "      <td>TRMMMWA128F426B589</td>\n",
       "      <td>Tangle Of Aspens</td>\n",
       "      <td>SOHSBXH12A8C13B0DF</td>\n",
       "      <td>Rene Ablaze Presents Winter Sessions</td>\n",
       "      <td>AREQDTE1269FB37231</td>\n",
       "      <td></td>\n",
       "      <td>Der Mystic</td>\n",
       "      <td>514.29832</td>\n",
       "      <td>0.000000</td>\n",
       "      <td>0.000000</td>\n",
       "      <td>0</td>\n",
       "      <td>2264873</td>\n",
       "      <td>-1</td>\n",
       "      <td>0</td>\n",
       "    </tr>\n",
       "  </tbody>\n",
       "</table>\n",
       "</div>"
      ],
      "text/plain": [
       "             track_id              title             song_id  \\\n",
       "0  TRMMMYQ128F932D901       Silent Night  SOQMMHC12AB0180CB8   \n",
       "1  TRMMMKD128F425225D        Tanssi vaan  SOVFVAK12A8C1350D9   \n",
       "2  TRMMMRX128F93187D9  No One Could Ever  SOGTUKN12AB017F4F1   \n",
       "3  TRMMMCH128F425532C      Si Vos Querés  SOBNYVR12A8C13558C   \n",
       "4  TRMMMWA128F426B589   Tangle Of Aspens  SOHSBXH12A8C13B0DF   \n",
       "\n",
       "                                release           artist_id  \\\n",
       "0                 Monster Ballads X-Mas  ARYZTJS1187B98C555   \n",
       "1                           Karkuteillä  ARMVN3U1187FB3A1EB   \n",
       "2                                Butter  ARGEKB01187FB50750   \n",
       "3                               De Culo  ARNWYLR1187B9B2F9C   \n",
       "4  Rene Ablaze Presents Winter Sessions  AREQDTE1269FB37231   \n",
       "\n",
       "                            artist_mbid       artist_name   duration  \\\n",
       "0  357ff05d-848a-44cf-b608-cb34b5701ae5  Faster Pussy cat  252.05506   \n",
       "1  8d7ef530-a6fd-4f8f-b2e2-74aec765e0f9  Karkkiautomaatti  156.55138   \n",
       "2  3d403d44-36ce-465c-ad43-ae877e65adc4    Hudson Mohawke  138.97098   \n",
       "3  12be7648-7094-495f-90e6-df4189d68615       Yerba Brava  145.05751   \n",
       "4                                              Der Mystic  514.29832   \n",
       "\n",
       "   artist_familiarity  artist_hotttnesss  year  track_7digitalid  shs_perf  \\\n",
       "0            0.649822           0.394032  2003           7032331        -1   \n",
       "1            0.439604           0.356992  1995           1514808        -1   \n",
       "2            0.643681           0.437504  2006           6945353        -1   \n",
       "3            0.448501           0.372349  2003           2168257        -1   \n",
       "4            0.000000           0.000000     0           2264873        -1   \n",
       "\n",
       "   shs_work  \n",
       "0         0  \n",
       "1         0  \n",
       "2         0  \n",
       "3         0  \n",
       "4         0  "
      ]
     },
     "execution_count": 15,
     "metadata": {},
     "output_type": "execute_result"
    }
   ],
   "source": [
    "track_metadata = pd.read_sql(\"select * from songs\",conn)\n",
    "track_metadata.head()"
   ]
  },
  {
   "cell_type": "markdown",
   "metadata": {},
   "source": [
    "# 恢复环境"
   ]
  },
  {
   "cell_type": "code",
   "execution_count": 7,
   "metadata": {},
   "outputs": [],
   "source": [
    "song_playcount = pd.read_csv(\"song_playcount\")"
   ]
  },
  {
   "cell_type": "code",
   "execution_count": 8,
   "metadata": {},
   "outputs": [],
   "source": [
    "song_playcount_subset = song_playcount.head(30000)"
   ]
  },
  {
   "cell_type": "code",
   "execution_count": 9,
   "metadata": {},
   "outputs": [],
   "source": [
    "song_subset = list(song_playcount_subset['song'])"
   ]
  },
  {
   "cell_type": "code",
   "execution_count": null,
   "metadata": {},
   "outputs": [],
   "source": []
  },
  {
   "cell_type": "code",
   "execution_count": 10,
   "metadata": {},
   "outputs": [],
   "source": [
    "triplet_dataset_sub = pd.read_csv(\"triplet_dataset_sub.csv\")"
   ]
  },
  {
   "cell_type": "code",
   "execution_count": 16,
   "metadata": {},
   "outputs": [],
   "source": [
    "track_metadata_sub = track_metadata[track_metadata['song_id'].isin(song_subset)]\n",
    "del(track_metadata)"
   ]
  },
  {
   "cell_type": "code",
   "execution_count": 17,
   "metadata": {},
   "outputs": [],
   "source": [
    "track_metadata_sub.to_csv(\"track_metadata_sub.csv\",index=False)"
   ]
  },
  {
   "cell_type": "code",
   "execution_count": 18,
   "metadata": {},
   "outputs": [
    {
     "data": {
      "text/html": [
       "<div>\n",
       "<style scoped>\n",
       "    .dataframe tbody tr th:only-of-type {\n",
       "        vertical-align: middle;\n",
       "    }\n",
       "\n",
       "    .dataframe tbody tr th {\n",
       "        vertical-align: top;\n",
       "    }\n",
       "\n",
       "    .dataframe thead th {\n",
       "        text-align: right;\n",
       "    }\n",
       "</style>\n",
       "<table border=\"1\" class=\"dataframe\">\n",
       "  <thead>\n",
       "    <tr style=\"text-align: right;\">\n",
       "      <th></th>\n",
       "      <th>track_id</th>\n",
       "      <th>title</th>\n",
       "      <th>song_id</th>\n",
       "      <th>release</th>\n",
       "      <th>artist_id</th>\n",
       "      <th>artist_mbid</th>\n",
       "      <th>artist_name</th>\n",
       "      <th>duration</th>\n",
       "      <th>artist_familiarity</th>\n",
       "      <th>artist_hotttnesss</th>\n",
       "      <th>year</th>\n",
       "      <th>track_7digitalid</th>\n",
       "      <th>shs_perf</th>\n",
       "      <th>shs_work</th>\n",
       "    </tr>\n",
       "  </thead>\n",
       "  <tbody>\n",
       "    <tr>\n",
       "      <th>115</th>\n",
       "      <td>TRMMGCB128E079651D</td>\n",
       "      <td>Get Along (Feat: Pace Won) (Instrumental)</td>\n",
       "      <td>SOHNWIM12A67ADF7D9</td>\n",
       "      <td>Charango</td>\n",
       "      <td>ARU3C671187FB3F71B</td>\n",
       "      <td>067102ea-9519-4622-9077-57ca4164cfbb</td>\n",
       "      <td>Morcheeba</td>\n",
       "      <td>227.47383</td>\n",
       "      <td>0.819087</td>\n",
       "      <td>0.533117</td>\n",
       "      <td>2002</td>\n",
       "      <td>185967</td>\n",
       "      <td>-1</td>\n",
       "      <td>0</td>\n",
       "    </tr>\n",
       "    <tr>\n",
       "      <th>123</th>\n",
       "      <td>TRMMGTX128F92FB4D9</td>\n",
       "      <td>Viejo</td>\n",
       "      <td>SOECFIW12A8C144546</td>\n",
       "      <td>Caraluna</td>\n",
       "      <td>ARPAAPH1187FB3601B</td>\n",
       "      <td>f69d655c-ffd6-4bee-8c2a-3086b2be2fc6</td>\n",
       "      <td>Bacilos</td>\n",
       "      <td>307.51302</td>\n",
       "      <td>0.595554</td>\n",
       "      <td>0.400705</td>\n",
       "      <td>0</td>\n",
       "      <td>6825058</td>\n",
       "      <td>-1</td>\n",
       "      <td>0</td>\n",
       "    </tr>\n",
       "    <tr>\n",
       "      <th>145</th>\n",
       "      <td>TRMMGDP128F933E59A</td>\n",
       "      <td>I Say A Little Prayer</td>\n",
       "      <td>SOGWEOB12AB018A4D0</td>\n",
       "      <td>The Legendary Hi Records Albums_ Volume 3: Ful...</td>\n",
       "      <td>ARNNRN31187B9AE7B7</td>\n",
       "      <td>fb7272ba-f130-4f0a-934d-6eeea4c18c9a</td>\n",
       "      <td>Al Green</td>\n",
       "      <td>133.58975</td>\n",
       "      <td>0.779490</td>\n",
       "      <td>0.599210</td>\n",
       "      <td>1978</td>\n",
       "      <td>5211723</td>\n",
       "      <td>-1</td>\n",
       "      <td>11898</td>\n",
       "    </tr>\n",
       "    <tr>\n",
       "      <th>172</th>\n",
       "      <td>TRMMHBF12903CF6E59</td>\n",
       "      <td>At the Ball_ That's All</td>\n",
       "      <td>SOJGCRL12A8C144187</td>\n",
       "      <td>Best of Laurel &amp; Hardy - The Lonesome Pine</td>\n",
       "      <td>AR1FEUF1187B9AF3E3</td>\n",
       "      <td>4a8ae4fd-ad6f-4912-851f-093f12ee3572</td>\n",
       "      <td>Laurel &amp; Hardy</td>\n",
       "      <td>123.71546</td>\n",
       "      <td>0.438709</td>\n",
       "      <td>0.307120</td>\n",
       "      <td>0</td>\n",
       "      <td>8645877</td>\n",
       "      <td>-1</td>\n",
       "      <td>0</td>\n",
       "    </tr>\n",
       "    <tr>\n",
       "      <th>191</th>\n",
       "      <td>TRMMHKG12903CDB1B5</td>\n",
       "      <td>Black Gold</td>\n",
       "      <td>SOHNFBA12AB018CD1D</td>\n",
       "      <td>Total Life Forever</td>\n",
       "      <td>ARVXV1J1187FB5BF88</td>\n",
       "      <td>6a65d878-fcd0-42cf-aff9-ca1d636a8bcc</td>\n",
       "      <td>Foals</td>\n",
       "      <td>386.32444</td>\n",
       "      <td>0.842578</td>\n",
       "      <td>0.514523</td>\n",
       "      <td>2010</td>\n",
       "      <td>9007438</td>\n",
       "      <td>-1</td>\n",
       "      <td>0</td>\n",
       "    </tr>\n",
       "  </tbody>\n",
       "</table>\n",
       "</div>"
      ],
      "text/plain": [
       "               track_id                                      title  \\\n",
       "115  TRMMGCB128E079651D  Get Along (Feat: Pace Won) (Instrumental)   \n",
       "123  TRMMGTX128F92FB4D9                                      Viejo   \n",
       "145  TRMMGDP128F933E59A                      I Say A Little Prayer   \n",
       "172  TRMMHBF12903CF6E59                    At the Ball_ That's All   \n",
       "191  TRMMHKG12903CDB1B5                                 Black Gold   \n",
       "\n",
       "                song_id                                            release  \\\n",
       "115  SOHNWIM12A67ADF7D9                                           Charango   \n",
       "123  SOECFIW12A8C144546                                           Caraluna   \n",
       "145  SOGWEOB12AB018A4D0  The Legendary Hi Records Albums_ Volume 3: Ful...   \n",
       "172  SOJGCRL12A8C144187         Best of Laurel & Hardy - The Lonesome Pine   \n",
       "191  SOHNFBA12AB018CD1D                                 Total Life Forever   \n",
       "\n",
       "              artist_id                           artist_mbid     artist_name  \\\n",
       "115  ARU3C671187FB3F71B  067102ea-9519-4622-9077-57ca4164cfbb       Morcheeba   \n",
       "123  ARPAAPH1187FB3601B  f69d655c-ffd6-4bee-8c2a-3086b2be2fc6         Bacilos   \n",
       "145  ARNNRN31187B9AE7B7  fb7272ba-f130-4f0a-934d-6eeea4c18c9a        Al Green   \n",
       "172  AR1FEUF1187B9AF3E3  4a8ae4fd-ad6f-4912-851f-093f12ee3572  Laurel & Hardy   \n",
       "191  ARVXV1J1187FB5BF88  6a65d878-fcd0-42cf-aff9-ca1d636a8bcc           Foals   \n",
       "\n",
       "      duration  artist_familiarity  artist_hotttnesss  year  track_7digitalid  \\\n",
       "115  227.47383            0.819087           0.533117  2002            185967   \n",
       "123  307.51302            0.595554           0.400705     0           6825058   \n",
       "145  133.58975            0.779490           0.599210  1978           5211723   \n",
       "172  123.71546            0.438709           0.307120     0           8645877   \n",
       "191  386.32444            0.842578           0.514523  2010           9007438   \n",
       "\n",
       "     shs_perf  shs_work  \n",
       "115        -1         0  \n",
       "123        -1         0  \n",
       "145        -1     11898  \n",
       "172        -1         0  \n",
       "191        -1         0  "
      ]
     },
     "execution_count": 18,
     "metadata": {},
     "output_type": "execute_result"
    }
   ],
   "source": [
    "track_metadata_sub.head()"
   ]
  },
  {
   "cell_type": "markdown",
   "metadata": {},
   "source": [
    "# 去除重复歌曲"
   ]
  },
  {
   "cell_type": "code",
   "execution_count": 22,
   "metadata": {},
   "outputs": [
    {
     "data": {
      "text/plain": [
       "0"
      ]
     },
     "execution_count": 22,
     "metadata": {},
     "output_type": "execute_result"
    }
   ],
   "source": [
    "track_metadata_sub[\"song_id\"].duplicated().sum()"
   ]
  },
  {
   "cell_type": "code",
   "execution_count": 20,
   "metadata": {},
   "outputs": [],
   "source": [
    "del(track_metadata_sub[\"track_id\"])\n",
    "del(track_metadata_sub[\"artist_mbid\"])"
   ]
  },
  {
   "cell_type": "code",
   "execution_count": 21,
   "metadata": {},
   "outputs": [],
   "source": [
    "track_metadata_sub = track_metadata_sub.drop_duplicates(\"song_id\")"
   ]
  },
  {
   "cell_type": "code",
   "execution_count": 23,
   "metadata": {},
   "outputs": [],
   "source": [
    "triplet_dataset_sub_song_merged=pd.merge(triplet_dataset_sub,\n",
    "                                        track_metadata_sub,\n",
    "                                        how=\"left\",\n",
    "                                        left_on=\"song\",\n",
    "                                        right_on='song_id')"
   ]
  },
  {
   "cell_type": "code",
   "execution_count": 30,
   "metadata": {},
   "outputs": [
    {
     "data": {
      "text/plain": [
       "user                  10774558\n",
       "song                  10774558\n",
       "play_count            10774558\n",
       "title                 10774558\n",
       "song_id               10774558\n",
       "release               10774558\n",
       "artist_id             10774558\n",
       "artist_name           10774558\n",
       "duration              10774558\n",
       "artist_familiarity    10774558\n",
       "artist_hotttnesss     10774558\n",
       "year                  10774558\n",
       "track_7digitalid      10774558\n",
       "shs_perf              10774558\n",
       "shs_work              10774558\n",
       "dtype: int64"
      ]
     },
     "execution_count": 30,
     "metadata": {},
     "output_type": "execute_result"
    }
   ],
   "source": [
    "triplet_dataset_sub_song_merged.count()"
   ]
  },
  {
   "cell_type": "code",
   "execution_count": 24,
   "metadata": {},
   "outputs": [],
   "source": [
    "del(triplet_dataset_sub_song_merged[\"song_id\"])\n",
    "del(triplet_dataset_sub_song_merged[\"artist_id\"])\n",
    "del(triplet_dataset_sub_song_merged[\"duration\"])\n",
    "del(triplet_dataset_sub_song_merged[\"artist_familiarity\"])\n",
    "del(triplet_dataset_sub_song_merged[\"artist_hotttnesss\"])\n",
    "del(triplet_dataset_sub_song_merged[\"track_7digitalid\"])\n",
    "del(triplet_dataset_sub_song_merged[\"shs_perf\"])\n",
    "del(triplet_dataset_sub_song_merged[\"shs_work\"])"
   ]
  },
  {
   "cell_type": "code",
   "execution_count": 25,
   "metadata": {},
   "outputs": [
    {
     "data": {
      "text/plain": [
       "user           10774558\n",
       "song           10774558\n",
       "play_count     10774558\n",
       "title          10774558\n",
       "release        10774558\n",
       "artist_name    10774558\n",
       "year           10774558\n",
       "dtype: int64"
      ]
     },
     "execution_count": 25,
     "metadata": {},
     "output_type": "execute_result"
    }
   ],
   "source": [
    "triplet_dataset_sub_song_merged.count()"
   ]
  },
  {
   "cell_type": "code",
   "execution_count": 26,
   "metadata": {},
   "outputs": [
    {
     "data": {
      "image/png": "[encoded data removed]",
      "text/plain": [
       "<Figure size 432x288 with 1 Axes>"
      ]
     },
     "metadata": {
      "needs_background": "light"
     },
     "output_type": "display_data"
    }
   ],
   "source": [
    "popular_song = triplet_dataset_sub_song_merged[['title','play_count']].groupby('title').sum().reset_index()\n",
    "popular_song_top_20 = popular_song.sort_values('play_count',ascending=False).head(20)\n",
    "\n",
    "objects = (list(popular_song_top_20['title']))\n",
    "y_pos = np.arange(len(objects))\n",
    "performance = list(popular_song_top_20['play_count'])\n",
    "\n",
    "plt.bar(y_pos,performance,align='center',alpha=0.5)\n",
    "plt.xticks(y_pos,objects,rotation=\"vertical\")\n",
    "plt.ylabel('Item coune')\n",
    "plt.title('Most popular songs')\n",
    "plt.show()"
   ]
  },
  {
   "cell_type": "code",
   "execution_count": 27,
   "metadata": {},
   "outputs": [
    {
     "data": {
      "text/plain": [
       "count    99996.000000\n",
       "mean       107.749890\n",
       "std         79.742561\n",
       "min          1.000000\n",
       "25%         53.000000\n",
       "50%         89.000000\n",
       "75%        141.000000\n",
       "max       1189.000000\n",
       "Name: title, dtype: float64"
      ]
     },
     "execution_count": 27,
     "metadata": {},
     "output_type": "execute_result"
    }
   ],
   "source": [
    "user_song_count_distribution = triplet_dataset_sub_song_merged[['user','title']].groupby('user').count().reset_index()\n",
    "user_song_count_distribution.sort_values(by='title',ascending=False)\n",
    "user_song_count_distribution['title'].describe()"
   ]
  },
  {
   "cell_type": "code",
   "execution_count": 28,
   "metadata": {},
   "outputs": [
    {
     "data": {
      "image/png": "[encoded data removed]",
      "text/plain": [
       "<Figure size 432x288 with 1 Axes>"
      ]
     },
     "metadata": {
      "needs_background": "light"
     },
     "output_type": "display_data"
    }
   ],
   "source": [
    "x = user_song_count_distribution['title']\n",
    "n,bins,patches = plt.hist(x,50,facecolor='green',alpha=0.75)\n",
    "plt.xlabel('Play Counts')\n",
    "plt.ylabel('Num of Users')\n",
    "plt.title(r'$\\mathrm{Histogram\\ of\\ User\\ Play\\ Count\\ Distribution}\\ $')\n",
    "plt.grid(True)\n",
    "plt.show()"
   ]
  },
  {
   "cell_type": "markdown",
   "metadata": {},
   "source": [
    "# 推荐"
   ]
  },
  {
   "cell_type": "code",
   "execution_count": 29,
   "metadata": {},
   "outputs": [],
   "source": [
    "from sklearn.model_selection import train_test_split"
   ]
  },
  {
   "cell_type": "code",
   "execution_count": 30,
   "metadata": {},
   "outputs": [],
   "source": [
    "def create_popularity_recommendation(train_data, user_id, item_id):\n",
    "    train_data_grouped = train_data.groupby([item_id]).agg({user_id:'count'}).reset_index()\n",
    "    train_data_grouped.rename(columns={user_id:'score'},inplace=True)\n",
    "    \n",
    "    train_data_sort = train_data_grouped.sort_values(by=['score',item_id], ascending=[False,True])\n",
    "    train_data_sort['Rank'] = train_data_sort['score'].rank(ascending=False,method='first')\n",
    "    \n",
    "    popularity_recommendations = train_data_sort.head(20)\n",
    "    return popularity_recommendations\n"
   ]
  },
  {
   "cell_type": "code",
   "execution_count": 31,
   "metadata": {},
   "outputs": [],
   "source": [
    "recommendations = create_popularity_recommendation(triplet_dataset_sub_song_merged,\"user\",\"title\")"
   ]
  },
  {
   "cell_type": "code",
   "execution_count": 32,
   "metadata": {},
   "outputs": [
    {
     "data": {
      "text/html": [
       "<div>\n",
       "<style scoped>\n",
       "    .dataframe tbody tr th:only-of-type {\n",
       "        vertical-align: middle;\n",
       "    }\n",
       "\n",
       "    .dataframe tbody tr th {\n",
       "        vertical-align: top;\n",
       "    }\n",
       "\n",
       "    .dataframe thead th {\n",
       "        text-align: right;\n",
       "    }\n",
       "</style>\n",
       "<table border=\"1\" class=\"dataframe\">\n",
       "  <thead>\n",
       "    <tr style=\"text-align: right;\">\n",
       "      <th></th>\n",
       "      <th>title</th>\n",
       "      <th>score</th>\n",
       "      <th>Rank</th>\n",
       "    </tr>\n",
       "  </thead>\n",
       "  <tbody>\n",
       "    <tr>\n",
       "      <th>19580</th>\n",
       "      <td>Sehr kosmisch</td>\n",
       "      <td>18626</td>\n",
       "      <td>1.0</td>\n",
       "    </tr>\n",
       "    <tr>\n",
       "      <th>5780</th>\n",
       "      <td>Dog Days Are Over (Radio Edit)</td>\n",
       "      <td>17635</td>\n",
       "      <td>2.0</td>\n",
       "    </tr>\n",
       "    <tr>\n",
       "      <th>27314</th>\n",
       "      <td>You're The One</td>\n",
       "      <td>16085</td>\n",
       "      <td>3.0</td>\n",
       "    </tr>\n",
       "    <tr>\n",
       "      <th>19542</th>\n",
       "      <td>Secrets</td>\n",
       "      <td>15138</td>\n",
       "      <td>4.0</td>\n",
       "    </tr>\n",
       "    <tr>\n",
       "      <th>18636</th>\n",
       "      <td>Revelry</td>\n",
       "      <td>14945</td>\n",
       "      <td>5.0</td>\n",
       "    </tr>\n",
       "  </tbody>\n",
       "</table>\n",
       "</div>"
      ],
      "text/plain": [
       "                                title  score  Rank\n",
       "19580                   Sehr kosmisch  18626   1.0\n",
       "5780   Dog Days Are Over (Radio Edit)  17635   2.0\n",
       "27314                  You're The One  16085   3.0\n",
       "19542                         Secrets  15138   4.0\n",
       "18636                         Revelry  14945   5.0"
      ]
     },
     "execution_count": 32,
     "metadata": {},
     "output_type": "execute_result"
    }
   ],
   "source": [
    "recommendations.head()"
   ]
  },
  {
   "cell_type": "code",
   "execution_count": 34,
   "metadata": {},
   "outputs": [],
   "source": [
    "song_playcount = pd.read_csv(\"song_playcount\")\n",
    "song_play_subset = song_playcount.head(500)\n",
    "song_subset = list(song_play_subset['song'])"
   ]
  },
  {
   "cell_type": "code",
   "execution_count": 35,
   "metadata": {},
   "outputs": [],
   "source": [
    "triplet_dataset_sub_song_merged_sub = triplet_dataset_sub_song_merged[triplet_dataset_sub_song_merged[\"song\"].isin(song_subset)]"
   ]
  },
  {
   "cell_type": "code",
   "execution_count": 36,
   "metadata": {},
   "outputs": [],
   "source": [
    "train_data, test_data = train_test_split(triplet_dataset_sub_song_merged_sub,test_size=0.3,random_state=0)"
   ]
  },
  {
   "cell_type": "code",
   "execution_count": 39,
   "metadata": {},
   "outputs": [],
   "source": [
    "from Item_CF_Recommender import item_base_recommender"
   ]
  },
  {
   "cell_type": "code",
   "execution_count": null,
   "metadata": {},
   "outputs": [],
   "source": [
    "item_base_recommender(train_data)"
   ]
  },
  {
   "cell_type": "code",
   "execution_count": null,
   "metadata": {},
   "outputs": [],
   "source": []
  }
 ],
 "metadata": {
  "kernelspec": {
   "display_name": "testvirtual-eE4p-oil",
   "language": "python",
   "name": "testvirtual-ee4p-oil"
  },
  "language_info": {
   "codemirror_mode": {
    "name": "ipython",
    "version": 3
   },
   "file_extension": ".py",
   "mimetype": "text/x-python",
   "name": "python",
   "nbconvert_exporter": "python",
   "pygments_lexer": "ipython3",
   "version": "3.7.0"
  }
 },
 "nbformat": 4,
 "nbformat_minor": 4
}
